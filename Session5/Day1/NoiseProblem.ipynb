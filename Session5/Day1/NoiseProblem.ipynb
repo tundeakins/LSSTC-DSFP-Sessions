{
 "cells": [
  {
   "cell_type": "markdown",
   "metadata": {},
   "source": [
    "Before beginning this exercise you must download some data files, which can be retrieved from here: \n",
    "\n",
    "https://northwestern.box.com/s/rsb5wjb7dztg2128flzgex4fmq19havu\n",
    "\n",
    "Be sure to move the corresponding files to the directory where you are running this notebook. Furthermore, you will need to provide the path to these data as the variable `dataDir`, below."
   ]
  },
  {
   "cell_type": "code",
   "execution_count": null,
   "metadata": {
    "collapsed": true
   },
   "outputs": [],
   "source": [
    "import os\n",
    "import numpy as np\n",
    "import matplotlib.pyplot as plt\n",
    "\n",
    "from rhlUtils import BBox, CCD, Image, imshow\n",
    "\n",
    "%matplotlib notebook \n",
    "%config InlineBackend.figure_format = 'retina'\n",
    "\n",
    "#%matplotlib qt\n",
    "#%gui qt\n",
    "\n",
    "dataDir = # complete"
   ]
  },
  {
   "cell_type": "markdown",
   "metadata": {},
   "source": [
    "I've provided you with two datasets (\"bias.npz\" and \"bias2.npz\") which are the trimmed image of a CCD from the PFS project.  One has had a bias frame subtracted, one has not.\n",
    "\n",
    "You can read the data into an Image, and the Image object is also able to return a view of the data from a single\n",
    "amplifier (in the range 0..7).  For example, you can say:"
   ]
  },
  {
   "cell_type": "code",
   "execution_count": null,
   "metadata": {
    "collapsed": true
   },
   "outputs": [],
   "source": [
    "bias = Image(os.path.join(dataDir, \"bias.npz\"))\n",
    "\n",
    "aim = bias.getAmpImage(3)\n",
    "\n",
    "plt.clf()\n",
    "imshow(aim)     # or you can use plt.imshow if you'd prefer;  imshow is imported from rhlUtils\n",
    "plt.show();"
   ]
  },
  {
   "cell_type": "markdown",
   "metadata": {},
   "source": [
    "Take a look at the entire image.  Hint:  each amplifier has its own gain\n",
    "\n",
    "Which do you think had a bias frame subtracted?  Why?"
   ]
  },
  {
   "cell_type": "code",
   "execution_count": null,
   "metadata": {
    "collapsed": true
   },
   "outputs": [],
   "source": [
    "bias = Image(os.path.join(dataDir, \"bias.npz\"))\n",
    "\n",
    "plt.clf()\n",
    "imshow(bias.image)\n",
    "plt.show();"
   ]
  },
  {
   "cell_type": "markdown",
   "metadata": {},
   "source": [
    "Write a program to measure the power spectrum of each amplifier separately (but plot them all together).\n",
    "\n",
    "Each row of the data corresponds to a row of the CCD clocked onto the serial register -- but remember that we have trimmed the data to throw away the extended register and overclock.  The CCD object has the magic numbers you need to correct for this:\n",
    "-    rawWidth = 552                      # number of pixels digitised per parallel transfer\n",
    "-    tau_s = 13.92e-6                    # Time for one serial transfer (s)\n",
    "-    tau_p = 222.72e-6                   # Time for one parallel transfer (s)\n",
    "\n",
    "There is also some junk in the data (e.g. cosmic rays, transients at the bottom of the chip) that might affect your results -- a simple n-sigma clip might help.\n",
    "\n",
    "If you've never calculated a power spectrum before you might need some help.  There is code in scipy.signal to do it, but it's a little tricky.  The power spectrum should be essentially flat (but not exactly flat).\n",
    "\n",
    "Which amplifier has the worst low-frequency behaviour?  Was that what you expected?"
   ]
  },
  {
   "cell_type": "code",
   "execution_count": null,
   "metadata": {
    "collapsed": true
   },
   "outputs": [],
   "source": [
    "import scipy.signal\n",
    "\n",
    "bias = Image(os.path.join(dataDir, \"XXX.npz\"))\n",
    "\n",
    "plt.figure(1)\n",
    "plt.clf()\n",
    "\n",
    "for amp in bias.amps:\n",
    "    dat = bias.getAmpImage(amp)\n",
    "\n",
    "    # ...\n",
    "    \n",
    "    plt.plot(1e-3*f, PS, label=str(ampNo))\n",
    "    \n",
    "plt.xlabel(\"frequency (kHz)\")\n",
    "plt.ylabel(\"Power (arbitrary units)\")\n",
    "plt.legend(loc='best')\n",
    "plt.show();"
   ]
  }
 ],
 "metadata": {
  "kernelspec": {
   "display_name": "Python 3",
   "language": "python",
   "name": "python3"
  },
  "language_info": {
   "codemirror_mode": {
    "name": "ipython",
    "version": 3
   },
   "file_extension": ".py",
   "mimetype": "text/x-python",
   "name": "python",
   "nbconvert_exporter": "python",
   "pygments_lexer": "ipython3",
   "version": "3.6.2"
  }
 },
 "nbformat": 4,
 "nbformat_minor": 2
}
