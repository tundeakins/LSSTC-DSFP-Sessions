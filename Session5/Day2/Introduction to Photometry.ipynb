{
 "cells": [
  {
   "cell_type": "markdown",
   "metadata": {},
   "source": [
    "# Introduction to Photometry"
   ]
  },
  {
   "cell_type": "markdown",
   "metadata": {},
   "source": [
    "### Dora Föhring, University of Hawaii Institute for Astronomy"
   ]
  },
  {
   "cell_type": "markdown",
   "metadata": {
    "collapsed": true
   },
   "source": [
    "Aim: Demonstrate photometry on a series of bias and flat field corrected images of a Near Earth Asteroid. "
   ]
  },
  {
   "cell_type": "markdown",
   "metadata": {
    "collapsed": true
   },
   "source": [
    "## 0. Prerequisites"
   ]
  },
  {
   "cell_type": "code",
   "execution_count": null,
   "metadata": {
    "collapsed": true
   },
   "outputs": [],
   "source": [
    "import numpy as np\n",
    "import matplotlib.pyplot as plt\n",
    "import astropy.io.fits as fits\n",
    "## make matplotlib appear in the notebook rather than in a new window\n",
    "%matplotlib inline"
   ]
  },
  {
   "cell_type": "markdown",
   "metadata": {},
   "source": [
    "### 0.1 Directory Set up"
   ]
  },
  {
   "cell_type": "code",
   "execution_count": null,
   "metadata": {
    "collapsed": true
   },
   "outputs": [],
   "source": [
    "datadir = ''\n",
    "objname  = '2016HO3'"
   ]
  },
  {
   "cell_type": "markdown",
   "metadata": {},
   "source": [
    "### 0.2 Display images"
   ]
  },
  {
   "cell_type": "code",
   "execution_count": null,
   "metadata": {
    "collapsed": true
   },
   "outputs": [],
   "source": [
    "def plotfits(imno):\n",
    "    img = fits.open(datadir+objname+'_{0:02d}.fits'.format(numb))[0].data\n",
    "\n",
    "    f = plt.figure(figsize=(10,12))\n",
    "    #im = plt.imshow(img, cmap='hot')\n",
    "    im = plt.imshow(img[480:580, 460:600], cmap='hot')\n",
    "    plt.clim(1800, 2800)\n",
    "    plt.colorbar(im, fraction=0.034, pad=0.04)\n",
    "    plt.savefig(\"figure{0}.png\".format(imno))\n",
    "    plt.show()"
   ]
  },
  {
   "cell_type": "code",
   "execution_count": null,
   "metadata": {
    "collapsed": true,
    "scrolled": false
   },
   "outputs": [],
   "source": [
    "numb = 1 \n",
    "plotfits(numb)"
   ]
  },
  {
   "cell_type": "code",
   "execution_count": null,
   "metadata": {
    "collapsed": true,
    "scrolled": false
   },
   "outputs": [],
   "source": [
    "numb = 2\n",
    "plotfits(numb)"
   ]
  },
  {
   "cell_type": "markdown",
   "metadata": {},
   "source": [
    "## 1. Photometry set up"
   ]
  },
  {
   "cell_type": "markdown",
   "metadata": {},
   "source": [
    "Select part of the image for ease of display."
   ]
  },
  {
   "cell_type": "code",
   "execution_count": null,
   "metadata": {
    "collapsed": true
   },
   "outputs": [],
   "source": [
    "partimg = fits.open(datadir+objname+'_01.fits'.format(numb))[0].data[480:580, 460:600]"
   ]
  },
  {
   "cell_type": "markdown",
   "metadata": {},
   "source": [
    "Define starting values. Fill in values here:"
   ]
  },
  {
   "cell_type": "code",
   "execution_count": null,
   "metadata": {
    "collapsed": true
   },
   "outputs": [],
   "source": [
    "targcen = np.array([##,##])  ## target center\n",
    "compcen = np.array([##,##])  ## comparison center"
   ]
  },
  {
   "cell_type": "markdown",
   "metadata": {},
   "source": [
    "Aperture photometry set up. Play around with adjusting the aperture radii sizes and see the resulting image under 'Tests'"
   ]
  },
  {
   "cell_type": "code",
   "execution_count": null,
   "metadata": {
    "collapsed": true
   },
   "outputs": [],
   "source": [
    "searchr = 6  ## search box size\n",
    "ap_r    = 2   ## aperture radius\n",
    "\n",
    "sky_inner = 3\n",
    "sky_outer = 5"
   ]
  },
  {
   "cell_type": "markdown",
   "metadata": {},
   "source": [
    "### 1.1 Centroiding: Center of Mass"
   ]
  },
  {
   "cell_type": "markdown",
   "metadata": {
    "collapsed": true
   },
   "source": [
    "Calculate Center of Mass (CoM) defined as: $\\bar{x} = \\frac{\\sum A_i x_i}{\\sum A_i }$, $\\bar{y} = \\frac{\\sum A_i  y_i}{\\sum A_i }$."
   ]
  },
  {
   "cell_type": "code",
   "execution_count": null,
   "metadata": {
    "collapsed": true
   },
   "outputs": [],
   "source": [
    "def cent_weight(n):\n",
    "    \"\"\"\n",
    "    Assigns centroid weights\n",
    "    \"\"\"\n",
    "    wghts=np.zeros((n),np.float)\n",
    "    for i in range(n):\n",
    "        wghts[i]=float(i-n/2)+0.5\n",
    "    return wghts\n",
    "\n",
    "def calc_CoM(psf, weights):\n",
    "    \"\"\"\n",
    "    Finds Center of Mass of image\n",
    "    \"\"\"\n",
    "    cent=np.zeros((2),np.float)\n",
    "    ### Write Equations for finding Center of Mass here ###\n",
    "    return cent"
   ]
  },
  {
   "cell_type": "markdown",
   "metadata": {},
   "source": [
    "Use centroiding algorithm to find the actual centers of the targe and comparison."
   ]
  },
  {
   "cell_type": "code",
   "execution_count": null,
   "metadata": {
    "collapsed": true
   },
   "outputs": [],
   "source": [
    "## Cut a box between search limits, centered around targcen\n",
    "targbox = partimg[targcen[0]-searchr : targcen[0]+searchr, targcen[1]-searchr : targcen[1]+searchr]\n",
    "weights = cent_weight(len(targbox))\n",
    "tcenoffset = calc_CoM(targbox, weights)\n",
    "print(tcenoffset)\n",
    "tcenter = targcen + tcenoffset"
   ]
  },
  {
   "cell_type": "markdown",
   "metadata": {},
   "source": [
    "Inspect PSF to see whether shift makes sense"
   ]
  },
  {
   "cell_type": "code",
   "execution_count": null,
   "metadata": {
    "collapsed": true
   },
   "outputs": [],
   "source": [
    "plt.plot(sum(targbox))\n",
    "plt.show()"
   ]
  },
  {
   "cell_type": "code",
   "execution_count": null,
   "metadata": {
    "collapsed": true
   },
   "outputs": [],
   "source": [
    "compbox = partimg[compcen[0]-searchr : compcen[0]+searchr, compcen[1]-searchr : compcen[1]+searchr]\n",
    "compw = cent_weight(len(compbox))\n",
    "ccenoffset = calc_CoM(compbox,compw)\n",
    "ccenter = compcen + ccenoffset"
   ]
  },
  {
   "cell_type": "code",
   "execution_count": null,
   "metadata": {
    "collapsed": true
   },
   "outputs": [],
   "source": [
    "print(tcenter)"
   ]
  },
  {
   "cell_type": "code",
   "execution_count": null,
   "metadata": {
    "collapsed": true
   },
   "outputs": [],
   "source": [
    "compw"
   ]
  },
  {
   "cell_type": "markdown",
   "metadata": {},
   "source": [
    "### 1.2 Aperture Photometry"
   ]
  },
  {
   "cell_type": "markdown",
   "metadata": {},
   "source": [
    "#### Science Aperture"
   ]
  },
  {
   "cell_type": "code",
   "execution_count": null,
   "metadata": {
    "collapsed": true
   },
   "outputs": [],
   "source": [
    "def circle(npix, r1):\n",
    "    \"\"\"\n",
    "    Builds a circle\n",
    "    \"\"\"\n",
    "    pup=np.zeros((npix,npix),np.int)\n",
    "    for i in range(npix):\n",
    "        for j in range(npix):\n",
    "            r=np.sqrt((float(i-npix/2)+0.5)**2+(float(j-npix/2)+0.5)**2)\n",
    "            if r<=r1:\n",
    "                pup[i,j]=1\n",
    "    return pup"
   ]
  },
  {
   "cell_type": "markdown",
   "metadata": {},
   "source": [
    "#### Sky annulus"
   ]
  },
  {
   "cell_type": "code",
   "execution_count": null,
   "metadata": {
    "collapsed": true
   },
   "outputs": [],
   "source": [
    "def annulus(npix, r_inner,r_outer=-1.):\n",
    "    \"\"\"\n",
    "    Builds an annulus\n",
    "    \"\"\"\n",
    "    pup=np.zeros((npix,npix),np.int)\n",
    "    for i in range(npix):\n",
    "        for j in range(npix):\n",
    "            #### Fill in annulus form here ####\n",
    "            if ((r<=r_outer)&(r>=r_inner)):\n",
    "                pup[i,j]=1\n",
    "    return pup"
   ]
  },
  {
   "cell_type": "markdown",
   "metadata": {
    "collapsed": true
   },
   "source": [
    "#### Extract values from regions"
   ]
  },
  {
   "cell_type": "markdown",
   "metadata": {},
   "source": [
    "Create mask"
   ]
  },
  {
   "cell_type": "code",
   "execution_count": null,
   "metadata": {
    "collapsed": true
   },
   "outputs": [],
   "source": [
    "circmask = circle(searchr*2, ap_r)\n",
    "annmask = annulus(searchr*2, sky_inner, sky_outer)"
   ]
  },
  {
   "cell_type": "markdown",
   "metadata": {},
   "source": [
    "Define new regions where the target and comparison are centered."
   ]
  },
  {
   "cell_type": "code",
   "execution_count": null,
   "metadata": {
    "collapsed": true
   },
   "outputs": [],
   "source": [
    "newtarg = partimg[int(round(tcenter[0]))-searchr : int(round(tcenter[0]))+searchr, int(round(tcenter[1]))-searchr : int(round(tcenter[1]))+searchr]\n",
    "newcomp = partimg[int(round(ccenter[0]))-searchr : int(round(ccenter[0]))+searchr, int(round(ccenter[1]))-searchr : int(round(ccenter[1]))+searchr]"
   ]
  },
  {
   "cell_type": "markdown",
   "metadata": {},
   "source": [
    "Place mask on region"
   ]
  },
  {
   "cell_type": "code",
   "execution_count": null,
   "metadata": {
    "collapsed": true
   },
   "outputs": [],
   "source": [
    "targaper = newtarg * circmask\n",
    "compaper = newcomp * circmask"
   ]
  },
  {
   "cell_type": "markdown",
   "metadata": {},
   "source": [
    "Place mask on sky annulus slice. "
   ]
  },
  {
   "cell_type": "code",
   "execution_count": null,
   "metadata": {
    "collapsed": true
   },
   "outputs": [],
   "source": [
    "targann = newtarg * annmask\n",
    "compann = newcomp * annmask"
   ]
  },
  {
   "cell_type": "markdown",
   "metadata": {},
   "source": [
    "### 1.3 Tests"
   ]
  },
  {
   "cell_type": "markdown",
   "metadata": {},
   "source": [
    "a. Display image with target and comparison centers before and after centroiding"
   ]
  },
  {
   "cell_type": "code",
   "execution_count": null,
   "metadata": {
    "collapsed": true,
    "scrolled": true
   },
   "outputs": [],
   "source": [
    "im = plt.imshow(partimg, cmap='hot')\n",
    "plt.clim(1800, 2800)\n",
    "plt.scatter(targcen[1], targcen[0], c='g', marker='x')\n",
    "plt.scatter(compcen[1], compcen[0], c='g', marker='x')\n",
    "plt.scatter(tcenter[1], tcenter[0], c='b', marker='x')\n",
    "plt.scatter(ccenter[1], ccenter[0], c='b', marker='x')\n",
    "plt.show()"
   ]
  },
  {
   "cell_type": "markdown",
   "metadata": {
    "collapsed": true
   },
   "source": [
    "b. Disply image with aperture mask and sky annulus"
   ]
  },
  {
   "cell_type": "code",
   "execution_count": null,
   "metadata": {
    "collapsed": true
   },
   "outputs": [],
   "source": [
    "im = plt.imshow(targaper, cmap='hot')\n",
    "plt.clim(1800, 2800)\n",
    "plt.show()"
   ]
  },
  {
   "cell_type": "code",
   "execution_count": null,
   "metadata": {
    "collapsed": true
   },
   "outputs": [],
   "source": [
    "im = plt.imshow(targann, cmap='hot')\n",
    "plt.clim(1800, 2800)\n",
    "plt.show()"
   ]
  },
  {
   "cell_type": "markdown",
   "metadata": {},
   "source": [
    "## 2. Photometry"
   ]
  },
  {
   "cell_type": "markdown",
   "metadata": {
    "collapsed": true
   },
   "source": [
    "### 2.1 Calculate SNR"
   ]
  },
  {
   "cell_type": "markdown",
   "metadata": {},
   "source": [
    "Calculate Signal-to-Noise Ratio. CCD noise = sqrt(signal + background + dark current + read noise). Ignore dark current and read noise here. "
   ]
  },
  {
   "cell_type": "code",
   "execution_count": null,
   "metadata": {
    "collapsed": true
   },
   "outputs": [],
   "source": [
    "def calcsnr(target, bg):\n",
    "    signal = target - bg\n",
    "    noise = np.sqrt(signal + bg)\n",
    "    snr = signal / noise\n",
    "    return snr, noise   "
   ]
  },
  {
   "cell_type": "markdown",
   "metadata": {},
   "source": [
    "Sum all flux inside target and comparison apertures and divide by number of pixels to get average count per pixel."
   ]
  },
  {
   "cell_type": "code",
   "execution_count": null,
   "metadata": {
    "collapsed": true
   },
   "outputs": [],
   "source": [
    "targc = np.sum(targaper) / np.sum(circmask)\n",
    "targbg= np.sum(targann) /  np.sum(annmask)\n",
    "compc = np.sum(compaper) /  np.sum(circmask)\n",
    "compbg= np.sum(compann) /  np.sum(annmask)"
   ]
  },
  {
   "cell_type": "code",
   "execution_count": null,
   "metadata": {
    "collapsed": true
   },
   "outputs": [],
   "source": [
    "snr, noise = calcsnr(targc, targbg)\n",
    "print(snr)"
   ]
  },
  {
   "cell_type": "code",
   "execution_count": null,
   "metadata": {
    "collapsed": true
   },
   "outputs": [],
   "source": [
    "snr, noise = calcsnr(compc, compbg)\n",
    "print(snr)"
   ]
  },
  {
   "cell_type": "markdown",
   "metadata": {
    "collapsed": true
   },
   "source": [
    "### 2.2 Optimize photometry aperture"
   ]
  },
  {
   "cell_type": "code",
   "execution_count": null,
   "metadata": {
    "collapsed": true
   },
   "outputs": [],
   "source": [
    "## Write code here that tries a range of photometry apertures and finds the best SNR ##"
   ]
  },
  {
   "cell_type": "code",
   "execution_count": null,
   "metadata": {
    "collapsed": true
   },
   "outputs": [],
   "source": [
    "print(bestaper)\n",
    "print(snr)"
   ]
  },
  {
   "cell_type": "markdown",
   "metadata": {
    "collapsed": true
   },
   "source": [
    "### 2.3 Calculate the target's magnitude and uncertainty\n"
   ]
  },
  {
   "cell_type": "markdown",
   "metadata": {},
   "source": [
    "Given the comparison is of known magnitude of 19.4"
   ]
  },
  {
   "cell_type": "code",
   "execution_count": null,
   "metadata": {
    "collapsed": true
   },
   "outputs": [],
   "source": [
    "targc = circle(searchr*2, ap_r)*newtarg\n",
    "targskyc = annulus(searchr*2, sky_inner, sky_outer)*newtarg\n",
    "compc = circle(searchr*2, ap_r)*newcomp\n",
    "compskyc = annulus(searchr*2, sky_inner, sky_outer)*newcomp\n",
    "\n",
    "ratio = np.sum(compc)/np.sum(targc)\n",
    "### complete here ###\n",
    "### complete here ###\n",
    "### complete here ###\n",
    "\n",
    "refmag = 19.4\n",
    "### complete here ###\n",
    "print(\"Measured Magnitude = {:0.3f} ± {:0.3f}\".format(mag, sigmamag))"
   ]
  },
  {
   "cell_type": "markdown",
   "metadata": {},
   "source": [
    "# Further Exercises\n",
    "\n",
    "a. Perform photometry on all 10 images of the asteroid and find its period of rotation.\n",
    "\n",
    "b. Perform photometry using Gaussian PSF fitting. "
   ]
  }
 ],
 "metadata": {
  "kernelspec": {
   "display_name": "Python 3",
   "language": "python",
   "name": "python3"
  },
  "language_info": {
   "codemirror_mode": {
    "name": "ipython",
    "version": 3
   },
   "file_extension": ".py",
   "mimetype": "text/x-python",
   "name": "python",
   "nbconvert_exporter": "python",
   "pygments_lexer": "ipython3",
   "version": "3.6.2"
  }
 },
 "nbformat": 4,
 "nbformat_minor": 2
}
