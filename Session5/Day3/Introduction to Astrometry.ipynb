{
 "cells": [
  {
   "cell_type": "markdown",
   "metadata": {},
   "source": [
    "# Introduction to Astrometry - Exercises"
   ]
  },
  {
   "cell_type": "markdown",
   "metadata": {},
   "source": [
    "### Dora Föhring, University of Hawaii Institute for Astronomy"
   ]
  },
  {
   "cell_type": "markdown",
   "metadata": {
    "collapsed": true
   },
   "source": [
    "Aim: To measure the position and uncertainty of a Near Earth Asteroid"
   ]
  },
  {
   "cell_type": "markdown",
   "metadata": {
    "collapsed": true
   },
   "source": [
    "## 0. Prerequisites"
   ]
  },
  {
   "cell_type": "markdown",
   "metadata": {},
   "source": [
    "If you do not have `astroquery` installed, you will need to add it to your conda environment (from the command line):\n",
    "\n",
    "    conda install -c astropy astroquery"
   ]
  },
  {
   "cell_type": "code",
   "execution_count": null,
   "metadata": {
    "collapsed": true
   },
   "outputs": [],
   "source": [
    "import numpy as np\n",
    "import matplotlib.pyplot as plt\n",
    "import astropy.io.fits as fits\n",
    "from astropy import wcs\n",
    "from astroquery.gaia import Gaia\n",
    "## make matplotlib appear in the notebook rather than in a new window\n",
    "%matplotlib inline"
   ]
  },
  {
   "cell_type": "markdown",
   "metadata": {},
   "source": [
    "### 0.1 Directory Set up & Display Image"
   ]
  },
  {
   "cell_type": "code",
   "execution_count": null,
   "metadata": {
    "collapsed": true
   },
   "outputs": [],
   "source": [
    "datadir = ''\n",
    "objname  = '2016HO3'"
   ]
  },
  {
   "cell_type": "code",
   "execution_count": null,
   "metadata": {
    "collapsed": true
   },
   "outputs": [],
   "source": [
    "def plotfits(imno):\n",
    "    img = fits.open(datadir+objname+'_{0:02d}.fits'.format(imno))[0].data\n",
    "\n",
    "    f = plt.figure(figsize=(10,12))\n",
    "    im = plt.imshow(img, cmap='hot')\n",
    "    im = plt.imshow(img[480:560, 460:540], cmap='hot')\n",
    "    plt.clim(1800, 2800)\n",
    "    plt.colorbar(im, fraction=0.046, pad=0.04)\n",
    "    plt.savefig(\"figure{0}.png\".format(imno))\n",
    "    plt.show()"
   ]
  },
  {
   "cell_type": "code",
   "execution_count": null,
   "metadata": {
    "collapsed": true
   },
   "outputs": [],
   "source": [
    "numb = 1 \n",
    "plotfits(numb)"
   ]
  },
  {
   "cell_type": "markdown",
   "metadata": {},
   "source": [
    "## 1. Centroiding on Images"
   ]
  },
  {
   "cell_type": "markdown",
   "metadata": {},
   "source": [
    "Write a text file with image centers.\n",
    "Write code to open each image and extract centroid position from previous exercise.\n",
    "Save results in a text file."
   ]
  },
  {
   "cell_type": "code",
   "execution_count": null,
   "metadata": {
    "collapsed": true
   },
   "outputs": [],
   "source": [
    "centers = np.array([[502,501], [502,501]])\n",
    "np.savetxt('centers.txt', centers, fmt='%i')\n",
    "centers = np.loadtxt('centers.txt', dtype='int')"
   ]
  },
  {
   "cell_type": "code",
   "execution_count": null,
   "metadata": {
    "collapsed": true
   },
   "outputs": [],
   "source": [
    "searchr = 5"
   ]
  },
  {
   "cell_type": "markdown",
   "metadata": {},
   "source": [
    "### 1.1 Center of Mass"
   ]
  },
  {
   "cell_type": "code",
   "execution_count": null,
   "metadata": {
    "collapsed": true
   },
   "outputs": [],
   "source": [
    "def cent_weight(n):\n",
    "    \"\"\"\n",
    "    Assigns centroid weights\n",
    "    \"\"\"\n",
    "    wghts=np.zeros((n),np.float)\n",
    "    for i in range(n):\n",
    "        wghts[i]=float(i-n/2)+0.5\n",
    "    return wghts\n",
    "\n",
    "def calc_CoM(psf, weights):\n",
    "    \"\"\"\n",
    "    Finds Center of Mass of image\n",
    "    \"\"\"\n",
    "    cent=np.zeros((2),np.float)\n",
    "    temp=sum(sum(psf) - min(sum(psf) ))\n",
    "    cent[1]=sum(( sum(psf) - min(sum(psf)) ) * weights)/temp\n",
    "    cent[0]=sum(( sum(psf.T) - min(sum(psf.T)) ) *weights)/temp\n",
    "    return cent"
   ]
  },
  {
   "cell_type": "code",
   "execution_count": null,
   "metadata": {
    "collapsed": true
   },
   "outputs": [],
   "source": [
    "centlist = []\n",
    "for i, center in enumerate(centers):\n",
    "    image = fits.open(datadir+objname+'_{0:02d}.fits'.format(i+1))[0].data\n",
    "    searchbox = image[center[0]-searchr : center[0]+searchr, center[1]-searchr : center[1]+searchr]\n",
    "    boxlen = len(searchbox)\n",
    "    weights = cent_weight(boxlen)\n",
    "    cen_offset = calc_CoM(searchbox, weights)\n",
    "    centlist.append(center + cen_offset)"
   ]
  },
  {
   "cell_type": "code",
   "execution_count": null,
   "metadata": {
    "collapsed": true
   },
   "outputs": [],
   "source": [
    "print(centlist[0])"
   ]
  },
  {
   "cell_type": "markdown",
   "metadata": {},
   "source": [
    "## 2. Identifying Stars in the Field"
   ]
  },
  {
   "cell_type": "markdown",
   "metadata": {},
   "source": [
    "#### Ex 1. Write code to identify stars in the field. "
   ]
  },
  {
   "cell_type": "markdown",
   "metadata": {},
   "source": [
    "One way to do it would be:  \n",
    "Create a new image using an mapping arc sinh that captures the full dynamic range effectively.  \n",
    "Locate lower and upper bounds that should include only stars.  \n",
    "Refine the parameters to optimize the extraction of stars from background."
   ]
  },
  {
   "cell_type": "code",
   "execution_count": null,
   "metadata": {
    "collapsed": true
   },
   "outputs": [],
   "source": [
    "no = 1\n",
    "image = fits.open(datadir+objname+'_{0:02d}.fits'.format(no))[0].data"
   ]
  },
  {
   "cell_type": "markdown",
   "metadata": {},
   "source": [
    "#### 1.a. Create a new image using an mapping arc sinh that captures the full dynamic range effectively. Consider Gaussian smoothing to get rid of inhomogineties in the image. "
   ]
  },
  {
   "cell_type": "code",
   "execution_count": null,
   "metadata": {
    "collapsed": true
   },
   "outputs": [],
   "source": [
    "## Some functions you may want to use\n",
    "import skimage.exposure as skie\n",
    "from scipy.ndimage import gaussian_filter"
   ]
  },
  {
   "cell_type": "code",
   "execution_count": null,
   "metadata": {
    "collapsed": true
   },
   "outputs": [],
   "source": [
    "### code here ###\n",
    "### code here ###\n",
    "### code here ###\n",
    "### code here ###\n",
    "### code here ###\n",
    "### code here ###"
   ]
  },
  {
   "cell_type": "markdown",
   "metadata": {},
   "source": [
    "#### 1.b. Create a new image that is scaled between the lower and upper limits for displaying the star map.  \n",
    "Search the arcsinh-stretched original image for local maxima and catalog those brighter than a threshold that is adjusted based on the image."
   ]
  },
  {
   "cell_type": "code",
   "execution_count": null,
   "metadata": {
    "collapsed": true
   },
   "outputs": [],
   "source": [
    "## Consider using\n",
    "import skimage.morphology as morph"
   ]
  },
  {
   "cell_type": "code",
   "execution_count": null,
   "metadata": {
    "collapsed": true
   },
   "outputs": [],
   "source": [
    "### code here ###\n",
    "### code here ###\n",
    "### code here ###\n",
    "### code here ###\n",
    "### code here ###"
   ]
  },
  {
   "cell_type": "markdown",
   "metadata": {},
   "source": [
    "Plot image with identified stars and target"
   ]
  },
  {
   "cell_type": "code",
   "execution_count": null,
   "metadata": {
    "collapsed": true
   },
   "outputs": [],
   "source": [
    "f = plt.figure(figsize=(10,12))\n",
    "plt.imshow(opt_img, cmap='hot')\n",
    "plt.colorbar(fraction=0.046, pad=0.04)\n",
    "plt.scatter(x2, y2, s=80, facecolors='none', edgecolors='r')\n",
    "plt.scatter(502.01468185, 501.00082137, s=80, facecolors='none', edgecolors='y' )\n",
    "plt.show()"
   ]
  },
  {
   "cell_type": "markdown",
   "metadata": {},
   "source": [
    "## 3. Converting pixel coordinates to WCS"
   ]
  },
  {
   "cell_type": "code",
   "execution_count": null,
   "metadata": {
    "collapsed": true
   },
   "outputs": [],
   "source": [
    "def load_wcs_from_file(filename, xx, yy):\n",
    "    # Load the FITS hdulist using astropy.io.fits\n",
    "    hdulist = fits.open(filename)\n",
    "\n",
    "    # Parse the WCS keywords in the primary HDU\n",
    "    w = wcs.WCS(hdulist[0].header)\n",
    "\n",
    "    # Print out the \"name\" of the WCS, as defined in the FITS header\n",
    "    print(w.wcs.name)\n",
    "\n",
    "    # Print out all of the settings that were parsed from the header\n",
    "    w.wcs.print_contents()\n",
    "\n",
    "    # Coordinates of interest.\n",
    "    # Note we've silently assumed a NAXIS=2 image here\n",
    "    targcrd = np.array([centlist[0]], np.float_)\n",
    "    \n",
    "    starscrd = np.array([xx, yy], np.float_)\n",
    "\n",
    "    # Convert pixel coordinates to world coordinates\n",
    "    # The second argument is \"origin\".\n",
    "    world = w.wcs_pix2world(starscrd.T, 0)\n",
    "\n",
    "    return w, world"
   ]
  },
  {
   "cell_type": "markdown",
   "metadata": {},
   "source": [
    "Find position of Asteroid in WCS"
   ]
  },
  {
   "cell_type": "code",
   "execution_count": null,
   "metadata": {
    "collapsed": true
   },
   "outputs": [],
   "source": [
    "wparams, scoords = load_wcs_from_file(datadir+objname+'_{0:02d}.fits'.format(1), x2, y2)"
   ]
  },
  {
   "cell_type": "code",
   "execution_count": null,
   "metadata": {
    "collapsed": true
   },
   "outputs": [],
   "source": [
    "print(scoords)"
   ]
  },
  {
   "cell_type": "code",
   "execution_count": null,
   "metadata": {
    "collapsed": true
   },
   "outputs": [],
   "source": [
    "wparams, tcoords = load_wcs_from_file(datadir+objname+'_{0:02d}.fits'.format(1), np.array([centlist[0][0]]), np.array([centlist[0][1]]))"
   ]
  },
  {
   "cell_type": "code",
   "execution_count": null,
   "metadata": {
    "collapsed": true
   },
   "outputs": [],
   "source": [
    "print(tcoords)"
   ]
  },
  {
   "cell_type": "markdown",
   "metadata": {},
   "source": [
    "## 3. Matching"
   ]
  },
  {
   "cell_type": "markdown",
   "metadata": {},
   "source": [
    "### 3.1 Get astrometric catalog"
   ]
  },
  {
   "cell_type": "code",
   "execution_count": null,
   "metadata": {
    "collapsed": true
   },
   "outputs": [],
   "source": [
    "job = Gaia.launch_job_async(\"SELECT * \\\n",
    "FROM gaiadr1.gaia_source \\\n",
    "WHERE CONTAINS(POINT('ICRS',gaiadr1.gaia_source.ra,gaiadr1.gaia_source.dec),CIRCLE('ICRS', 193.34, 33.86, 0.08))=1;\" \\\n",
    ", dump_to_file=True)\n",
    "\n",
    "print (job)"
   ]
  },
  {
   "cell_type": "code",
   "execution_count": null,
   "metadata": {
    "collapsed": true,
    "scrolled": false
   },
   "outputs": [],
   "source": [
    "r = job.get_results()\n",
    "print (r['source_id'], r['ra'], r['dec'])\n",
    "print(type(r['ra']))"
   ]
  },
  {
   "cell_type": "markdown",
   "metadata": {},
   "source": [
    "## 3.2 Perform Match"
   ]
  },
  {
   "cell_type": "markdown",
   "metadata": {},
   "source": [
    "Convert Gaia WCS coordinates to pixels"
   ]
  },
  {
   "cell_type": "code",
   "execution_count": null,
   "metadata": {
    "collapsed": true
   },
   "outputs": [],
   "source": [
    "ra  = np.array(r['ra'])\n",
    "dec = np.array(r['dec'])\n",
    "\n",
    "xpix, ypix = ### fill in one line here ###"
   ]
  },
  {
   "cell_type": "markdown",
   "metadata": {},
   "source": [
    "Plot Gaia stars over identified stars in image"
   ]
  },
  {
   "cell_type": "code",
   "execution_count": null,
   "metadata": {
    "collapsed": true,
    "scrolled": false
   },
   "outputs": [],
   "source": [
    "f = plt.figure(figsize=(20,22))\n",
    "plt.imshow(opt_img, cmap='hot')\n",
    "plt.colorbar(fraction=0.046, pad=0.04)\n",
    "plt.scatter(x2, y2, s=80, facecolors='none', edgecolors='r')\n",
    "plt.scatter(xpix, ypix, s=80, facecolors='none', edgecolors='g')\n",
    "#plt.scatter(xpix[17], ypix[17], s=80, facecolors='none', edgecolors='y')\n",
    "plt.imshow(opt_img, cmap='hot')\n",
    "plt.show()"
   ]
  },
  {
   "cell_type": "markdown",
   "metadata": {},
   "source": [
    "#### Ex. 2 Find the amount of shift needed. "
   ]
  },
  {
   "cell_type": "markdown",
   "metadata": {},
   "source": [
    "Match catalogue stars to identified stars and measure amount of shift needed to overlay FoV stars to catalogue."
   ]
  },
  {
   "cell_type": "markdown",
   "metadata": {},
   "source": [
    "E.g. Find closest star to one of the Gaia stars near the center of image. Find magnitude of shift. Shift all other Gaia stars and see whether resulting difference is small."
   ]
  },
  {
   "cell_type": "code",
   "execution_count": null,
   "metadata": {
    "collapsed": true
   },
   "outputs": [],
   "source": [
    "### code here ###\n",
    "### code here ###\n",
    "### code here ###\n",
    "### code here ###\n",
    "### code here ###\n",
    "### code here ###\n",
    "### code here ###\n",
    "### code here ###\n",
    "### code here ###\n",
    "### code here ###\n",
    "### code here ###\n",
    "### code here ###\n",
    "### code here ###\n",
    "### code here ###\n",
    "### code here ###"
   ]
  },
  {
   "cell_type": "markdown",
   "metadata": {},
   "source": [
    "Shift"
   ]
  },
  {
   "cell_type": "code",
   "execution_count": null,
   "metadata": {
    "collapsed": true
   },
   "outputs": [],
   "source": [
    "targshifted = centlist[0] + np.array([xshift, yshift])"
   ]
  },
  {
   "cell_type": "markdown",
   "metadata": {
    "collapsed": true
   },
   "source": [
    "Convert shifted coordinate into WCS"
   ]
  },
  {
   "cell_type": "code",
   "execution_count": null,
   "metadata": {
    "collapsed": true
   },
   "outputs": [],
   "source": [
    "wparams, tscoords = load_wcs_from_file(datadir+objname+'_{0:02d}.fits'.format(1), np.array([targshifted[0][0][0]]), np.array([targshifted[0][0][1]]))"
   ]
  },
  {
   "cell_type": "markdown",
   "metadata": {},
   "source": [
    "## Bonus questions"
   ]
  },
  {
   "cell_type": "markdown",
   "metadata": {},
   "source": [
    "#### B1. Write a function for centroiding using Gaussian PSF fitting."
   ]
  },
  {
   "cell_type": "markdown",
   "metadata": {},
   "source": [
    "#### B2. The stars are actually slightly trailed. How would you fit trailed stars?"
   ]
  }
 ],
 "metadata": {
  "kernelspec": {
   "display_name": "Python 3",
   "language": "python",
   "name": "python3"
  },
  "language_info": {
   "codemirror_mode": {
    "name": "ipython",
    "version": 3
   },
   "file_extension": ".py",
   "mimetype": "text/x-python",
   "name": "python",
   "nbconvert_exporter": "python",
   "pygments_lexer": "ipython3",
   "version": "3.6.2"
  }
 },
 "nbformat": 4,
 "nbformat_minor": 2
}
