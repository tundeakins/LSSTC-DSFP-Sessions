{
 "cells": [
  {
   "cell_type": "markdown",
   "metadata": {},
   "source": [
    "# Image Differencing Challenge Exercise\n",
    "#### Written by Gautham Narayan (gnarayan@stsci.edu) for LSST DSFP #5\n",
    "\n",
    "### In the last couple of exercises, you determined the WCS solution for a couple of images and reprojected them on to a common grid, and made stacks out of them. Now we're going to use the same reprojected images from the last exercise. Except instead of stacking them, we're going to difference them. You should have already grabbed that tarball from my Dropbox. If not, get this and extract it.\n",
    "\n",
    "## https://www.dropbox.com/s/7cpuegjdxv6lte7/bundle_sw.tar.gz?dl=0\n",
    "\n",
    "\n",
    "### In this directory, you should find a single image that you can use as a template. Your mission, should you choose to accept it, is to take that reference image, and all the warped images in the tarball, and construct difference images. \n",
    "\n",
    "### For image subtraction you installed the `ois` (optimal image subtraction) python module. Or the presentation includes links to a python implementation of ZOGY.\n",
    "\n",
    "### There is one supernova in the field. \n",
    "\n",
    "### Figure out it's coordinates. \n",
    "\n",
    "### Get a flux light curve using photutils.\n",
    "\n",
    "### You can even compare your result against what I did back in the day... if you have the field WCS, you can look for publically available supernova light curves on James Guillochon's Open Supernova Catalog (http://sne.space/). Once you find the one in the field, you can compare your light curve against what I uploaded to sne.space.\n",
    "\n",
    "### This isn't an easy thing for a single LSST DSFP session, but if you get it done, send me a solution notebook, and I'll buy you a cheeseburger/drink. \n",
    "\n",
    "### You'll have earned it."
   ]
  },
  {
   "cell_type": "code",
   "execution_count": null,
   "metadata": {},
   "outputs": [],
   "source": [
    "#### Good luck ####"
   ]
  }
 ],
 "metadata": {
  "kernelspec": {
   "display_name": "Python (dsfp5)",
   "language": "python",
   "name": "dsfp5"
  },
  "language_info": {
   "codemirror_mode": {
    "name": "ipython",
    "version": 3
   },
   "file_extension": ".py",
   "mimetype": "text/x-python",
   "name": "python",
   "nbconvert_exporter": "python",
   "pygments_lexer": "ipython3",
   "version": "3.6.4"
  }
 },
 "nbformat": 4,
 "nbformat_minor": 2
}
