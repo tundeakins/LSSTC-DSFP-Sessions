{
 "cells": [
  {
   "cell_type": "markdown",
   "metadata": {
    "slideshow": {
     "slide_type": "notes"
    }
   },
   "source": [
    "This notebook is adapted from [a lesson from the 2017 KIPAC/StatisticalMethods course](https://github.com/KIPAC/StatisticalMethods/blob/2017winter/chunks/generative_models.ipynb), (c) 2017 Adam Mantz and Phil Marshall. The GPLv2 license applies."
   ]
  },
  {
   "cell_type": "markdown",
   "metadata": {
    "slideshow": {
     "slide_type": "slide"
    }
   },
   "source": [
    "***Note for the DSFP***\n",
    "\n",
    "To get this notebook (and my other lectures), you will need to not just\n",
    "```\n",
    "git pull\n",
    "```\n",
    "the DSFP repository, but also\n",
    "```\n",
    "git submodule update --init\n",
    "```\n",
    "\n",
    "(In the grand tradition of opening the crate with the crowbar you will find inside...)"
   ]
  },
  {
   "cell_type": "markdown",
   "metadata": {
    "slideshow": {
     "slide_type": "slide"
    }
   },
   "source": [
    "# Generative Models\n",
    "\n",
    "Goals:\n",
    "* Introduce generative models in the context of mocking data and inference\n",
    "* Introduce probabilistic graphical models as a tool for model visualization\n",
    "* Practice building some simple models"
   ]
  },
  {
   "cell_type": "markdown",
   "metadata": {
    "slideshow": {
     "slide_type": "slide"
    }
   },
   "source": [
    "A **generative model** formalizes our understanding of how a data set comes to exist, including\n",
    "* physical processes happening out there in the Universe\n",
    "* instrumental effects and the measurement process\n",
    "* any computations done prior to calling the result a \"data set\"\n",
    "\n",
    "In other words, it's what we need in order to generate a mock data set."
   ]
  },
  {
   "cell_type": "markdown",
   "metadata": {
    "slideshow": {
     "slide_type": "slide"
    }
   },
   "source": [
    "To actually generate mock data, we need to specify the **sampling distribution**, $P(\\mathrm{data}|\\mathrm{model})$. This PDF is the mathemetical expression of our generative model.\n",
    "* It shows up directly in Bayes Theorem, and ideally (as a function of model parameters) as the likelihood function in maximum-likelihood fitting."
   ]
  },
  {
   "cell_type": "markdown",
   "metadata": {
    "slideshow": {
     "slide_type": "slide"
    }
   },
   "source": [
    "What are generative models useful for?\n",
    "\n",
    "* Performing inference: constructing the *sampling distribution* or *likelihood function*"
   ]
  },
  {
   "cell_type": "markdown",
   "metadata": {
    "slideshow": {
     "slide_type": "fragment"
    }
   },
   "source": [
    "* Testing inference: does our analysis, run on mock data, recover the input model?"
   ]
  },
  {
   "cell_type": "markdown",
   "metadata": {
    "slideshow": {
     "slide_type": "fragment"
    }
   },
   "source": [
    "* Checking inferences: do mock data generated from a fitted model resemble the real data?"
   ]
  },
  {
   "cell_type": "markdown",
   "metadata": {
    "slideshow": {
     "slide_type": "slide"
    }
   },
   "source": [
    "A **probabilistic graphical model** (PGM) is a very useful way of visualizing a generative model.\n",
    "* They sketch out the procedure for how one would generate mock data in practice.\n",
    "* They illustrate the interdependence of model parameters, and the dependence of data on parameters.\n",
    "* They also (therefore) represent a conditional factorization of the sampling distribution."
   ]
  },
  {
   "cell_type": "markdown",
   "metadata": {
    "slideshow": {
     "slide_type": "fragment"
    }
   },
   "source": [
    "**Many, many** mistakes can be avoided by sketching out a PGM at the outset of a statistical analysis."
   ]
  },
  {
   "cell_type": "markdown",
   "metadata": {
    "slideshow": {
     "slide_type": "slide"
    }
   },
   "source": [
    "Technically, a PGM is a type of *directed acyclic graph*, where **nodes** and **edges** represent parts of the model.\n",
    "\n",
    "Let's look at a very simple example..."
   ]
  },
  {
   "cell_type": "markdown",
   "metadata": {
    "collapsed": true,
    "slideshow": {
     "slide_type": "slide"
    }
   },
   "source": [
    "<table><tr width=90%>\n",
    "<td><img src=\"../graphics/tour_cluster_image.png\" height=300></td>\n",
    "<td><img src=\"../graphics/tour_cluster_image_zoom.png\" height=300></td>\n",
    "</tr></table>"
   ]
  },
  {
   "cell_type": "markdown",
   "metadata": {
    "slideshow": {
     "slide_type": "slide"
    }
   },
   "source": [
    "Our measurement is the number of counts in each pixel. Here is a generative model:"
   ]
  },
  {
   "cell_type": "markdown",
   "metadata": {
    "slideshow": {
     "slide_type": "fragment"
    }
   },
   "source": [
    "* There's an object emitting light, whose properties are parametrized by $\\theta$."
   ]
  },
  {
   "cell_type": "markdown",
   "metadata": {
    "slideshow": {
     "slide_type": "fragment"
    }
   },
   "source": [
    "* From $\\theta$, we can determine the average flux falling on a given pixel $k$, $F_k$."
   ]
  },
  {
   "cell_type": "markdown",
   "metadata": {
    "slideshow": {
     "slide_type": "fragment"
    }
   },
   "source": [
    "* Given the exposure time of our observation, $T$, and some conversion factors, $F_k$ determines the average number of counts expected, $\\mu_k$."
   ]
  },
  {
   "cell_type": "markdown",
   "metadata": {
    "slideshow": {
     "slide_type": "fragment"
    }
   },
   "source": [
    "* The number of counts measured, $N_k$, is a Poisson draw, given the average $\\mu_k$."
   ]
  },
  {
   "cell_type": "markdown",
   "metadata": {
    "slideshow": {
     "slide_type": "slide"
    }
   },
   "source": [
    "Notice that the model was described in terms of conditional relationships.\n",
    "* $\\theta \\Rightarrow F_k$\n",
    "* $F_k,T \\Rightarrow \\mu_k$\n",
    "* $N_k \\sim \\mathrm{Poisson}(\\mu_k)$\n",
    "\n",
    "The PGM will do the same, visually."
   ]
  },
  {
   "cell_type": "markdown",
   "metadata": {
    "slideshow": {
     "slide_type": "slide"
    }
   },
   "source": [
    "<img src=\"../graphics/pgms_pixelcounts.png\">"
   ]
  },
  {
   "cell_type": "markdown",
   "metadata": {
    "slideshow": {
     "slide_type": "slide"
    }
   },
   "source": [
    "Ingredients of a PGM:\n",
    "* **Nodes** represent parameters\n",
    "* **Edges** represent conditional relationships\n",
    "* **Plates** represent repeated model components whose contents are conditionally independent"
   ]
  },
  {
   "cell_type": "markdown",
   "metadata": {
    "slideshow": {
     "slide_type": "slide"
    }
   },
   "source": [
    "Types of nodes:\n",
    "* **Circles** represent a PDF. This parameter is a *stochastic* function of the parameters feeding into it.\n",
    "* **Points** represent a delta-function PDF. This parameter is a *deterministic* function of the parameters feeding into it.\n",
    "* **Double circles** (or shading) indicate measured data. They are stochastic in the context of generating mock data, but fixed in the context of parameter inference."
   ]
  },
  {
   "cell_type": "markdown",
   "metadata": {
    "slideshow": {
     "slide_type": "slide"
    }
   },
   "source": [
    "Q: What is this PGM telling us?\n",
    "\n",
    "<img src=\"../graphics/pgms_pixelcounts.png\">"
   ]
  },
  {
   "cell_type": "markdown",
   "metadata": {
    "slideshow": {
     "slide_type": "slide"
    }
   },
   "source": [
    "Q: How are these PGMs different, and what does the difference mean?\n",
    "\n",
    "<table><tr><td>\n",
    "<img src=\"../graphics/pgms_pixelcounts.png\">\n",
    "</td><td>\n",
    "<img src=\"../graphics/pgms_pixelcounts2.png\">\n",
    "</td></tr></table>"
   ]
  },
  {
   "cell_type": "markdown",
   "metadata": {
    "slideshow": {
     "slide_type": "slide"
    }
   },
   "source": [
    "By mapping the conditional dependences of a model, PGMs illustrate how to factorize the sampling distribution:\n",
    "\n",
    "$P(\\theta)P(T) \\prod_k P(N_k|\\mu_k)P(\\mu_k|F_k,T)P(F_k|\\theta)$\n",
    "\n",
    "<img src=\"../graphics/pgms_pixelcounts.png\">"
   ]
  },
  {
   "cell_type": "markdown",
   "metadata": {
    "slideshow": {
     "slide_type": "slide"
    }
   },
   "source": [
    "In this case, some PDFs are delta functions, so we can simplify:\n",
    "\n",
    "$P(\\theta)P(T) \\prod_k P(N_k|\\mu_k)P(\\mu_k|F_k,T)P(F_k|\\theta)$"
   ]
  },
  {
   "cell_type": "markdown",
   "metadata": {
    "slideshow": {
     "slide_type": "fragment"
    }
   },
   "source": [
    "$= \\underbrace{P(\\theta)} ~ \\underbrace{\\prod_k P\\left[N_k|\\mu_k(\\theta,T)\\right]}$"
   ]
  },
  {
   "cell_type": "markdown",
   "metadata": {
    "collapsed": true,
    "slideshow": {
     "slide_type": "fragment"
    }
   },
   "source": [
    "$= \\mathrm{prior}(\\theta) ~\\times~ (\\mathrm{sampling~distribution~of~}\\vec{N})$"
   ]
  },
  {
   "cell_type": "markdown",
   "metadata": {
    "slideshow": {
     "slide_type": "slide"
    }
   },
   "source": [
    "**Exercise**\n",
    "\n",
    "<table><tr>\n",
    "<td><img src=\"../graphics/pgms_a-c-d.png\"></td>\n",
    "<td><img src=\"../graphics/pgms_c-y-d.png\"></td>\n",
    "</tr></table>\n",
    "\n",
    "* On your own, write down the probability expressions illustrated by these two graphs. \n",
    "* Then, discuss their meaning with your neighbor, and prepare to report back to the class."
   ]
  },
  {
   "cell_type": "markdown",
   "metadata": {
    "slideshow": {
     "slide_type": "slide"
    }
   },
   "source": [
    "**Take-home messages**\n",
    "\n",
    "* Both simulation of mock data and model inference from data require a model for how the Universe (or our computer) generates data.\n",
    "* PGMs are a helpful way of visualizing the conditional dependences of a model (how the probability expressions factorize).\n",
    "\n",
    "Note: the `daft` Python package is useful for making pretty PGMs."
   ]
  },
  {
   "cell_type": "markdown",
   "metadata": {
    "slideshow": {
     "slide_type": "slide"
    }
   },
   "source": [
    "## Practice"
   ]
  },
  {
   "cell_type": "markdown",
   "metadata": {
    "slideshow": {
     "slide_type": "slide"
    }
   },
   "source": [
    "### \"Standard\" linear regression\n",
    "\n",
    "You're given a list of $x_k,y_k,\\sigma_k$ triplets, where $\\sigma_k$ is some estimate of the \"error\" on $y_k$. You'd like to fit a linear model, $y(x)=a+bx$. In the absence of any better information, assume that $\\vec{x}$ and $\\vec{\\sigma}$ are (somehow) known precisely, and that the \"error\" on $y_k$ is Gaussian (mean of $a+bx_k$ and standard deviation $\\sigma_k$).\n",
    "\n",
    "1. Draw the PGM and write down the corresponsing probability expressions for this problem.\n",
    "2. Simulate a few data sets, given some values (your choice) for the input parameters. The code below is a (crummy) starting point.\n",
    "3. What (unspecified) assumptions, if any, did you have to make? Which assumptions do you think are unlikely to hold in practice? Choose one (or more) of these assumptions and work out how to generalize the PGM/generative model to avoid making it."
   ]
  },
  {
   "cell_type": "code",
   "execution_count": null,
   "metadata": {
    "collapsed": true
   },
   "outputs": [],
   "source": [
    "import numpy as np\n",
    "import scipy.stats as st\n",
    "import matplotlib\n",
    "matplotlib.use('TkAgg')\n",
    "import matplotlib.pyplot as plt\n",
    "plt.rcParams['xtick.labelsize'] = 'x-large'\n",
    "plt.rcParams['ytick.labelsize'] = 'x-large'\n",
    "%matplotlib inline"
   ]
  },
  {
   "cell_type": "code",
   "execution_count": null,
   "metadata": {
    "collapsed": false
   },
   "outputs": [],
   "source": [
    "# choose some linear model parameters, somehow\n",
    "a = \n",
    "b = \n",
    "\n",
    "# choose some x and sigma values... somehow\n",
    "n = 10 # Number of data points. Feel free to change.\n",
    "x = np.array([\n",
    "sigma = np.array([\n",
    "\n",
    "# work out the values for any intermediate nodes\n",
    "    \n",
    "# generate the \"observed\" y values\n",
    "y = st.norm.rvs("
   ]
  },
  {
   "cell_type": "code",
   "execution_count": null,
   "metadata": {
    "collapsed": false
   },
   "outputs": [],
   "source": [
    "# plot x, y and sigma in the usual way\n",
    "plt.rcParams['figure.figsize'] = (12.0, 5.0)\n",
    "plt.errorbar(x, y, yerr=sigma, fmt='none');\n",
    "plt.plt(x, y, 'bo');\n",
    "plt.xlabel('x', fontsize=14);\n",
    "plt.ylabel('y', fontsize=14);"
   ]
  },
  {
   "cell_type": "markdown",
   "metadata": {
    "slideshow": {
     "slide_type": "slide"
    }
   },
   "source": [
    "### Exoplanet transit photometry\n",
    "\n",
    "You've taken several images of a particular field, in order to record the transit of an exoplanet in front of a star (resulting in a temporary decrease in its brightness). Some kind of model, parametrized by $\\theta$, describes the time series of the resulting flux. Before we get to measure a number of counts, however, each image is affected by time-specific variables, e.g. related to changing weather. To account for these, you've also measured 10 other stars in the same field in every exposure. The assumption is that the average intrinsic flux of these stars should be constant in time, so that they can be used to correct for photometric variations, putting the multiple measurements of the target star on the same scale.\n",
    "\n",
    "Draw the PGM and write down the corresponsing probability expressions for this problem."
   ]
  },
  {
   "cell_type": "markdown",
   "metadata": {
    "slideshow": {
     "slide_type": "notes"
    }
   },
   "source": [
    "Thanks to Anja von der Linden for inspiring (and then correcting) the above problem."
   ]
  },
  {
   "cell_type": "markdown",
   "metadata": {
    "slideshow": {
     "slide_type": "slide"
    }
   },
   "source": [
    "### Galaxy cluster center offsets\n",
    "\n",
    "You've measured the centers of a sample of galaxy clusters in two ways: by choosing a brightest cluster galaxy (BCG) and by finding the centroid of each cluster's X-ray emission. The difference between the two should say something about the fidelity of the BCG selection method, among other things. The BCG positions are determined essentially perfectly, but the X-ray centroids come with a Gaussian statistical uncertainty of typically $\\sim30$ kpc (standard deviation) in both the $x$ and $y$ directions.\n",
    "\n",
    "The underlying model is assumed to be that the BCG and true X-ray centroid coincide perfectly in a fraction $f$ of clusters. In the remaining clusters, the true X-ray centroid and BCG are displaced according to a 2D Gaussian whose width in either direction is $\\sigma$.\n",
    "\n",
    "1. Draw the PGM and write down the corresponsing probability expressions for this problem.\n",
    "2. Simulate some data sets and visualize them, e.g. as a histogram of the offset distances."
   ]
  },
  {
   "cell_type": "markdown",
   "metadata": {
    "slideshow": {
     "slide_type": "notes"
    }
   },
   "source": [
    "Thanks to the bloody Universe for inspiring the above problem."
   ]
  }
 ],
 "metadata": {
  "anaconda-cloud": {},
  "celltoolbar": "Slideshow",
  "kernelspec": {
   "display_name": "Python [default]",
   "language": "python",
   "name": "python2"
  },
  "language_info": {
   "codemirror_mode": {
    "name": "ipython",
    "version": 2
   },
   "file_extension": ".py",
   "mimetype": "text/x-python",
   "name": "python",
   "nbconvert_exporter": "python",
   "pygments_lexer": "ipython2",
   "version": "2.7.12"
  },
  "livereveal": {
   "scroll": true,
   "start_slideshow_at": "selected"
  }
 },
 "nbformat": 4,
 "nbformat_minor": 0
}
