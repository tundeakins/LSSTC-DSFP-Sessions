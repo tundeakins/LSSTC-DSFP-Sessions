{
 "cells": [
  {
   "cell_type": "markdown",
   "metadata": {},
   "source": [
    "<h1 align=\"center\"></h1>\n",
    "<h1 align=\"center\">Problem 1 - Building an HBM</h1>\n",
    "<h2 align=\"center\">Hierarchical Bayesian Modeling of a Truncated Gaussian Population with PyStan and PyJAGS</h2>\n",
    "<div align=\"center\">Simulating the distribution of \"$\\boldsymbol{e \\cos \\omega}$\" for hot Jupiter exoplanets from  <i>Kepler</i>. These simulated exoplanet candiates are potentially undergoing migration and orbital circularization. </div> \n",
    "<h4 align=\"center\">LSSTC DSFP Session 4, September 21st, 2017</h4>\n",
    "<h5 align=\"center\">Author: Megan I. Shabram, PhD, \n",
    "NASA Postdoctoral Program Fellow,  mshabram@gmail.com</h5>"
   ]
  },
  {
   "cell_type": "markdown",
   "metadata": {},
   "source": [
    "<div><p>In this Hierachical Bayesian Model workbook, we will begin by using <a href=\"http://mc-stan.org/users/documentation/case-studies.html\">Stan</a>, a <a href=\"https://en.wikipedia.org/wiki/Hybrid_Monte_Carlo\">Hamiltonian Monte Carlo method </a>. Here, PyStan is used to obtain a sample from the full posterior distribution of a truncated Gaussian population model, where the measurement uncertainty of the population constituents are Normally distributed. The truncation renders this HBM with no analytical solution, thus requiring a Monte Carlo numerical approximation technique. After we investigate using Stan, we will then explore the same problem using <a href=\"https://martynplummer.wordpress.com/2016/01/11/pyjags/\"> JAGS</a> a <a href=\"https://en.wikipedia.org/wiki/Gibbs_sampling\">Gibbs sampling</a> method (that reverts to Metropolis-Hastings when necessary). The simulated data sets generated below are modeled after the projected eccentricity obtained for exoplanet systems that both transit and occult their host star (see Shabram et al. 2016)</p><div>"
   ]
  },
  {
   "cell_type": "markdown",
   "metadata": {},
   "source": [
    "<h3 align=\"left\"> Goals of this series of notebooks:</h3>\n",
    "- Learn how to use a computing infrastructre that allows you to carry out future HBM research projects. \n",
    "- Gain a sense for the workflow involved in setting up an HBM, in particular, using key diagnostics and simulated data.\n",
    "- Practice data wrangling with pandas data frames and numpy dictionaries. \n",
    "- Understand the relationship between data quantity, quality, number of iterations, and analysis model complexity.  The term analysis model is also refered to as a generative model, a population model, or sometimes a shape function. \n",
    "- Learn how to run HBM on datasets with missing values using JAGS.<br />\n",
    "<b>Later:</b>\n",
    "- Notebook 2: model mispecification and regularization, (running Nm2 data through Nm1 model)\n",
    "- Notebook 3: Break point model on eclipsing binary data. "
   ]
  },
  {
   "cell_type": "markdown",
   "metadata": {},
   "source": [
    "<div>The additional software you will need to install:\n",
    "    <blockquote>PyJAGS<br />\n",
    "    PyStan</blockquote>\n",
    "I have also include two codes in the folder \n",
    "<blockquote>triangle_linear.py<br />\n",
    "credible_interval.py</blockquote></div>"
   ]
  },
  {
   "cell_type": "code",
   "execution_count": null,
   "metadata": {},
   "outputs": [],
   "source": [
    "import numpy as np\n",
    "import scipy.stats as stats\n",
    "import pandas as pd\n",
    "import matplotlib.pyplot as plt\n",
    "import pyjags\n",
    "import pystan\n",
    "import pickle\n",
    "import triangle_linear\n",
    "\n",
    "from IPython.display import display, Math, Latex\n",
    "from __future__ import division, print_function\n",
    "from pandas.tools.plotting import *\n",
    "from matplotlib import rcParams\n",
    "rcParams[\"savefig.dpi\"] = 100\n",
    "rcParams[\"font.size\"] = 20\n",
    "#plt.style.use('ggplot')\n",
    "\n",
    "%matplotlib inline\n",
    "%config InlineBackend.figure_format = 'retina'\n",
    "#%qtconsole\n"
   ]
  },
  {
   "cell_type": "markdown",
   "metadata": {},
   "source": [
    "<h3 align=\"left\"> 1. Generate simulated data set from a truncated Gaussian generative model</h3>"
   ]
  },
  {
   "cell_type": "markdown",
   "metadata": {},
   "source": [
    "<div>Below we designate the population values of our generative model. These are the truths that we should recover if our hiararchical Bayesian model is properly specified and diagnostics have indicated that the simulation has \"not-not converged\". \"You can't \n",
    "prove convergence, at best you can fail to prove a failure to converge\".</div>\n"
   ]
  },
  {
   "cell_type": "markdown",
   "metadata": {},
   "source": [
    "<h4>Set your one-component truncated Gaussian mixture simulated data hyperparameters:</h4>\n"
   ]
  },
  {
   "cell_type": "code",
   "execution_count": null,
   "metadata": {
    "collapsed": true
   },
   "outputs": [],
   "source": [
    "## In this simulated data set, there are \"Ndata\" planetary systems (with one planet each)\n",
    "Ndata = 25 \n"
   ]
  },
  {
   "cell_type": "code",
   "execution_count": null,
   "metadata": {
    "collapsed": true
   },
   "outputs": [],
   "source": [
    "## Here we asign the dispersion of the simulated population to be 0.3, this is \n",
    "## the truth we wish to recover when we run our diagnostics. In other words, this is the \n",
    "## spread of projected eccentricities about the mean (In this case the values are symteric \n",
    "## about zero, so the mean of the population is zero, and we can treat this paramter as \n",
    "## known, simplyfying our model based on our science question!)\n",
    "sigmae = 0.3 \n"
   ]
  },
  {
   "cell_type": "code",
   "execution_count": null,
   "metadata": {
    "collapsed": true
   },
   "outputs": [],
   "source": [
    "## We approximate the uncertainty for each measurement as normally distributed about a \n",
    "## reported measurement point estimate, or a summary statistics for a posterior estimate.  \n",
    "sigmahobs = 0.04\n"
   ]
  },
  {
   "cell_type": "markdown",
   "metadata": {},
   "source": [
    "<div><p>Eccentricity cannot be greater than 1 physically (or it means an unbound orbit) and that is not the case for planets observed to both transit and occult more than once.\n",
    "This creates a situation where the distribution for the projected $\\boldsymbol{e \\cos \\omega}$ and $\\boldsymbol{e \\sin \\omega}$ must be truncated between 1 and -1, rendering this problem with no analytical solution, and requaring numerical simulation of the posterior probability.</p> \n",
    "\n",
    "<p>In this first notebook, we will ignore $\\boldsymbol{e \\sin \\omega}$, and set up our model using only simulated $\\boldsymbol{e \\cos \\omega}$. This allows us to start with as simple as a model as possible for pedagogical purposes and for workflow.  A workflow that builds in model complexity is approproate for exploratory science, and it this case, it is often helpful for testing for mathematical artifacts that can arrise for your combination of MCMC method and your generative model.  A goal is to find a model that performs well for a variety of possibilies that could be occuring in nature (this is part of our science question).  We will see this unfold in the following notebooks in this series.</p><div> "
   ]
  },
  {
   "cell_type": "code",
   "execution_count": null,
   "metadata": {},
   "outputs": [],
   "source": [
    "## function to draw from truncated normal, this function will be used for both the \n",
    "## one- and two-componenet cases in this series of workbooks.  \n",
    "\n",
    "def rnorm_bound( Ndata, mu, prec, lower_bound = 0.0, upper_bound = float('Inf')):\n",
    "    x = np.zeros(Ndata)\n",
    "#    for i in range(0, ### Complete ### ): \n",
    "    for i in range(0, Ndata ): \n",
    "            #print(i)\n",
    "            while True:\n",
    "                x[i] = np.random.normal(mu,prec,1)\n",
    "                if( (x[i]>lower_bound) and (x[i]<upper_bound) ): \n",
    "                    break\n",
    "    return x;"
   ]
  },
  {
   "cell_type": "markdown",
   "metadata": {},
   "source": [
    "<h4>Next we generate our true values and our simulated measurements:</h4>"
   ]
  },
  {
   "cell_type": "code",
   "execution_count": null,
   "metadata": {},
   "outputs": [],
   "source": [
    "h = np.repeat(0.,Ndata) ## Simuated true values of h = e cos w\n",
    "hhat = np.repeat(0.,Ndata) ## Simulated measurements of h\n",
    "hhat_sigma  = np.repeat(sigmahobs,Ndata) ## measurement uncertainty summary statics \n",
    "\n",
    "## Note: in this simulated data set, the measurement uncertainties for each projected eccentricity are \n",
    "## set to be the same.  You can use the real heteroscadastic uncertainties from your \n",
    "## real data set when testing with simulated data in the future. \n",
    "\n",
    "for i in range(0,Ndata):\n",
    "    h[i] = rnorm_bound(1,0,sigmae,lower_bound=-1,upper_bound=1)\n",
    "    hhat[i] = rnorm_bound(1,h[i],sigmahobs,lower_bound=-1,upper_bound=1)\n",
    "\n",
    "## Vizualize the true data values, and the simulated measurements:     \n",
    "print(h, hhat)\n",
    "plt.hist( h, label='h')\n",
    "#plt.hist( ##Complete, label='h')\n",
    "plt.hist(hhat, label='hhat')\n",
    "#plt.hist( ##Complete, label='hhat')\n",
    "plt.legend()"
   ]
  },
  {
   "cell_type": "markdown",
   "metadata": {},
   "source": [
    "<h3 align=\"left\"> 2. Create PyStan truncated Gaussian hierarchical Bayesian model. </h3>"
   ]
  },
  {
   "cell_type": "markdown",
   "metadata": {},
   "source": [
    "Run the code block below to pre-compile the Stan model. "
   ]
  },
  {
   "cell_type": "code",
   "execution_count": null,
   "metadata": {},
   "outputs": [],
   "source": [
    "eccmodel = \"\"\"\n",
    "data {\n",
    "    int<lower=1> Ndata;\n",
    "    real<lower=-1,upper=1> hhat[Ndata];\n",
    "    real<lower=0,upper=1> hhat_sigma[Ndata];\n",
    "}\n",
    "parameters {\n",
    "    real<lower=0> e_sigma;\n",
    "    real<lower=-1,upper=1> h[Ndata];\n",
    "}\n",
    "model {\n",
    "\n",
    "    e_sigma ~ uniform(0, 1.0);\n",
    "    \n",
    "    for (n in 1:Ndata)\n",
    "      hhat[n] ~ normal(h[n], hhat_sigma[n]);\n",
    "    \n",
    "    for (n in 1:Ndata)\n",
    "      increment_log_prob(normal_log(h[n], 0.0, e_sigma));\n",
    "}\n",
    "\"\"\"\n",
    "# Compiled Stan Model\n",
    "sm = pystan.StanModel(model_code=eccmodel)"
   ]
  },
  {
   "cell_type": "markdown",
   "metadata": {},
   "source": [
    "Where in the Stan model above where the truncation is indicated?:\n",
    "\n",
    "\n"
   ]
  },
  {
   "cell_type": "markdown",
   "metadata": {},
   "source": [
    "Run the code cell below to carry out the HMC numerical simulation of the Stan model that was compiled above. "
   ]
  },
  {
   "cell_type": "code",
   "execution_count": null,
   "metadata": {},
   "outputs": [],
   "source": [
    "ecc_dat = {'Ndata': len(hhat), 'hhat': hhat, 'hhat_sigma': hhat_sigma}\n",
    "\n",
    "\n",
    "iters = 10000\n",
    "fit = sm.sampling(data=ecc_dat, iter=iters, chains=4, seed=48389, refresh=1000, n_jobs=-1)\n",
    "\n"
   ]
  },
  {
   "cell_type": "markdown",
   "metadata": {},
   "source": [
    "<h3 align=\"left\"> 3. Perform diagnostics to asses if the model shows signs of having not converged. </h3>"
   ]
  },
  {
   "cell_type": "code",
   "execution_count": null,
   "metadata": {
    "scrolled": true
   },
   "outputs": [],
   "source": [
    "print(fit)"
   ]
  },
  {
   "cell_type": "code",
   "execution_count": null,
   "metadata": {},
   "outputs": [],
   "source": [
    "fig = fit.traceplot()"
   ]
  },
  {
   "cell_type": "markdown",
   "metadata": {},
   "source": [
    "From the diagnostics above, what can you tell about the status of this MCMC numerical simulation?\n",
    "\n",
    "\n"
   ]
  },
  {
   "cell_type": "code",
   "execution_count": null,
   "metadata": {},
   "outputs": [],
   "source": [
    "la = fit.extract(permuted=True)  # returns a dictionary of arrays\n",
    "\n",
    "a = fit.extract(permuted=False)\n",
    "\n",
    "e_sigma = la['e_sigma'].reshape(4,-1) # there are 4 chains here, hence the 4, -1\n",
    "print(e_sigma.shape)\n",
    "#print(e_sigma.reshape(4,5000))"
   ]
  },
  {
   "cell_type": "code",
   "execution_count": null,
   "metadata": {},
   "outputs": [],
   "source": [
    "## Wrangle the dictionary of samples from the posterior:\n",
    "\n",
    "num_chains = 4\n",
    "\n",
    "df = pd.DataFrame(la.items())\n",
    "print(df)\n",
    "\n",
    "samples_Stan = dict(zip(df[0], df[1].values ))\n",
    "#print(samples.items())\n",
    "print(type(samples_Stan['e_sigma']))\n",
    "print(samples_Stan.items())\n",
    "\n",
    "#for j, i in samples_Stan.items():\n",
    "#    print(the keys)\n",
    "#    print(i.shape)"
   ]
  },
  {
   "cell_type": "code",
   "execution_count": null,
   "metadata": {},
   "outputs": [],
   "source": [
    "\n",
    "## Print and check the shape of the resultant samples dictionary:\n",
    "#print(samples)\n",
    "#print(samples.items())\n",
    "print('-----')\n",
    "print(samples_Stan['e_sigma'].shape)\n",
    "print(samples_Stan['h'].shape)\n",
    "print(samples_Stan['h'][:,3].shape)\n",
    "print('-----')\n",
    "\n",
    "\n",
    "## Update the samples dictionary so that it includes keys for the latent variables\n",
    "## Also, we will use LaTeX formatting to help make legible plots ahead.  \n",
    "samples_Nm1_Stan = {}\n",
    "\n",
    "## adjust the thin varible to only look at every #th population element \n",
    "thin1 = 1\n",
    "\n",
    "## Need to enter the number of hyperparameter variables here:\n",
    "numHyperParams = 1\n",
    "\n",
    "## Specify the dimension we want for our plot below, for legibility.  \n",
    "dim1 = (Ndata/thin1) + numHyperParams\n",
    "print(dim1)\n",
    "\n",
    "for i in np.arange(0,Ndata,thin1):\n",
    "    samples_Nm1_Stan.update({'$h_{'+str(i+1)+'}$': samples_Stan['h'][:,i]})\n",
    "\n",
    "## Add the hyperparameter marginal posterior back in:\n",
    "samples_Nm1_Stan.update({'$e_{\\sigma}$': samples_Stan['e_sigma']})\n",
    "print(samples_Nm1_Stan['$h_{5}$'].shape)\n",
    "\n",
    "## Reshape values for diagnostic plot functions (trace, autocorrelation) below:  \n",
    "samples_Nm1_trace_Stan = {}    \n",
    "for j, i in samples_Nm1_Stan.items():\n",
    "    samples_Nm1_trace_Stan.update({str(j): i.reshape(int(len(i)/num_chains),-1)})\n",
    "\n",
    "\n"
   ]
  },
  {
   "cell_type": "markdown",
   "metadata": {},
   "source": [
    "<div>  <p>Below is code to look at <b>summary statistics</b> of <b>the marginal posterior distributions</b>  (the probabilistic parameter estimates) \n",
    "for the hyperparameter and the latent variables \n",
    "(each population constituent), in this case <i>h</i> (a.k.a one term of the projected eccentricity here), of the exoplanet systems we are simulating). </p> </div>\n",
    "\n",
    "NOTES: [Wikipedia article for credible interval](https://en.wikipedia.org/wiki/Credible_interval)\n",
    "\"Choosing the interval where the probability of being below the interval is as likely as being above it. This interval will include the median. This is sometimes called the equal-tailed interval.\""
   ]
  },
  {
   "cell_type": "code",
   "execution_count": null,
   "metadata": {},
   "outputs": [],
   "source": [
    "## equal tailed 95% credible intervals, and posterior distribution means:\n",
    "def summary(samples, varname, p=95):\n",
    "    values = samples[varname][0]\n",
    "    ci = np.percentile(values, [100-p, p])\n",
    "    print('{:<6} mean = {:>5.1f}, {}% credible interval [{:>4.1f} {:>4.1f}]'.format(\n",
    "      varname, np.mean(values), p, *ci))\n",
    "\n",
    "for varname in samples_Nm1_trace_Stan:\n",
    "    summary(samples_Nm1_trace_Stan, varname)\n"
   ]
  },
  {
   "cell_type": "code",
   "execution_count": null,
   "metadata": {},
   "outputs": [],
   "source": [
    "## Use pandas three dimensional Panel to represent the trace:\n",
    "## There is some wait time involved \n",
    "\n",
    "trace_1_Stan = pd.Panel({k: v for k, v in samples_Nm1_trace_Stan.items()})\n",
    "trace_1_Stan.axes[0].name = 'Variable'\n",
    "trace_1_Stan.axes[1].name = 'Iteration'\n",
    "trace_1_Stan.axes[2].name = 'Chain'\n",
    " \n",
    "## Point estimates:\n",
    "print(trace_1_Stan.to_frame().mean())\n",
    " \n",
    "## Bayesian equal-tailed 95% credible intervals:\n",
    "print(trace_1_Stan.to_frame().quantile([0.05, 0.95]))\n",
    "  ## ^ entering the values here could be a good question part\n",
    "    \n",
    "def plot(trace, var):\n",
    "    fig, axes = plt.subplots(1, 3, figsize=(9, 3))\n",
    "    fig.suptitle(var, y=0.95, fontsize='xx-large')\n",
    " \n",
    "    ## Marginal posterior density estimate:\n",
    "    trace[var].plot.density(ax=axes[0])\n",
    "    axes[0].set_xlabel('Parameter value')\n",
    "    axes[0].locator_params(tight=True)\n",
    " \n",
    "    ## Autocorrelation for each chain:\n",
    "    axes[1].set_xlim(0, 100)\n",
    "    for chain in trace[var].columns:\n",
    "        autocorrelation_plot(trace[var,:,chain], axes[1], label=chain)\n",
    " \n",
    "    ## Trace plot:\n",
    "    axes[2].set_ylabel('Parameter value')\n",
    "    trace[var].plot(ax=axes[2])\n",
    " \n",
    "    ## Save figure\n",
    "    filename = var.replace(\"\\\\\", \"\") \n",
    "    filename = filename.replace(\"$\", \"\") \n",
    "    filename = filename.replace(\"}\", \"\") \n",
    "    filename = filename.replace(\"{\", \"\") \n",
    "    plt.tight_layout(pad=3)\n",
    "    #fig.savefig(Nm1_Stan_'+'{}.png'.format(filename))\n",
    " \n",
    "# Display diagnostic plots\n",
    "for var in trace_1_Stan:\n",
    "    plot(trace_1_Stan, var)\n",
    " \n"
   ]
  },
  {
   "cell_type": "code",
   "execution_count": null,
   "metadata": {},
   "outputs": [],
   "source": [
    "## Scatter matrix plot:\n",
    "##    If Ndata is increased, this scatter_matrix might do better to skip every nth latent variable\n",
    "##    Code for that is in a future code cell, where we make a triangle plot with KDE for \n",
    "##    joint 2D marginals. scatter_matrix is a Python Pandas module.\n",
    "\n",
    "sm = scatter_matrix(trace_1_Stan.to_frame(),  color=\"#00BFFF\", alpha=0.2, figsize=(dim1*2, dim1*2), diagonal='hist',hist_kwds={'bins':25,'histtype':'step', 'edgecolor':'r','linewidth':2})\n",
    "\n",
    "## y labels size\n",
    "[plt.setp(item.yaxis.get_label(), 'size', 20) for item in sm.ravel()]\n",
    "\n",
    "## x labels size \n",
    "[plt.setp(item.xaxis.get_label(), 'size', 20) for item in sm.ravel()]\n",
    "\n",
    "## Change label rotation.  This is helpful for very long labels\n",
    "#[s.xaxis.label.set_rotation(45) for s in sm.reshape(-1)]\n",
    "\n",
    "[s.xaxis.label.set_rotation(0) for s in sm.reshape(-1)]\n",
    "[s.yaxis.label.set_rotation(0) for s in sm.reshape(-1)]\n",
    "\n",
    "## May need to offset label when rotating to prevent overlap of figure\n",
    "[s.get_yaxis().set_label_coords(-0.5,0.5) for s in sm.reshape(-1)]\n",
    "\n",
    "## Hide all ticks\n",
    "#[s.set_xticks(()) for s in sm.reshape(-1)]\n",
    "#[s.set_yticks(()) for s in sm.reshape(-1)]\n",
    "\n",
    "## Save the figure as .png \n",
    "plt.savefig('scatter_matrix_Nm1_Stan.png')\n"
   ]
  },
  {
   "cell_type": "code",
   "execution_count": null,
   "metadata": {},
   "outputs": [],
   "source": [
    "\n",
    "## Redefine the trace so that we only vizualize every #th latent variable element in \n",
    "## the scatter_matrix plot below. Vizualizing all Ndata is too cumbersome for the scatter\n",
    "## matrix. \n",
    "\n",
    "## adjust the thin varible to only look at every #th population element \n",
    "##Ndata is 25 use \n",
    "thin = 5\n",
    "##Ndata is 20 use\n",
    "#thin = 4\n",
    "\n",
    "## Re-specify the dimension we want for our plot below, with thinning, for legibility.  \n",
    "dim2 = (Ndata/thin) + numHyperParams\n",
    "print(dim2)\n",
    "\n",
    "samples_Nm1_triangle_1_Stan = {}\n",
    "truths_hhat = {}\n",
    "truths_h = {}\n",
    "for i in np.arange(0,Ndata,thin):\n",
    "    samples_Nm1_triangle_1_Stan.update({'$h_{'+str(i+1)+'}$': samples_Stan['h'][:,i]})\n",
    "    truths_hhat.update({'$h_{'+str(i+1)+'}$': hhat[i]})\n",
    "    truths_h.update({'$h_{'+str(i+1)+'}$': h[i]})\n",
    "samples_Nm1_triangle_1_Stan.update({'$e_{\\sigma}$': samples_Stan['e_sigma']})\n",
    "truths_hhat.update({'$e_{\\sigma}$': sigmae})\n",
    "truths_h.update({'$e_{\\sigma}$': sigmae})\n",
    "\n",
    "## Code below is to reshape values for diagnostic plot functions (trace, autocorrelation, scatter_matrix):  \n",
    "#samples_Nm1_triangle_trace_Stan = {}    \n",
    "#for j, i in samples_Nm1_triangle_Stan.items():\n",
    "#    samples_Nm1_triangle_trace_Stan.update({str(j): i.reshape(int(len(i)/num_chains),-1)})\n",
    "#\n",
    "#print(list(samples_Nm1_scatter_matrix_trace.items()))\n",
    "#print(list(samples_Nm1_scatter_matrix_trace['$h_{6}$'][0]))\n",
    "\n"
   ]
  },
  {
   "cell_type": "code",
   "execution_count": null,
   "metadata": {},
   "outputs": [],
   "source": [
    "#trace_2.to_frame()\n",
    "print(samples_Nm1_triangle_1_Stan.keys())\n",
    "print(5000*num_chains)\n",
    "print(int(dim2))\n",
    "print(truths_hhat.values())"
   ]
  },
  {
   "cell_type": "code",
   "execution_count": null,
   "metadata": {},
   "outputs": [],
   "source": [
    "\n",
    "#data = np.asarray(samples_Nm1_scatter_matrix_triangle.values()).reshape((5000*num_chains),int(dim2))\n",
    "#print(np.asarray(samples_Nm1_scatter_matrix_triangle.values()).reshape((5000*num_chains),int(dim2)).shape)\n",
    "\n",
    "samples_Nm1_triangle_2_Stan = {}    \n",
    "for j, i in samples_Nm1_triangle_1_Stan.items():\n",
    "    samples_Nm1_triangle_2_Stan.update({str(j): i.reshape(-1,1)})\n",
    "    \n",
    "data = None\n",
    "for k, v in samples_Nm1_triangle_2_Stan.items():\n",
    "    column = v.reshape(-1,1)\n",
    "    if data is None:\n",
    "        data = column\n",
    "    else:\n",
    "        data = np.hstack((data, column))\n",
    "\n",
    "print(data.shape)\n",
    "\n",
    "figure = triangle_linear.corner(data,labels=samples_Nm1_triangle_2_Stan.keys(),labelsy=samples_Nm1_triangle_2_Stan.keys(), truths=truths_h.values(), truths_color = 'black')\n",
    "\n",
    "#plt.savefig('triangle_linear_Nm1_Stan.png')\n"
   ]
  },
  {
   "cell_type": "code",
   "execution_count": null,
   "metadata": {},
   "outputs": [],
   "source": []
  },
  {
   "cell_type": "markdown",
   "metadata": {},
   "source": [
    "Overplot the true value and the measurement uncertainy with the marginal posterior."
   ]
  },
  {
   "cell_type": "code",
   "execution_count": null,
   "metadata": {},
   "outputs": [],
   "source": [
    "def plot_2(Ndata):\n",
    "    for i in np.arange(0,Ndata):\n",
    "        fig = plt.figure(figsize=(8,5))\n",
    "        x = np.arange(-1,1, 0.001)\n",
    "        fit = stats.norm.pdf(x, h[i], sigmahobs) \n",
    "        plt.plot([hhat[i],hhat[i]], [0,10],label=r'$\\hat{h_{'+str(i)+'}}$ (measured)')\n",
    "        plt.plot([h[i],h[i]], [0,10],label=r'$h_{'+str(i)+'}$ (true value)')\n",
    "        plt.plot(x,fit,'-',label=r'$N(h_{'+str(i)+'},\\sigma_{\\hat{h_{'+str(i)+'}}})$')\n",
    "        plt.hist(samples_Stan['h'][:,i],histtype='step', bins=50, normed=True,label=r'Marginal Posterior of $h_{'+str(i)+'}$')\n",
    "        plt.xlim(-0.7,0.7)\n",
    "        plt.ylim(0,13)\n",
    "        plt.legend()\n",
    "        plt.text(-.49, 12,'variance of posterior  = '+str(np.var(samples_Stan['h'][:,i])))\n",
    "        plt.text(-.49, 11.5,'variance of observation = '+str(sigmahobs**2))\n",
    "        plt.tight_layout(pad=3)\n",
    "        fig.savefig('Nm1_latent_var_h_Stan'+str(i)+'.png')\n",
    "\n",
    "plot_2(Ndata)        "
   ]
  },
  {
   "cell_type": "markdown",
   "metadata": {},
   "source": [
    "Plot draws from the posterior to summarize the population distribution:"
   ]
  },
  {
   "cell_type": "code",
   "execution_count": null,
   "metadata": {
    "collapsed": true
   },
   "outputs": [],
   "source": [
    "## take some some values of e_sigma from the posterior of e_sigma, at plot the population \n",
    "## distribution for these values. These should be normal distributions centered at 0.0 with dispersions that are drawn from e_sigma. "
   ]
  },
  {
   "cell_type": "markdown",
   "metadata": {},
   "source": [
    "<h3 align=\"left\"> 4. Complete problems 2 and 3 on the same generative model simulated data set above now using PyJAGS.</h3>"
   ]
  },
  {
   "cell_type": "code",
   "execution_count": null,
   "metadata": {
    "collapsed": true
   },
   "outputs": [],
   "source": [
    "## JAGS user manual: \n",
    "## http://www.uvm.edu/~bbeckage/Teaching/DataAnalysis/Manuals/manual.jags.pdf\n",
    "\n",
    "## JAGS model code\n",
    "\n",
    "code = '''\n",
    "\n",
    "model {\n",
    "        \n",
    "    #Population parameters\n",
    "    e_sigma ~ dunif(0.0, 1.0)\n",
    "    e_phi <- 1/(e_sigma*e_sigma)\n",
    "        \n",
    "    for (n in 1:Ndata){\n",
    "    \n",
    "        #True planet properties\n",
    "        h[n] ~ dnorm(0, e_phi) T(-1,1) #Can try multivariate truncated normal in future\n",
    "            \n",
    "        #Observed planet properties\n",
    "        hhat[n] ~ dnorm(h[n], 1.0/(hhat_sigma[n]*hhat_sigma[n])) T(-1,1)\n",
    "    }\n",
    "        \n",
    "}\n",
    "'''"
   ]
  },
  {
   "cell_type": "markdown",
   "metadata": {},
   "source": [
    "How is the truncation specified in the JAGS model above?"
   ]
  },
  {
   "cell_type": "code",
   "execution_count": null,
   "metadata": {},
   "outputs": [],
   "source": [
    "## Load additional JAGS module\n",
    "pyjags.load_module('glm')\n",
    "pyjags.load_module('dic')\n",
    "\n",
    "\n",
    "## See blog post for origination of the adapted analysis tools used here and below:\n",
    "## https://martynplummer.wordpress.com/2016/01/11/pyjags/\n",
    "\n",
    "num_chains = 4\n",
    "iterations = 10000\n",
    "\n",
    "\n",
    "## data list include only variables in the model\n",
    "model = pyjags.Model(code, data=dict( Ndata=Ndata, hhat=hhat, \n",
    "                                     hhat_sigma=hhat_sigma), \n",
    "                     chains=num_chains, adapt=1000)\n",
    "\n",
    "## Code to speed up compute time. This feature might not be \n",
    "## well tested in pyjags at this time. \n",
    "## threads=4, chains_per_thread=1 \n",
    "\n",
    "## 500 warmup / burn-in iterations, not used for inference.\n",
    "model.sample(500, vars=[])\n",
    "\n",
    "## Run model for desired steps, monitoring hyperparameter variables, and latent variables\n",
    "## for hierarchical Bayesian model.\n",
    "## Returns a dictionary with numpy array for each monitored variable.\n",
    "## Shapes of returned arrays are (... shape of variable ..., iterations, chains).\n",
    "## samples = model.sample(#iterations per chain here, vars=['e_sigma', 'h'])\n",
    "samples_JAGS = model.sample(iterations, vars=['e_sigma', 'h'])\n",
    "\n",
    "## Code to save, open and use pickled dictionary of samples:\n",
    "## -- Pickle the data --\n",
    "#with open('ecc_1_test.pkl', 'wb') as handle:\n",
    "#   pickle.dump(samples, handle)\n",
    "## -- Retrieve pickled data --\n",
    "#with open('ecc_1_test.pkl', 'rb') as handle:\n",
    "#   retrieved_results = pickle.load(handle)\n"
   ]
  },
  {
   "cell_type": "markdown",
   "metadata": {},
   "source": [
    "<div>\n",
    "  <h4>Data wrangling notes:</h4>\n",
    "  <p>The pyjags output is a dictionary type (above, this is asigned to the \"samples\" variable). Here, the keys are <i>e_sigma</i>, <i>h</i>, and <i>k</i> (from the one-component analysis model used above). Furthermore, <br />\n",
    "<blockquote> e_sigma has shape (1,10000,4), <br /> \n",
    "h has shape (25,10000,4), and<br />\n",
    "</blockquote>\n",
    "The way to acces the latent variable marginal posteriors before updating the samples dictionary as we do below, you would use: \n",
    "<blockquote>\n",
    "h1 = samples['h'][0,:,:], h2 = samples['h'][1,:,:],  ... hn = samples['h'][n,:,:] and, <br />\n",
    "</blockquote>\n",
    "for n population constituents. </p>\n",
    "\n",
    "  <p>Now, we need to add keys for each latent variable into the dictionary. \n",
    "The keys we want here are:<br /> \n",
    "<blockquote> e_sigma (the population parameter here), and<br /> \n",
    "h1, ..., h25 for the latent variables.<br /> \n",
    "</blockquote> </p>\n",
    "\n",
    "  <p>Our resulting dictionary elements will have the following shapes:\n",
    "<blockquote> e_sigma will have shape (10000,4)<br /> \n",
    "h1 will have shape (10000,4)<br />\n",
    ".<br />\n",
    ".<br />\n",
    ".<br />\n",
    "h25 will have shape (10000,4)<br />\n",
    "for a data set with 25 population constituents. </p>\n",
    "</div>"
   ]
  },
  {
   "cell_type": "code",
   "execution_count": null,
   "metadata": {},
   "outputs": [],
   "source": [
    "#print(samples)\n",
    "#print(samples.items())\n",
    "\n",
    "## Print and check the shape of the resultant samples dictionary:\n",
    "print(samples_JAGS['e_sigma'].shape)\n",
    "print(samples_JAGS['e_sigma'].squeeze(0).shape)\n",
    "print(samples_JAGS['h'].shape)\n",
    "print(samples_JAGS['h'][0,:,:].shape)\n",
    "print('-----')\n",
    "\n",
    "\n",
    "## Update the samples dictionary so that it includes keys for the latent variables\n",
    "## Also, we will use LaTeX formatting to help make legible plots ahead.  \n",
    "samples_Nm1_JAGS = {}\n",
    "\n",
    "## adjust the thin varible to only look at every 10th population element by setting it to 10\n",
    "thin = 1\n",
    "## Need to enter the number of hyperparameter variables here:\n",
    "numHyperParams = 1\n",
    "## Specify the dimension we want for our plot below, for legibility.  \n",
    "dim = (Ndata/thin)*2 + numHyperParams\n",
    "print(dim)\n",
    "\n",
    "for i in np.arange(0,Ndata,thin):\n",
    "    #samples_Nm1({hval: samples['h'][i,:,:]})\n",
    "    samples_Nm1_JAGS.update({'$h_{'+str(i)+'}$': samples_JAGS['h'][i,:,:]})\n",
    "#print(samples_2['h11'].shape)\n",
    "\n",
    "## Add the hyperparameter marginal posterior back in:\n",
    "samples_Nm1_JAGS.update({'$e_{\\sigma}$': samples_JAGS['e_sigma'].squeeze(0)})\n",
    "\n",
    "## Below, examine the updated and reformatted sample dictionary to include keys for \n",
    "## latent variables \n",
    "for j, i in samples_Nm1_JAGS.items():\n",
    "    print(j)\n",
    "    print(i)\n",
    "samples_Nm1_JAGS['$h_{5}$'][0]"
   ]
  },
  {
   "cell_type": "markdown",
   "metadata": {},
   "source": [
    "<div>  <p>Below is code to look at <b>summary statistics</b> of <b>the marginal posterior distributions</b>  (the probabilistic parameter estimates) \n",
    "for the hyperparameter and the latent variables \n",
    "(each population constituent), in this case <i>h</i> and <i>k</i> (a.k.a projected eccentricity here), of the exoplanet systems we are simulating). </p> </div>"
   ]
  },
  {
   "cell_type": "code",
   "execution_count": null,
   "metadata": {},
   "outputs": [],
   "source": [
    "## equal tailed 95% credible intervals, and posterior distribution means:\n",
    "def summary(samples_JAGS, varname, p=95):\n",
    "    values = samples_JAGS[varname][0]\n",
    "    ci = np.percentile(values, [100-p, p])\n",
    "    print('{:<6} mean = {:>5.1f}, {}% credible interval [{:>4.1f} {:>4.1f}]'.format(\n",
    "      varname, np.mean(values), p, *ci))\n",
    "\n",
    "for varname in samples_Nm1_JAGS:\n",
    "    summary(samples_Nm1_JAGS, varname)\n"
   ]
  },
  {
   "cell_type": "code",
   "execution_count": null,
   "metadata": {
    "scrolled": true
   },
   "outputs": [],
   "source": [
    "## Use pandas three dimensional Panel to represent the trace:\n",
    "\n",
    "trace = pd.Panel({k: v for k, v in samples_Nm1_JAGS.items()})\n",
    "trace.axes[0].name = 'Variable'\n",
    "trace.axes[1].name = 'Iteration'\n",
    "trace.axes[2].name = 'Chain'\n",
    " \n",
    "## Point estimates:\n",
    "print(trace.to_frame().mean())\n",
    " \n",
    "## Bayesian equal-tailed 95% credible intervals:\n",
    "print(trace.to_frame().quantile([0.05, 0.95]))\n",
    "  ## ^ entering the values here could be a good question part\n",
    "    \n",
    "def plot(trace, var):\n",
    "    fig, axes = plt.subplots(1, 3, figsize=(9, 3))\n",
    "    fig.suptitle(var, y=0.95, fontsize='xx-large')\n",
    " \n",
    "    ## Marginal posterior density estimate:\n",
    "    trace[var].plot.density(ax=axes[0])\n",
    "    axes[0].set_xlabel('Parameter value')\n",
    "    axes[0].locator_params(tight=True)\n",
    " \n",
    "    ## Autocorrelation for each chain:\n",
    "    axes[1].set_xlim(0, 100)\n",
    "    for chain in trace[var].columns:\n",
    "        autocorrelation_plot(trace[var,:,chain], axes[1], label=chain)\n",
    " \n",
    "    ## Trace plot:\n",
    "    axes[2].set_ylabel('Parameter value')\n",
    "    trace[var].plot(ax=axes[2])\n",
    " \n",
    "    ## Save figure\n",
    "    filename = var.replace(\"\\\\\", \"\") \n",
    "    filename = filename.replace(\"$\", \"\") \n",
    "    filename = filename.replace(\"}\", \"\") \n",
    "    filename = filename.replace(\"{\", \"\") \n",
    "    plt.tight_layout(pad=3)\n",
    "    fig.savefig('Nm1_JAGS_'+'{}.png'.format(filename))\n",
    " \n",
    "# Display diagnostic plots\n",
    "for var in trace:\n",
    "    plot(trace, var)\n",
    " \n"
   ]
  },
  {
   "cell_type": "code",
   "execution_count": null,
   "metadata": {},
   "outputs": [],
   "source": [
    "## Scatter matrix plot:\n",
    "\n",
    "## Redefine the trace so that we only vizualize every 10th latent variable element in \n",
    "## the scatter_matrix plot below. Vizualizing all 50 is too cumbersome for the scatter\n",
    "## matrix. \n",
    "\n",
    "samples_Nm1_for_scatter_matrix = {}\n",
    "start = int(iters-1000)\n",
    "\n",
    "## adjust the thin varible to only look at every 10th population element by setting it to 10\n",
    "thin = 1\n",
    "numHyperParams = 1\n",
    "dim = (Ndata/thin)*2 + numHyperParams\n",
    "print(dim)\n",
    "\n",
    "for i in np.arange(0,Ndata,thin):\n",
    "    samples_Nm1_for_scatter_matrix.update({'$h_{'+str(i+1)+'}$': samples_JAGS['h'][i,start::,:]})\n",
    "samples_Nm1_for_scatter_matrix.update({'$e_{\\sigma}$': samples_JAGS['e_sigma'].squeeze(0)})\n",
    "\n",
    "for j, i in samples_Nm1_for_scatter_matrix.items():\n",
    "    print(j)\n",
    "#    print(i)\n",
    "\n",
    "trace_2 = pd.Panel({k: v for k, v in samples_Nm1_for_scatter_matrix.items()})\n",
    "\n",
    "sm = scatter_matrix(trace_2.to_frame(),  color=\"darkturquoise\", alpha=0.2, figsize=(dim*2, dim*2), diagonal='hist',hist_kwds={'bins':25,'histtype':'step', 'edgecolor':'r','linewidth':2})\n",
    "## y labels size\n",
    "[plt.setp(item.yaxis.get_label(), 'size', 20) for item in sm.ravel()]\n",
    "## x labels size \n",
    "[plt.setp(item.xaxis.get_label(), 'size', 20) for item in sm.ravel()]\n",
    "## Change label rotation\n",
    "## This is helpful for very long labels\n",
    "#[s.xaxis.label.set_rotation(45) for s in sm.reshape(-1)]\n",
    "[s.xaxis.label.set_rotation(0) for s in sm.reshape(-1)]\n",
    "[s.yaxis.label.set_rotation(0) for s in sm.reshape(-1)]\n",
    "## May need to offset label when rotating to prevent overlap of figure\n",
    "[s.get_yaxis().set_label_coords(-0.5,0.5) for s in sm.reshape(-1)]\n",
    "## Hide all ticks\n",
    "#[s.set_xticks(()) for s in sm.reshape(-1)]\n",
    "#[s.set_yticks(()) for s in sm.reshape(-1)]\n",
    "\n",
    "plt.savefig('scatter_matrix_Nm1_JAGS.png')\n"
   ]
  },
  {
   "cell_type": "code",
   "execution_count": null,
   "metadata": {
    "collapsed": true
   },
   "outputs": [],
   "source": [
    "\n",
    "## Redefine the trace so that we only vizualize every #th latent variable element in \n",
    "## the scatter_matrix plot below. Vizualizing all Ndata is too cumbersome for the scatter\n",
    "## matrix. \n",
    "\n",
    "## adjust the thin varible to only look at every #th population element \n",
    "##Ndata is 25 use \n",
    "thin = 5\n",
    "##Ndata is 20 use\n",
    "#thin = 4\n",
    "\n",
    "## Re-specify the dimension we want for our plot below, with thinning, for legibility.  \n",
    "dim2 = (Ndata/thin) + numHyperParams\n",
    "print(dim2)\n",
    "\n",
    "samples_Nm1_triangle_1_JAGS = {}\n",
    "truths_hhat = {}\n",
    "truths_h = {}\n",
    "for i in np.arange(0,Ndata,thin):\n",
    "    samples_Nm1_triangle_1_JAGS.update({'$h_{'+str(i+1)+'}$': samples_JAGS['h'][:,i]})\n",
    "    truths_hhat.update({'$h_{'+str(i+1)+'}$': hhat[i]})\n",
    "    truths_h.update({'$h_{'+str(i+1)+'}$': h[i]})\n",
    "samples_Nm1_triangle_1_JAGS.update({'$e_{\\sigma}$': samples_JAGS['e_sigma']})\n",
    "truths_hhat.update({'$e_{\\sigma}$': sigmae})\n",
    "truths_h.update({'$e_{\\sigma}$': sigmae})\n",
    "\n",
    "## Reshape values for diagnostic plot functions (trace, autocorrelation, scatter_matrix):  \n",
    "#samples_Nm1_triangle_trace_Stan = {}    \n",
    "#for j, i in samples_Nm1_triangle_Stan.items():\n",
    "#    samples_Nm1_triangle_trace_Stan.update({str(j): i.reshape(int(len(i)/num_chains),-1)})\n",
    "#\n",
    "#print(list(samples_Nm1_scatter_matrix_trace.items()))\n",
    "#print(list(samples_Nm1_scatter_matrix_trace['$h_{6}$'][0]))\n",
    "\n"
   ]
  },
  {
   "cell_type": "code",
   "execution_count": null,
   "metadata": {
    "collapsed": true
   },
   "outputs": [],
   "source": [
    "\n",
    "#data = np.asarray(samples_Nm1_scatter_matrix_triangle.values()).reshape((5000*num_chains),int(dim2))\n",
    "#print(np.asarray(samples_Nm1_scatter_matrix_triangle.values()).reshape((5000*num_chains),int(dim2)).shape)\n",
    "\n",
    "samples_Nm1_triangle_2_Stan = {}    \n",
    "for j, i in samples_Nm1_triangle_1_Stan.items():\n",
    "    samples_Nm1_triangle_2_Stan.update({str(j): i.reshape(-1,1)})\n",
    "    \n",
    "data = None\n",
    "for k, v in samples_Nm1_triangle_2_Stan.items():\n",
    "    column = v.reshape(-1,1)\n",
    "    if data is None:\n",
    "        data = column\n",
    "    else:\n",
    "        data = np.hstack((data, column))\n",
    "\n",
    "print(data.shape)\n",
    "\n",
    "figure = triangle_linear.corner(data,labels=samples_Nm1_triangle_2_Stan.keys(),labelsy=samples_Nm1_triangle_2_Stan.keys(), truths=truths_h.values(), truths_color = 'black')\n",
    "\n",
    "plt.savefig('triangle_linear_Nm1_JAGS.png')\n"
   ]
  },
  {
   "cell_type": "code",
   "execution_count": null,
   "metadata": {
    "collapsed": true
   },
   "outputs": [],
   "source": [
    "def plot_2(Ndata):\n",
    "    for i in np.arange(0,Ndata):\n",
    "        fig = plt.figure(figsize=(8,5))\n",
    "        x = np.arange(-1,1, 0.001)\n",
    "        fit = stats.norm.pdf(x, h[i], sigmahobs) \n",
    "        plt.plot([hhat[i],hhat[i]], [0,10],label=r'$\\hat{h_{'+str(i)+'}}$ (measured)')\n",
    "        plt.plot([h[i],h[i]], [0,10],label=r'$h_{'+str(i)+'}$ (true value)')\n",
    "        plt.plot(x,fit,'-',label=r'$N(h_{'+str(i)+'},\\sigma_{\\hat{h_{'+str(i)+'}}})$')\n",
    "        plt.hist(samples_Stan['h'][:,i],histtype='step', bins=50, normed=True,label=r'Marginal Posterior of $h_{'+str(i)+'}$')\n",
    "        plt.xlim(-0.7,0.7)\n",
    "        plt.ylim(0,13)\n",
    "        plt.legend()\n",
    "        plt.text(-.49, 12,'variance of posterior  = '+str(np.var(samples_Stan['h'][:,i])))\n",
    "        plt.text(-.49, 11.5,'variance of observation = '+str(sigmahobs**2))\n",
    "        plt.tight_layout(pad=3)\n",
    "        fig.savefig('Nm1_latent_var_h_JAGS'+str(i)+'.png')\n",
    "\n",
    "plot_2(Ndata)        "
   ]
  },
  {
   "cell_type": "markdown",
   "metadata": {},
   "source": [
    "<h3 align=\"left\"> 5. Exploring the size of your dataset (Ndata) and the precision of your measurements </h3> Go to the beginning of the notebook and adjust Ndata so that it is much smaller, say around 5 or 10 and rerun your notebooks (be sure to add an extension to your diagnostic plot filenames)\n",
    "\n",
    "Now adjust the precision (sigmahobs) to a much smaller number (say 0.001), and re-run your notebooks. "
   ]
  },
  {
   "cell_type": "markdown",
   "metadata": {},
   "source": [
    "<h3 align=\"left\">Challenge Problem: Missing data </h3>\n",
    "\n"
   ]
  },
  {
   "cell_type": "markdown",
   "metadata": {},
   "source": [
    "Using JAGS, you can experiment with a situation where you may have some missing data. to incorporate missing data, you can insert an 'NA' in your input data. This is possible in a hierarchical model because for each iteration in the MCMC routine, a value can be drawn from the population distribution.  The challenge problem here is to data wrangle your input data for hhat, replacing a percentage of the values with 'NA'. After you have your new hhat array, you can read it into your PyJAGS infrastructure above and investigate."
   ]
  }
 ],
 "metadata": {
  "kernelspec": {
   "display_name": "Python 3",
   "language": "python",
   "name": "python3"
  },
  "language_info": {
   "codemirror_mode": {
    "name": "ipython",
    "version": 3
   },
   "file_extension": ".py",
   "mimetype": "text/x-python",
   "name": "python",
   "nbconvert_exporter": "python",
   "pygments_lexer": "ipython3",
   "version": "3.6.2"
  }
 },
 "nbformat": 4,
 "nbformat_minor": 1
}
