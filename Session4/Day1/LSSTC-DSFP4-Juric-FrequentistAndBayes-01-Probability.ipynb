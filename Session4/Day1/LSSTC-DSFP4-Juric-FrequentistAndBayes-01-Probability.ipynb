{
 "cells": [
  {
   "cell_type": "markdown",
   "metadata": {
    "slideshow": {
     "slide_type": "slide"
    }
   },
   "source": [
    "# Frequentism and Bayesianism I: a Practical Introduction\n",
    "\n",
    "**Mario Juric & Jake VanderPlas, University of Washington**\n",
    "\n",
    "**e-mail: <mjuric@astro.washington.edu>, twitter: [@mjuric](http://twitter.com/mjuric)**\n",
    "\n",
    "---"
   ]
  },
  {
   "cell_type": "markdown",
   "metadata": {},
   "source": [
    "*This lecture is based on a [post](http://jakevdp.github.io/blog/2014/03/11/frequentism-and-bayesianism-a-practical-intro/) on the blog [Pythonic Perambulations](http://jakevdp.github.io), by [Jake VanderPlas](https://staff.washington.edu/jakevdp/). The content is BSD licensed. See also VanderPlas (2014) [\"Frequentism and Bayesianism: A Python-driven Primer\"](http://arxiv.org/abs/1411.5018).*\n",
    "\n",
    "*Slides built using the excellent [RISE](https://github.com/damianavila/RISE) Jupyter extension by [Damian Avila](https://github.com/damianavila).*"
   ]
  },
  {
   "cell_type": "markdown",
   "metadata": {
    "slideshow": {
     "slide_type": "slide"
    }
   },
   "source": [
    "<!-- PELICAN_BEGIN_SUMMARY -->\n",
    "\n",
    "One of the first things a scientist hears about statistics is that there is are two different approaches: ***Frequentism*** and ***Bayesianism***. Despite their importance, many scientific researchers never have opportunity to learn the distinctions between them and the different practical approaches that result.\n",
    "\n",
    "The purpose of this lecture is to synthesize the philosophical and pragmatic aspects of the frequentist and Bayesian approaches, so that scientists like you might be better prepared to understand the types of data analysis people do.\n",
    "\n",
    "We'll start by addressing the philosophical distinctions between the views, and from there move to discussion of how these ideas are applied in practice, with some Python code snippets demonstrating the difference between the approaches.\n",
    "\n",
    "<!-- PELICAN_END_SUMMARY -->"
   ]
  },
  {
   "cell_type": "markdown",
   "metadata": {
    "slideshow": {
     "slide_type": "slide"
    }
   },
   "source": [
    "## Prerequisites\n",
    "\n",
    "* Python Version 2.7\n",
    "* The \"PyData\" data science software stack (comes with [Anaconda](https://www.anaconda.com/download/)).\n",
    "\n",
    "\n",
    "* [emcee](http://dan.iel.fm/emcee/) -- a pure-Python implementation of Goodman & Weare’s Affine Invariant Markov chain Monte Carlo (MCMC) Ensemble sampler.\n",
    "* [AstroML](http://www.astroml.org/) -- a library of statistical and machine learning routines for analyzing, loading, and visualizing astronomical data in Python."
   ]
  },
  {
   "cell_type": "markdown",
   "metadata": {
    "slideshow": {
     "slide_type": "slide"
    }
   },
   "source": [
    "## Frequentism vs. Bayesianism: a Philosophical Debate"
   ]
  },
  {
   "cell_type": "markdown",
   "metadata": {
    "slideshow": {
     "slide_type": "slide"
    }
   },
   "source": [
    "<br>\n",
    "<center>Fundamentally, the disagreement between frequentists and Bayesians concerns the definition (interpretation) of probability.</center>\n",
    "<br>"
   ]
  },
  {
   "cell_type": "markdown",
   "metadata": {
    "slideshow": {
     "slide_type": "slide"
    }
   },
   "source": [
    "### Frequentist Probability\n",
    "\n",
    "For frequentists, probability only has meaning in terms of **a limiting case of repeated measurements**.\n",
    "\n",
    "That is, if I measure the photon flux $F$ from a given star (we'll assume for now that the star's flux does not vary with time), then measure it again, then again, and so on, each time I will get a slightly different answer due to the statistical error of my measuring device. In the limit of a large number of measurements, the *frequency* of any given value indicates the probability of measuring that value."
   ]
  },
  {
   "cell_type": "markdown",
   "metadata": {
    "slideshow": {
     "slide_type": "slide"
    }
   },
   "source": [
    "For frequentists **probabilities are fundamentally related to frequencies of events**. This means, for example, that in a strict frequentist view, it is meaningless to talk about the probability of the *true* flux of the star: the true flux is (by definition) a single fixed value, and to talk about a frequency distribution for a fixed value is nonsense."
   ]
  },
  {
   "cell_type": "markdown",
   "metadata": {
    "slideshow": {
     "slide_type": "slide"
    }
   },
   "source": [
    "### Bayesian Probability\n",
    "\n",
    "For Bayesians, the concept of probability is extended to cover **degrees of certainty about statements**. You can think of it as an **extension of logic** to statements where there's uncertainty.\n",
    "\n",
    "Say a Bayesian claims to measure the flux $F$ of a star with some probability $P(F)$: that probability can certainly be estimated from frequencies in the limit of a large number of repeated experiments, but this is not fundamental. The probability is a statement of my knowledge of what the measurement reasult will be."
   ]
  },
  {
   "cell_type": "markdown",
   "metadata": {
    "slideshow": {
     "slide_type": "slide"
    }
   },
   "source": [
    "For Bayesians, **probabilities are fundamentally related to our own knowledge about an event**. This means, for example, that in a Bayesian view, we can meaningfully talk about the probability that the *true* flux of a star lies in a given range.\n",
    "\n",
    "That probability codifies our knowledge of the value based on prior information and/or available data."
   ]
  },
  {
   "cell_type": "markdown",
   "metadata": {
    "slideshow": {
     "slide_type": "slide"
    }
   },
   "source": [
    "The surprising thing is that this arguably subtle difference in philosophy leads, in practice, to vastly different approaches to the statistical analysis of data.  Below I will give a few practical examples of the differences in approach, along with associated Python code to demonstrate the practical aspects of the resulting methods."
   ]
  },
  {
   "cell_type": "markdown",
   "metadata": {
    "slideshow": {
     "slide_type": "slide"
    }
   },
   "source": [
    "## Frequentist and Bayesian Approaches in Practice: Counting Photons"
   ]
  },
  {
   "cell_type": "markdown",
   "metadata": {},
   "source": [
    "Here we'll take a look at an extremely simple problem, and compare the frequentist and Bayesian approaches to solving it. There's necessarily a bit of mathematical formalism involved, but we won't go into too much depth or discuss too many of the subtleties.\n",
    "\n",
    "If you want to go deeper, you might consider taking a look at chapters 4-5 of the [Statistics, Data Mining, and Machine Learning in Astronomy](http://www.amazon.com/dp/0691151687/) textbook."
   ]
  },
  {
   "cell_type": "markdown",
   "metadata": {
    "slideshow": {
     "slide_type": "slide"
    }
   },
   "source": [
    "### The Problem: Simple Photon Counts"
   ]
  },
  {
   "cell_type": "markdown",
   "metadata": {},
   "source": [
    "Imagine that we point our telescope to the sky, and observe the light coming from a single star. For the time being, we'll assume that the star's true flux is constant with time, i.e. that is it has a fixed value $F_{\\rm true}$ (we'll also ignore effects like sky noise and other sources of systematic error). We'll assume that we perform a series of $N$ measurements with our telescope, where the $i^{\\rm th}$ measurement reports the observed photon flux $F_i$ and error $e_i$.\n",
    "\n",
    "**The question is, given this set of measurements $D = \\{F_i,e_i\\}$, what is our best estimate of the true flux $F_{\\rm true}$?**"
   ]
  },
  {
   "cell_type": "markdown",
   "metadata": {
    "slideshow": {
     "slide_type": "slide"
    }
   },
   "source": [
    "#### Aside on measurement errors\n",
    "\n",
    "We'll make the (reasonable) assumption that errors are Gaussian:\n",
    "* In a Frequentist perspective, $e_i$ is the standard deviation of the results of a single measurement event in the limit of repetitions of *that event*.\n",
    "* In the Bayesian perspective, $e_i$ is the standard deviation of the (Gaussian) probability distribution describing our knowledge of that particular measurement given its observed value)"
   ]
  },
  {
   "cell_type": "markdown",
   "metadata": {
    "slideshow": {
     "slide_type": "slide"
    }
   },
   "source": [
    "Here we'll use Python to generate some toy data to demonstrate the two approaches to the problem.\n",
    "\n",
    "Because the measurements are number counts, a Poisson distribution is a good approximation to the measurement process:"
   ]
  },
  {
   "cell_type": "code",
   "execution_count": 1,
   "metadata": {},
   "outputs": [],
   "source": [
    "# Generating some simple photon count data\n",
    "import numpy as np\n",
    "from scipy import stats\n",
    "np.random.seed(1)  # for repeatability\n",
    "\n",
    "F_true = 1000  # true flux, say number of photons measured in 1 second\n",
    "N = 50 # number of measurements\n",
    "F = stats.poisson(F_true).rvs(N)  # N measurements of the flux\n",
    "e = np.sqrt(F)  # errors on Poisson counts estimated via square root"
   ]
  },
  {
   "cell_type": "markdown",
   "metadata": {
    "slideshow": {
     "slide_type": "slide"
    }
   },
   "source": [
    "Now let's make a simple visualization of the \"measured\" data:"
   ]
  },
  {
   "cell_type": "code",
   "execution_count": 2,
   "metadata": {},
   "outputs": [
    {
     "data": {
      "image/png": "iVBORw0KGgoAAAANSUhEUgAAAYIAAAEKCAYAAAAfGVI8AAAABHNCSVQICAgIfAhkiAAAAAlwSFlz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\n",
      "text/plain": [
<<<<<<< HEAD
       "<matplotlib.figure.Figure at 0x7fee7279e390>"
=======
       "<matplotlib.figure.Figure at 0x10b403890>"
>>>>>>> 95ca2425e7c990868cbf834814d4d54af807d89c
      ]
     },
     "metadata": {},
     "output_type": "display_data"
    }
   ],
   "source": [
    "%matplotlib inline\n",
    "import matplotlib.pyplot as plt\n",
    "\n",
    "fig, ax = plt.subplots()\n",
    "ax.errorbar(F, np.arange(N), xerr=e, fmt='ok', ecolor='gray', alpha=0.5)\n",
    "ax.vlines([F_true], 0, N, linewidth=5, alpha=0.2)\n",
    "ax.set_xlabel(\"Flux\");ax.set_ylabel(\"measurement number\");"
   ]
  },
  {
   "cell_type": "markdown",
   "metadata": {
    "slideshow": {
     "slide_type": "slide"
    }
   },
   "source": [
    "These measurements each have a different error $e_i$ which is estimated from [Poisson statistics](http://en.wikipedia.org/wiki/Poisson_distribution) using the standard square-root rule.\n",
    "\n",
    "In this toy example we already know the true flux $F_{\\rm true}$, but the question is this: **given our measurements and errors, what is our best estimate of the true flux?**\n",
    "\n",
    "Let's take a look at the frequentist and Bayesian approaches to solving this."
   ]
  },
  {
   "cell_type": "markdown",
   "metadata": {
    "slideshow": {
     "slide_type": "slide"
    }
   },
   "source": [
    "### Frequentist Approach to Simple Photon Counts"
   ]
  },
  {
   "cell_type": "markdown",
   "metadata": {
    "slideshow": {
     "slide_type": "slide"
    }
   },
   "source": [
    "We'll start with the classical frequentist **maximum likelihood** approach. Given a single observation $D_i = (F_i, e_i)$, we can compute the probability distribution of the measurement given the true flux $F_{\\rm true}$ given our assumption of Gaussian errors:\n",
    "\n",
    "$$ P(D_i~|~F_{\\rm true}) = \\frac{1}{\\sqrt{2\\pi e_i^2}} \\exp{\\left[\\frac{-(F_i - F_{\\rm true})^2}{2 e_i^2}\\right]} $$\n",
    "\n",
    "This should be read \"the probability of $D_i$ given $F_{\\rm true}$ equals ...\". You should recognize this as a normal distribution with mean $F_{\\rm true}$ and standard deviation $e_i$."
   ]
  },
  {
   "cell_type": "markdown",
   "metadata": {
    "slideshow": {
     "slide_type": "slide"
    }
   },
   "source": [
    "We construct the **likelihood function** by computing the product of the probabilities for each data point:\n",
    "\n",
    "$$\\mathcal{L}(D~|~F_{\\rm true}) = \\prod_{i=1}^N P(D_i~|~F_{\\rm true})$$\n",
    "\n",
    "Here $D = \\{D_i\\}$ represents the entire set of measurements. Because the value of the likelihood can become very small, it is often more convenient to instead compute the log-likelihood.  Combining the previous two equations and computing the log, we have\n",
    "\n",
    "$$\\log\\mathcal{L} = -\\frac{1}{2} \\sum_{i=1}^N \\left[ \\log(2\\pi  e_i^2) + \\frac{(F_i - F_{\\rm true})^2}{e_i^2} \\right]$$"
   ]
  },
  {
   "cell_type": "markdown",
   "metadata": {
    "slideshow": {
     "slide_type": "slide"
    }
   },
   "source": [
    "What we'd like to do is determine $F_{\\rm true}$ such that the likelihood is maximized. For this simple problem, the maximization can be computed analytically (i.e. by setting $d\\log\\mathcal{L}/dF_{\\rm true} = 0$). This results in the following observed estimate of $F_{\\rm true}$:\n",
    "\n",
    "$$ F_{\\rm est} = \\frac{\\sum w_i F_i}{\\sum w_i};~~w_i = 1/e_i^2 $$\n",
    "\n",
    "Notice that in the special case of all errors $e_i$ being equal, this reduces to\n",
    "\n",
    "$$ F_{\\rm est} = \\frac{1}{N}\\sum_{i=1}^N F_i $$\n",
    "\n",
    "That is, in agreement with intuition, $F_{\\rm est}$ is simply the mean of the observed data when errors are equal."
   ]
  },
  {
   "cell_type": "markdown",
   "metadata": {
    "slideshow": {
     "slide_type": "slide"
    }
   },
   "source": [
    "We can go further and ask what the error of our estimate is? In the frequentist approach, this can be accomplished by fitting a Gaussian approximation to the likelihood curve at maximum; in this simple case this can also be solved analytically.\n",
    "\n",
    "It can be shown that the standard deviation of this Gaussian approximation is:\n",
    "\n",
    "$$ \\sigma_{\\rm est} = \\left(\\sum_{i=1}^N w_i \\right)^{-1/2} $$"
   ]
  },
  {
   "cell_type": "markdown",
   "metadata": {
    "slideshow": {
     "slide_type": "slide"
    }
   },
   "source": [
    "These results are fairly simple calculations; let's evaluate them for our toy dataset:"
   ]
  },
  {
   "cell_type": "code",
   "execution_count": 3,
   "metadata": {},
   "outputs": [
    {
     "name": "stdout",
     "output_type": "stream",
     "text": [
      "\n",
      "      F_true = 1000\n",
      "      F_est  = 998 +/- 4 (based on 50 measurements)\n",
      "      \n"
     ]
    }
   ],
   "source": [
    "w = 1. / e ** 2\n",
    "print(\"\"\"\n",
    "      F_true = {0}\n",
    "      F_est  = {1:.0f} +/- {2:.0f} (based on {3} measurements)\n",
    "      \"\"\".format(F_true, (w * F).sum() / w.sum(), w.sum() ** -0.5, N))"
   ]
  },
  {
   "cell_type": "markdown",
   "metadata": {},
   "source": [
    "We find that for 50 measurements of the flux, our estimate has an error of about 0.4% and is consistent with the input value."
   ]
  },
  {
   "cell_type": "markdown",
   "metadata": {
    "slideshow": {
     "slide_type": "slide"
    }
   },
   "source": [
    "### Bayesian Approach to Simple Photon Counts"
   ]
  },
  {
   "cell_type": "markdown",
   "metadata": {},
   "source": [
    "The Bayesian approach, as you might expect, begins and ends with probabilities.  It recognizes that what we fundamentally want to compute is our knowledge of the parameters in question, i.e. in this case,\n",
    "\n",
    "$$ P(F_{\\rm true}~|~D) $$\n",
    "\n",
    "N.b.: that this formulation of the problem is *fundamentally contrary* to the frequentist philosophy, which says that *probabilities have no meaning for model parameters* like $F_{\\rm true}$. Within the ***Bayesian interpretation of probability***, this is perfectly acceptable. "
   ]
  },
  {
   "cell_type": "markdown",
   "metadata": {
    "slideshow": {
     "slide_type": "slide"
    }
   },
   "source": [
    "To compute this result, Bayesians next apply [Bayes' Theorem](http://en.wikipedia.org/wiki/Bayes\\'_theorem), a fundamental law of probability:\n",
    "\n",
    "$$ P(F_{\\rm true}~|~D) = \\frac{P(D~|~F_{\\rm true})~P(F_{\\rm true})}{P(D)} $$\n",
    "\n",
    "Though Bayes' theorem is where Bayesians get their name, it is not this law itself that is controversial, but the Bayesian *interpretation of probability* implied by the term $P(F_{\\rm true}~|~D)$."
   ]
  },
  {
   "cell_type": "markdown",
   "metadata": {
    "slideshow": {
     "slide_type": "slide"
    }
   },
   "source": [
    "Let's take a look at each of the terms in this expression:\n",
    "\n",
    "- $P(F_{\\rm true}~|~D)$: The **posterior**, or the probability of the model parameters given the data: this is the result we want to compute.\n",
    "- $P(D~|~F_{\\rm true})$: The **likelihood**, which is proportional to the $\\mathcal{L}(D~|~F_{\\rm true})$ in the frequentist approach, above.\n",
    "- $P(F_{\\rm true})$: The **model prior**, which encodes what we knew about the model prior to the application of the data $D$.\n",
    "- $P(D)$: The **data probability**, which in practice amounts to simply a normalization term."
   ]
  },
  {
   "cell_type": "markdown",
   "metadata": {
    "slideshow": {
     "slide_type": "slide"
    }
   },
   "source": [
    "If we set the prior $P(F_{\\rm true}) \\propto 1$ (a *flat prior*), we find\n",
    "\n",
    "$$P(F_{\\rm true}|D) \\propto \\mathcal{L}(D|F_{\\rm true})$$\n",
    "\n",
    "and the Bayesian probability is maximized at precisely the same value as the frequentist result! So despite the philosophical differences, we see that (for this simple problem at least) the Bayesian and frequentist point estimates are equivalent."
   ]
  },
  {
   "cell_type": "markdown",
   "metadata": {
    "slideshow": {
     "slide_type": "slide"
    }
   },
   "source": [
    "### But What About the Prior?"
   ]
  },
  {
   "cell_type": "markdown",
   "metadata": {},
   "source": [
    "We glossed over something here: the prior, $P(F_{\\rm true})$.\n",
    "\n",
    "The prior ***allows inclusion of other information into the computation***, which becomes very useful in cases where multiple measurement strategies are being combined to constrain a single model (as is the case in, e.g. cosmological parameter estimation).\n",
    "\n",
    "The necessity to specify a prior, however, is one of the more controversial pieces of Bayesian analysis."
   ]
  },
  {
   "cell_type": "markdown",
   "metadata": {
    "slideshow": {
     "slide_type": "slide"
    }
   },
   "source": [
    "### But What About the Prior?\n",
    "\n",
    "A frequentist will point out that the ***prior is problematic when no true prior information is available***. Though it might seem straightforward to use a **noninformative prior** like the flat prior mentioned above, there are some [surprisingly subtleties](http://normaldeviate.wordpress.com/2013/07/13/lost-causes-in-statistics-ii-noninformative-priors/comment-page-1/) involved. It turns out that in many situations, a truly noninformative prior does not exist!\n",
    "\n",
    "***Frequentists point out that the subjective choice of a prior which necessarily biases your result has no place in statistical data analysis***. A Bayesian would counter that frequentism doesn't solve this problem, but simply skirts the question.\n",
    "\n",
    "Frequentism can often be viewed as simply a special case of the Bayesian approach for some (implicit) choice of the prior: ***a Bayesian would say that it's better to make this implicit choice explicit, even if the choice might include some subjectivity***."
   ]
  },
  {
   "cell_type": "markdown",
   "metadata": {
    "slideshow": {
     "slide_type": "slide"
    }
   },
   "source": [
    "### Photon Counts: the Bayesian approach"
   ]
  },
  {
   "cell_type": "markdown",
   "metadata": {
    "slideshow": {
     "slide_type": "slide"
    }
   },
   "source": [
    "Leaving these philosophical debates aside for the time being, let's address how Bayesian results are generally computed in practice.\n",
    "\n",
    "For a one parameter problem like the one considered here, it's as simple as computing the posterior probability $P(F_{\\rm true}~|~D)$ as a function of $F_{\\rm true}$: this is the distribution reflecting our knowledge of the parameter $F_{\\rm true}$.\n",
    "\n",
    "But as the dimension of the model grows, this direct approach becomes increasingly intractable. For this reason, Bayesian calculations often depend on sampling methods such as [Markov Chain Monte Carlo (MCMC)](http://en.wikipedia.org/wiki/Markov_chain_Monte_Carlo). Here, we'll be using Dan Foreman-Mackey's excellent [emcee](http://dan.iel.fm/emcee/current/)  package.  Keep in mind here that the goal is to *generate a set of points drawn from the posterior probability distribution*, and to use those points to determine the answer we seek."
   ]
  },
  {
   "cell_type": "markdown",
   "metadata": {
    "slideshow": {
     "slide_type": "slide"
    }
   },
   "source": [
    "To perform this MCMC, we start by defining Python functions for the prior $P(F_{\\rm true})$, the likelihood $P(D~|~F_{\\rm true})$, and the posterior $P(F_{\\rm true}~|~D)$, noting that none of these need be properly normalized. \n",
    "\n",
    "Our model here is one-dimensional, but to handle multi-dimensional models we'll define the model in terms of an array of parameters $\\theta$, which in this case is $\\theta = [F_{\\rm true}]$:"
   ]
  },
  {
   "cell_type": "code",
   "execution_count": 4,
   "metadata": {},
   "outputs": [],
   "source": [
    "def log_prior(theta):\n",
    "    return 1  # flat prior\n",
    "\n",
    "def log_likelihood(theta, F, e):\n",
    "    return -0.5 * np.sum(np.log(2 * np.pi * e ** 2)\n",
    "                         + (F - theta[0]) ** 2 / e ** 2)\n",
    "\n",
    "def log_posterior(theta, F, e):\n",
    "    return log_prior(theta) + log_likelihood(theta, F, e)"
   ]
  },
  {
   "cell_type": "markdown",
   "metadata": {
    "slideshow": {
     "slide_type": "slide"
    }
   },
   "source": [
    "Now we set up the problem, including generating some random starting guesses for the multiple chains of points."
   ]
  },
  {
   "cell_type": "code",
   "execution_count": 5,
   "metadata": {},
   "outputs": [],
   "source": [
    "ndim = 1  # number of parameters in the model\n",
    "nwalkers = 50  # number of MCMC walkers\n",
    "nburn = 1000  # \"burn-in\" period to let chains stabilize\n",
    "nsteps = 2000  # number of MCMC steps to take\n",
    "\n",
    "# we'll start at random locations between 0 and 2000\n",
    "starting_guesses = 2000 * np.random.rand(nwalkers, ndim)\n",
    "\n",
    "import emcee\n",
    "sampler = emcee.EnsembleSampler(nwalkers, ndim, log_posterior, args=[F, e])\n",
    "sampler.run_mcmc(starting_guesses, nsteps)\n",
    "\n",
    "sample = sampler.chain  # shape = (nwalkers, nsteps, ndim)\n",
    "sample = sampler.chain[:, nburn:, :].ravel()  # discard burn-in points"
   ]
  },
  {
   "cell_type": "markdown",
   "metadata": {
    "slideshow": {
     "slide_type": "slide"
    }
   },
   "source": [
    "If this all worked correctly, the array ``sample`` should contain a series of 50000 points drawn from the posterior. Let's plot them and check:"
   ]
  },
  {
   "cell_type": "code",
   "execution_count": 6,
   "metadata": {},
   "outputs": [
    {
     "data": {
      "text/plain": [
<<<<<<< HEAD
       "<matplotlib.text.Text at 0x7fee6faa7c18>"
=======
       "<matplotlib.text.Text at 0x10f9a9a50>"
>>>>>>> 95ca2425e7c990868cbf834814d4d54af807d89c
      ]
     },
     "execution_count": 6,
     "metadata": {},
     "output_type": "execute_result"
    },
    {
     "data": {
<<<<<<< HEAD
      "image/png": "iVBORw0KGgoAAAANSUhEUgAAAYwAAAEKCAYAAAAB0GKPAAAABHNCSVQICAgIfAhkiAAAAAlwSFlz\nAAALEgAACxIB0t1+/AAAIABJREFUeJzt3Xl8VPW9//HXh4QkgAIKYRHRsAQhQCAhLAFCkEVFKliX\nXq2KtlVqW1v13p+2vbf9/cTe9rYut1frSq1esVK1CkIFq0QkkGCAsAgkoEZcIkJkUSBsCeT7+2Mm\nNI2EDJCTM8v7+XjMg8k5Z2beRwnvOed7FnPOISIi0pgWfgcQEZHIoMIQEZGQqDBERCQkKgwREQmJ\nCkNEREKiwhARkZCoMEREJCQqDBERCYkKQ0REQhLvd4Cm1LFjR5eSkuJ3DBGRiLF69eqdzrnkUJaN\nqsJISUmhuLjY7xgiIhHDzD4JdVntkhIRkZCoMEREJCQqDBERCYkKQ0REQqLCEBGRkKgwREQkJCoM\nEREJiQpDRERCosIQEZGQRNWZ3iJeyCut+KefJ6R19imJiL+0hSEiIiFRYYiISEhUGCIiEhIVhoiI\nhESD3iJ11B/gFpF/0BaGiIiERIUhIiIhUWGINOL9kne5+3tX8+rzT3Fgf6XfcUR8o8IQOYEvtm3l\nlz+8gZK1q3j0N7/g2nEZ3HnnnWzZssXvaCLNToUh0oAD+yv55Y+mcejQQR596e/84S8LGZE7kUce\neYTevXszdepUFi9ejHPO76gizUKFIXIcR48e5Td33crHZZv5xYMzSendl77pmfz8vsd4blEx355+\nB0sLChk/fjxPPPGE33FFmoUKQ+Q4Zt4/gxX5efzo5//J0NEX/tO8jp26cNNPfsrzeasZmDWCe++9\nlwMHDviUVKT5qDBE6vnbi88y57mZXH79zUy59jsNLpeQmMRNP/4p27dv11aGxAQVhkgdxYVLeOTX\n/86wMeO59e4ZjS6fnpXN+PHj+d3vfsf+/fubIaGIf1QYIkGbN2/mV/96C+f36sN/PPAkcXFxIb1u\nxowZfPHFFzz++OMeJxTxlwpDJOiee+6hRYsW/Oejz9G6zRkhv27UqFFMnDiR++67j8pKnach0UuF\nIQLs3r2buXPnMmHK1XQ659yTfv2MGTPYsWMHjz76qAfpRMKDCkMEmD17NlVVVVzyzWtP6fXZ2dlc\ncskl3H///ezbt6+J04mEBxWGxLS80grySit46LGZpKal06tv/1N+j8k3/oRdu3bxyCOPeJBUxH8q\nDIl5ZZs2ULZpAxd/85rTep++6ZkMGzOeBx54gL179zZROpHwocKQmPfG3Bdo2TKBCy/95mm/17Qf\n3cXu3bt5+OGHmyCZSHhRYUhMq6o6zFuvzWHUhEm0bX/Wab/fBQMGc9lll/Hggw+yZ8+eJkgoEj5U\nGBLT3nn7Dfbt+ZKLT3Gw+3juuecevvrqK41lSNTxtDDM7BIze8/MyszsZ8eZb2b2cHD+ejPLrDPv\nTjMrMbONZvYXM0vyMqvEpjfm/IXkLt3IGJHTZO+ZmZnJ2LFjmT17dpO9p0g48KwwzCwOeBSYBKQB\n15pZWr3FJgGpwcd04PHga7sBPwGynHMDgDjg9EYkReopLy+nuHAJF13+rZDP6g5FXmkF/UaMp7S0\nlGdfL2qy9xXxm5dbGMOAMufcFudcFfACMLXeMlOBWS6gCGhvZl2D8+KBVmYWD7QGPvcwq8SgWbNm\n4Zzj4sub/rvIyHEXA7D87b83+XuL+MXLwugGlNf5+bPgtEaXcc5tBR4APgW2AXucc296mFViTE1N\nDU8//TSDh42ia/fzm/z9u3Q7j5590nhn8RtN/t4ifgnLQW8zO4vA1kcP4BygjZld38Cy082s2MyK\nd+zY0ZwxJYItW7aMLVu2cPEVTTfYXV/2uIspWbuSnTt3evYZIs3Jy8LYCnSv8/O5wWmhLDMB+Mg5\nt8M5Vw3MAUYe70OcczOdc1nOuazk5OQmCy/R7ZlnnqFt27aMnnCpZ58xctwl1NTU8Nprr3n2GSLN\nycvCWAWkmlkPM0sgMGg9v94y84FpwaOlRhDY9bSNwK6oEWbW2swMGA9s8jCrxJC9e/fy17/+lWuu\nuYakVq09+5zUtHSSu5zDvHnzPPsMkeYU79UbO+eOmNltwBsEjnJ62jlXYma3Buc/ASwELgXKgAPA\nd4LzVpjZy8Aa4AiwFpjpVVaJLS+99BIHDhzgu9/9Ll5eJtDMyL7wYt6c9yIHDx6kVatWHn6aiPfM\nOed3hiaTlZXliouL/Y4hYe7CCy+koqKCkpIS3tr0haeftXp5Pj+75V+YP38+l112maefJXIqzGy1\ncy4rlGXDctBbxCuVlZUUFhZy2WWXEdjb6a30rGzatm2r3VISFVQYElPy8/Oprq7moosuapbPa5mQ\nwKWXXsr8+fM5evRos3ymiFdUGBJTnnrhVRKTWnH47N7klVY0y2dOnTqVHTt2UFSks74lsqkwJKas\nXp7PwCEjSEhsvkuTTZo0iZYtW2q3lEQ8FYbEjPLycsq3fMCQkbnN+rnt2rVj7NixKgyJeCoMiRmL\nFi0CaPbCgMBuqffff5/Nmzc3+2eLNBUVhsSMRYsWcXbHTqSk9m32z54yZQqAtjIkoqkwJCbU1NSQ\nl5fHkJG5zXI4bX3du3cnMzNThSERTYUhMWHdunXs3LmTTB92R9WaOnUqRUVFVFQ0z9FZIk1NhSEx\n4c03A1fHzxwxxrcMl19+Oc45/va3v/mWQeR0qDAkquWVVpBXWsGLc1+jZ580zk7u5FuWgQMHkpKS\not1SErFUGBL1Dh7YT8naVQwZ5d/uKAhcjHDy5Mm8/fbbVFdX+5pF5FSoMCTqbVhdRHV1FUNGjvU7\nCrm5uezfv581a9b4HUXkpKkwJOqtWb6UlgmJDMgc5ncUxowJjKHk5+f7nETk5KkwJOqtXr6EgVkj\nSEzy/34UnTt3pm/fvioMiUie3UBJJBzs/GI7H5e9x8Sp3/ItQ/2LHPZKH8bS1+dy5MgR4uP1KyiR\nQ1sYEtXWLA98kw+H8Ytag4aOZN++faxbt87vKCInRYUhUW318nzO6pBMjz79/I5yTPrQbEDjGBJ5\nVBgStWpqalhTtJTM7DG0aBE+f9U7JHcmNTVVhSERJ3x+i0Sa2Pr16/lq105frk7bmNzcXJYuXaq7\n8ElEUWFI1Kq9nHlGtn+XA2lIbm4ue/bsYf369X5HEQmZCkOi1ptvvklKal86durid5Svyc0NbPVo\nt5REEhWGRKXDhw9TUFDg68UGT6R79+707NlThSERRYUhUWnNmjUcOnSIgVkj/I7SoNpxjJqaGr+j\niIREhSFRadmyZQD0zxjqc5KG5ebmsnv3bjZu3Oh3FJGQqDAkKhUUFNCnTx/O6pDsd5QGaRxDIo0K\nQ6JOTU0NhYWF5OTk+B3lhFJSUjjvvPNUGBIxVBgSdTZv3szu3bsZPXq031EaNXbsWJYuXYpzzu8o\nIo1SYUjUKSgoAIiIwsjNzWXHjh1s2rTJ7ygijVJhSNQpKCigc+fO9OrVy+8ojaodx1iyZIm/QURC\noMKQqFNQUMDo0aMxM7+jNKpnz55069ZN4xgSEXQxfokqW7du5aOPPuInP/mJ31FOqO49Mi4YPJz8\n/HyccxFRchK7tIUhUSWSxi9qpWdlU1FRwfvvv+93FJETUmFIVCkoKKBNmzYMHjzY7yghGzRsJKDz\nMST8qTAkqhQUFJCdnR1Rtz7tdn5PunTpooFvCXsqDIkatZcLP+eCweSVVnztXtrhyszIzc09No4h\nEq48LQwzu8TM3jOzMjP72XHmm5k9HJy/3swy68xrb2Yvm9lmM9tkZtleZpXIV1RURE1NDf0zh/sd\n5aSNGTOGzz//nI8++sjvKCIN8qwwzCwOeBSYBKQB15pZWr3FJgGpwcd04PE68x4C/u6c6wsMAnRm\nk5xQQUEBLeLi6Dcws/GFw8yoUaMAWL58uc9JRBrm5RbGMKDMObfFOVcFvABMrbfMVGCWCygC2ptZ\nVzNrB4wB/gTgnKtyzn3lYVaJAgUFBfTuO4BWbdr4HeWkDRgwgLZt21JYWOh3FJEGeVkY3YDyOj9/\nFpwWyjI9gB3AM2a21syeMrPI+1dAmk1VVRVFRUUMiMDdUQBxcXGMGDFChSFhLVwHveOBTOBx51wG\nsB/42hgIgJlNN7NiMyvesWNHc2aUMFJ7w6QBmcP8jnJK8kor6JKazsaNG5m34gO/44gcl5eFsRXo\nXufnc4PTQlnmM+Az59yK4PSXCRTI1zjnZjrnspxzWcnJ4XvvA/FW7Ql7/TMiszAgkN05R+m7q/2O\nInJcXhbGKiDVzHqYWQJwDTC/3jLzgWnBo6VGAHucc9ucc9uBcjO7ILjceKDUw6wS4QoKCujduzdn\nJ3fyO8op65ueSYsWLShZu9LvKCLH5dnZTc65I2Z2G/AGEAc87ZwrMbNbg/OfABYClwJlwAHgO3Xe\n4sfA88Gy2VJvnsgxzjkKCgqYMmWK31FOS+s2Z9CjTxql64r9jiJyXJ6eDuucW0igFOpOe6LOcwf8\nqIHXrgOyvMwn0eG9995j165dEXX9qIb0zxjKm6++yJEjRyLqbHWJDeE66C0Sski84GBD+mcM49DB\nA6xfv97vKCJfo8KQiFdQUEBycjKpqal+Rzlt/TMCG9U6gU/CkQpDIt6yZcsi5oZJjenU9Vw6du6q\n8zEkLKkwJKJt27aNLVu2HLu0RqQzM/pnDFVhSFhSYUjEyiut4PEXFgCQ0C0tYq5O25j+GcMoLy+n\nvLy88YVFmpEKQyJaydpVJCQm0bvvAL+jNJm0wRrHkPCkwpCIVrJ2JRcMHEzLhAS/ozSZXhf0p3Xr\n1totJWFHhSER69DBA5Rt3hjRlwM5nviWLRk+fLi2MCTsqDAkYr23YS1HjxxhQMZQv6M0uZEjR7Ju\n3ToqKyv9jiJyjApDItbGtasA6Dco+i4I0Lp7GkePHuXxl96ImsF8iXwqDIlYpetWcX6vPrRtf5bf\nUZpcWrAES9et8jmJyD+oMCQi1dTUULquOOrGL2qd0bYdKb0v0JVrJayoMCQibdq0icq9e+gfheMX\ntfpnDKP03dXU1NT4HUUECLEwzCzJzK4ys4fM7K9mNsvM7jaz/l4HFDme2kNO06K6MIayf99ePvnw\nPb+jiAAhFIaZzQAKgWxgBfAk8BJwBPitmS0ys3RPU4rUU1hYSPuzO9DtvB5+R/FM2uBAGZas1TiG\nhIdQLri/0jn3/xqY999m1gk4rwkziTSqsLCQ/hnDouKCgw0557wU2nfoqHEMCRuh7JJ640QznXNf\nOOd0izBpNhUVFXz44YdRPX4BtRciHEbpWv16SXgIpTCOfb0xsz94mEUkJLXjF9F6hFRd/Qdn8Xn5\nx1RU6FwM8V8ohVF3mz86riEtEa2wsJDExER6pw30O4rnakux9q6CIn4KpTCc5ylETkJhYSFDhw4l\nISHR7yieS01LJyExSYUhYSGUwuhrZuvNbEOd5+vNbIOZ6cbD0qwOHjzImjVrouaGSY1pmZBA3/QM\nli1b5ncUkZCOkurneQqREBUXF1NdXR0zhQEwMHMEf/njQ+zbt48zzzzT7zgSw0LZwvjUOfdJQw8A\ni+ZjGyVs5JVW8OycwEF71R16+5ym+QwYMpyamhqKior8jiIxLpTCeNvMfmxm/3SuhZklmNk4M3sW\nuNGbeCL/rGTtSrr3TKVt+7P9jtJs+g0aQosWLbRbSnwXSmFcAhwF/mJm28ys1My2AB8A1wL/45z7\nXw8zigCBCw6WrCuO+vMv6mtzxpkMHjxYA9/iu0bHMJxzh4DHgMfMrCXQETjonPvK63AidZV/VMa+\nPV/Sf3D03f+iMTk5OcycOZOqqioSouh2tBJZQrmWVJKZ3WFmjwDfAXaoLMQPtddUioUT9uobPXr0\nsSPERPwSyi6pZ4EsYANwKfCgp4lEGlCydiXtzjqbc1N6+R2l2eXk5AA6gU/8FUphpDnnrnfOPQlc\nBeR4nEnkuErWriJt8NCovuBgQzp37kxqaqoGvsVXoRRGde0T59wRD7OINOiLL75g6ydbYm7Au67R\no0dTUFCgGyqJb0IpjEFmtjf42Aek1z43s71eBxQBWL58ORCb4xe1cnJy2L17N5s3b/Y7isSoRgvD\nORfnnGsbfJzpnIuv87xtc4QUWbp0KQmJSfQZMMjvKL6pHcfQbinxi+7pLRFhyZIlpA0aEhMXHGxI\nr1696Ny5swpDfKPCkLD31VdfsW7dOtKHjvQ7iq/MjJycHB0pJb5RYUjYW7ZsGc450odm+x3Fdzk5\nOXzyySeUl5f7HUVikApDwl5+fj6JiYn0S8/0O4pv8koryCutoOU5gYtHP/6X13xOJLHI08Iws0vM\n7D0zKzOznx1nvpnZw8H5680ss978ODNba2b67YhhS5YsYcSIESQkJvkdxXc9L+hP6zZnsHHNCr+j\nSAzyrDDMLA54FJgEpAHXmllavcUmAanBx3Tg8Xrzbwc2eZVRwlteaQXzVnzA2rVrOa9/7F0/6nji\n4uJIGzyUDSoM8YGXWxjDgDLn3BbnXBXwAjC13jJTgVkuoAhob2ZdAczsXGAy8JSHGSXMbVyzgpqa\nGtKzNH5Ra8CQ4Xz8wWZ2797tdxSJMV4WRjeg7sjcZ8FpoS7zP8DdwAlPazWz6WZWbGbFO3bsOL3E\nEnbeXbWcli0T6DdoiN9RwsaAzMDJi7UnM4o0l7Ac9DazbwBfOOdWN7asc26mcy7LOZeVnJzcDOmk\nOa1f9Q590zNJTGrld5Sw0XdgBvHxLXU+hjQ7LwtjK9C9zs/nBqeFsswoYIqZfUxgV9Y4M/uzd1El\nHO2v3McHpet1OG09iUmt6DNgsApDmp2XhbEKSDWzHmaWAFwDzK+3zHxgWvBoqRHAHufcNufcz51z\n5zrnUoKvW+ycu97DrBKGStauDIxfxPgJe8czIHMYxcXFHDx40O8oEkM8K4zglW1vA94gcKTTS865\nEjO71cxuDS62ENgClAF/BH7oVR6JPO+uXE58fEvSNH7xNQOHDKe6upqVK1f6HUViSKO3aD0dzrmF\nBEqh7rQn6jx3wI8aeY8lwBIP4kmYW79qOX3TM0lq1drvKGGnf8YwzIz8/Hxyc3P9jiMxIiwHvUX2\n7dvH+6XrdThtA85s157MzEzeeustv6NIDFFhSFgqLCyk5uhRBg3T+EVDJkyYwDvvvENlZaXfUSRG\nqDAkLOXn5xMXH6/zL05g4sSJVFdXs3TpUr+jSIxQYUhYWrJkCRcMyKBV6zZ+Rwlbo0aNIikpiUWL\nFvkdRWKECkPCTmVlJcXFxTr/ohFJSUnk5OSQl5fndxSJESoMCTvLly/nyJEjDNL5FyeUV1rB+QOH\ns3HjRl7MX+93HIkBKgwJO/n5+cTFxdF/8FC/o4S9ISMDh9SuLdJZ3+I9T8/DEDkZeaUVALy6cBF9\nBgymVRuNXzSm5wX9aXfW2axZnk8jpzSJnDZtYUhYOXhgP+9tXKvzL0LUokULMkbksKYocBtbES+p\nMCSsbHp3NUc1fnFSMkaMYdcX29m0SfcaE2+pMCSsrFtZSIu4OPoH7/kgjRsycgyAjpYSz6kwJKwU\nF7xNv/QhtG5zht9RIkbnc7pzznk9dD6GeE6FIWFj144KPihdz/DcCX5HiThDssewZMkSqqur/Y4i\nUUyFIWFj1bLAhfSG5Yz3OUnkycgeQ2VlJStWrPA7ikQxFYaEjZVL36Jj5670vCDN7ygRZ/CwUbRo\n0ULjGOIpFYaEhaqqKlYvz2dYznjMzO84EefMdu3JysrSOIZ4SoUhYaGwsJAD+ys1fnEaeg8eSdGK\nFcxbWXbsJEiRpqTCkLCwYMEC4uNbkjE8x+8oESszO4eao0d5d+Vyv6NIlFJhSFhYuHAh6UOzdTmQ\n09BvcBZJrVqxtkj3xxBvqDDEdx999BGbNm1i+BjtjjodCQmJDBwygtXvqDDEGyoM8d3ChQsBGDZG\nh9OerszsXMq3fMCO7Z/7HUWikApDfLdw4UJ69+7NuSm9/I4S8TKzA5cJWaOtDPGACkN8deDAARYv\nXsyll17qd5So0KNPP87qkExx4RK/o0gUUmGIr5YsWcKhQ4eYPHmy31GigpkxfOxEVi57i8OHD/sd\nR6KMCkN8tWDBAlq3bs2YMWP8jhI1ciZO5kDlPp31LU1OhSG+cc6xcOFCJkyYQFJSkt9xokbG8Bza\nnNmWl19+2e8oEmVUGOKbTZs28fHHH2v8oom1TEgg+8KLmDdvnq5eK01KhSG+eeiZFwE4s/dQXcqi\nieVMvIwvv/ySt99+2+8oEkVUGOKbFfl59OjTj05du/kdJepkjcrljDPO4JVXXvE7ikQRFYb4Ys+e\nPWxcu1Jnd3skITGJb3zjG8ydO5ejR4/6HUeihApDfLFo0SKOHjmis7s9dOWVV7Jjxw6WLVvmdxSJ\nEioM8cXChQs5o2070gZl+R0lak2aNIlWrVrpaClpMioMaXaHDx9m3rx5DMsZT1x8vN9xolabNm2Y\nNGkSc+bMoaamxu84EgVUGNLsFi5cyO7du5lw2VV+R4l6V111Fdu2beOdd97xO4pEARWGNLtZs2bR\npUuXYxfKE+9MnjyZhIQEHS0lTcLTwjCzS8zsPTMrM7OfHWe+mdnDwfnrzSwzOL27mb1tZqVmVmJm\nt3uZU5rPzp07WbBgAdddd512R3ksr7SClZ8dJHPkWJ5/4SWcc35HkgjnWWGYWRzwKDAJSAOuNbO0\neotNAlKDj+nA48HpR4B/c86lASOAHx3ntRKBXnzxRaqrq5k2bZrfUWJGzsTJfLFtK8XFxX5HkQjn\n5RbGMKDMObfFOVcFvABMrbfMVGCWCygC2ptZV+fcNufcGgDn3D5gE6Czu6LArFmzGDRoEOnp6X5H\niRnZF15MXHy8jpaS0+ZlYXQDyuv8/Blf/0e/0WXMLAXIAFY0eUJpVps3b2blypXccMMNfkeJKWe2\na0/G8BxeeeUV7ZaS0xLWg95mdgbwCnCHc25vA8tMN7NiMyvesWNH8waUk/Lcc8/RokULvv3tb/sd\nJebkXPQNPvzwQ959912/o0gE87IwtgLd6/x8bnBaSMuYWUsCZfG8c25OQx/inJvpnMtyzmUlJyc3\nSXBpejU1Nfz5z3/moosuomvXrn7HiTkjx11MixYttFtKTouXhbEKSDWzHmaWAFwDzK+3zHxgWvBo\nqRHAHufcNjMz4E/AJufcf3uYUZrJ72e9yqeffkrGuKnklVbo6rTNrP3ZHRk7diwvvaSjpeTUeVYY\nzrkjwG3AGwQGrV9yzpWY2a1mdmtwsYXAFqAM+CPww+D0UcANwDgzWxd86KYJEWzR/L/Sus0ZjBx3\nsd9RYtaNN97IBx98oDvxySmzaPq2kZWV5XToYPg5cOAAHZM7kXvJFP7tV7/3O07MyunVnvPOO4/h\nw4czf379jX2JVWa22jkX0kXdwnrQW6LDq6++ysED+5kw5Wq/o8S0xMREpk+fzmuvvcaWLVv8jiMR\nSIUhnps1axadzzmXgUNG+B0l5t16663ExcXx2GOP+R1FIpAKQzz1+eefs2jRIiZcdjUtWuivm5/y\nSivYtCeeURMu5ck/PsX+/fv9jiQRRr/B4qnZs2dTU1PDhCm6Mm24uPy6m6ncu4c///nPfkeRCKPC\nEM8453j22WcZMWIE56b08juOBPXPGErvfgP5wx/+oENs5aSoMMQzixYtYuPGjXzve9/zO4rUYWZM\nve67lJSUsGTJEr/jSARRYYgnFpVs586f/oLkLt3olqVzL8LNhZMup0OHDjz88MN+R5EIosIQT6wt\nWkbpulVce8uPaZmQ4HccqScxqRXTp09n/vz5fPLJJ37HkQihwpAm55zjuccepGPnrlx8xbV+x5EG\n/OAHP8DMdIithEyFIU1uyZIlbFyzgn/53m0kJCT6HUca8N6+BEaOu4THn/wjr63+SNf3kkapMKTJ\nzZgxg7OTO3PpVdf5HUUacfn1N7Nvz5csXjDX7ygSAVQY0qTy8/PJz88PbF0kJvkdRxoxcMgIevZJ\nY97zf9IhttIoFYY0qXvvvZcuXbow+err/Y4iITAzvjntFra8X8rSN//mdxwJcyoMaTIFBQUsXryY\nu+++m8SkVn7HkRBNnPItevUdwJP33aPLhcgJqTCkycyYMYNOnTrx/e9/3+8ochLi4uL48S/+ix3b\nP+fXv/6133EkjKkwpEksX76cvLw87rrrLlq3bu13HDlJ/TOGMnHqt3jggQd4//33/Y4jYUqFIU3i\n9rt/QfuzO3DB2Ct0eGaEuuVff0nLxCSu++6tLCrZrv+P8jUqDDltb775JsWFb3PVTT+gVes2fseR\nU3RWx2RuvO1uigvfZvniv/sdR8KQCkNOy86dO7nppps4r2cql1+niwxGuqnXfoeU1L48/ttfcujg\nAb/jSJhRYcgpc85x8803s2vXLv79/id0ZFQUiIuP58e/+C8qPv+MF576g99xJMyoMOSUzZw5k3nz\n5vHb3/6WXn37+x1Hmkh6VjbjJl/BS08/xocffuh3HAkjKgw5JU+/VsDtd9zJkJFj6T/xGr/jSBO7\n5f/8X+Lj47njjjv8jiJhRIUhJ+3w4cP8190/JDGpFXf95iHdqzsKdezUhRt++G+89tprPPvss37H\nkTCh33Q5ab/85S8p27SBf/vV7+mQ3NnvOOKRb15/CxdeeCE333wzixYt8juOhAEVhpyUt956i/vv\nv59v/Ms0Ro7TnfSiWXzLlsydO5d+/fpx5ZVXsm7dOr8jic9UGBKyXbt2MW3aNPr27cv377rH7zjS\nDFZtPcS/PzSLpDZtGT/xYj7++GO/I4mPVBgSkm3btjFu3Dh27tzJ7NmzSWqly3/Eio6du/KbJ5+n\nquowkyZNYvfu3X5HEp+oMKRRZWVljBo1ig8//JAFCxaQkZHhdyRpZim9+3LPw8+wZcsWpkyZwsGD\nB/2OJD5QYcgJrV27ltGjR7Pryz387k8vwzkDdY2hGDVo6Eiee+45CgsLuf766zl69KjfkaSZqTDk\na/JKK8grreDBZ+cyekwuNRbP75+bxwUDtWUR684ekMutd89gzpw55F4yRbunYowKQ46r8K3X+fn0\na+nYqQuhfusyAAAI9klEQVQPPf83zuuZ6nckCRNX3vh9vn/XPRQteZP09HQWL17sdyRpJioM+SdV\nVVW8+KdHuPeO79G73wB+/9w8kruc43csCTNX3XQrD89eQJs2bZgwYQI//elPqaqqOrZ1Wvch0UOF\nIUDgQoJz586lf//+PPXf/0n2hRfzu6deom37s/2OJmGqT/9BrFmzhltuuYX77ruP7Oxsyj8q8zuW\neEiFIaxZs4YLL7yQK664goSEBH7zxGzuefgZ3dtCGvXOJ5Vcffu93PPwM5Rt+ZgfXj2Rl55+lMq9\ne/yOJh5QYcSw8vJybrrpJrKysigpKeGxxx7j3XffZWjOOL+jSYQZNX4ST85dzMCsbP744K+4dlwG\nD917Nx+XbfY7mjQhc875naHJZGVlueLiYr9jhLXy8nLmzJnDK6+8QkFBAS1btuTy62/h29Nvp82Z\nbf2OJ1Hgg9L1zJv9NIsXzKW66jDjxo3jtttu47LLLiM+Pt7veFKPma12zmWFtKyXhWFmlwAPAXHA\nU86539abb8H5lwIHgJucc2tCee3xqDC+zjlHWVkZ8+fP5+WXX6aoqAiAgQMHctVVVzFt2jTKDujG\nR9L09ny5i9dfns38F/6XHdu30r5DR9Kzsrlq8kRycnIYOHAgcXFxfseMeWFRGGYWB7wPTAQ+A1YB\n1zrnSusscynwYwKFMRx4yDk3PJTXHk+sF8aePXvYuHEj69evZ/369WzYsIENGzawd+9eAFLT0sm5\n6Bv89Ac30qdPn2Ov05Es4qWjR46w/O03KFi0gA2rV7Bj+1YA2rVrx8iRIxk5ciSpqan06NGDlJQU\nkpOTCXyXlOZwMoXh5fbhMKDMObclGOoFYCpQ9x/9qcAsF2itIjNrb2ZdgZQQXhtxnHM45zh69Cg1\nNTXU1NRw9OhRjhw5QlVVFdXV1VRXVx97fujQISorK9m/fz+VlZXHnn/11VdUVFSwffv2Y39u376d\nysrKY5/Vrl070tPTueGGG2jZMYXM7DF07X4+AJ8egU9VEtJM4uLjyZk4mZyJkwGo+LycDatXsHH1\nCjasLuL111//p+XbtGlDSkoK559/PsnJybRv35727dtz1llnHXvepk0bkpKSjj0SExNJSkoiISGB\nuLg44uPjj/1Z+9zMVESnycvC6AaU1/n5MwJbEY0t0y3E1zaZTp06ceDA8W9439AWWN3p9Z+f6NFU\nzmzbnrM6JnNWh2TOTR1AevY4zk7uRErvC+iR2o/krt30yyFhqfM53el8TncmXHYVAAf2V1KxtZxt\nn31KxeflVGwtZ/vWT3n/o3JWr1vPvr17OFC5r8k+v7Y4WrRo8U8l0tDz473+RO/th06dOjXL7XQj\nfgTKzKYD04M/VprZe37mOQUdgZ0n+6J9e79i396v+HTLBx5E8twprXOE0zqHidovbzU1NV68vS/r\nXFlZeTpldX6oC3pZGFuB7nV+Pjc4LZRlWobwWgCcczOBmacb1i9mVhzq/sNooXWODVrn6OPleRir\ngFQz62FmCcA1wPx6y8wHplnACGCPc25biK8VEZFm5NkWhnPuiJndBrxB4NDYp51zJWZ2a3D+E8BC\nAkdIlRE4rPY7J3qtV1lFRKRxno5hOOcWEiiFutOeqPPcAT8K9bVRKmJ3p50GrXNs0DpHmag601tE\nRLyja0mJiEhIVBgeM7PbzWyjmZWY2R3BaYPNrMjM1plZsZkNq7P8z82szMzeM7OL/Ut+6hpY50Fm\n9o6ZbTCzv5lZ2zrLR9w6m9nTZvaFmW2sM+1sM1tkZh8E/zyrzrzjrqOZDQn+Nykzs4ctjE+eOZl1\nNrMOZva2mVWa2SP13ida13mima0OrttqMxtX5zURs84n1NiJZnqc+gMYAGwEWhMYL8oDegNvApOC\ny1wKLAk+TwPeBRKBHsCHQJzf69FE67wKyA0u813gV5G8zsAYIBPYWGfafcDPgs9/BvyusXUEVgIj\nAANer/17EY6Pk1znNsBo4FbgkXrvE63rnAGcE3w+ANgaiet8ooe2MLzVD1jhnDvgnDsC5ANXAA6o\n/YbdDvg8+Hwq8IJz7rBz7iMCR48NI7I0tM59gKXBZRYBVwafR+Q6O+eWAvVvaD0VeDb4/Fng8jrT\nv7aOwcvgtHXOFbnAvyqz6rwm7JzMOjvn9jvnCoBDdReO8nVe65yr/V0uAVqZWWKkrfOJqDC8tRHI\nCW6etyawNdEduAO438zKgQeAnweXb+hSKZGkoXUuIfCLBnA1/zgxMxrWuVZnFziPCGA70Dn4/ESX\nwPnsONMjSUPr3JBYWecrgTXOucNExzoDKgxPOec2Ab8jsAvq78A64CjwA+BO51x34E7gT76FbGIn\nWOfvAj80s9XAmUCVbyGbQfCbZEwdgqh1DjCz/gR+B77vSygPqTA85pz7k3NuiHNuDPAlgcu23wjM\nCS7yV/6xCyaUy6mEveOts3Nus3PuIufcEOAvBPbjQ5Ssc1BFcPdD7a6XL4LTG1rHrcHn9adHkobW\nuSFRvc5mdi4wF5jmnKv7dzzS1xlQYXjOzDoF/zyPwL782QTGLHKDi4wDaq8gOB+4JrjfsweQSmCw\nLKIcb53rTGsB/AKoPYEzKtY5aD6BLwME/5xXZ/rX1jG4W2OvmY0IHjUzrc5rIkVD63xc0bzOZtYe\nWEBgQLywduEoWecAv0fdo/0BLCNwH493gfHBaaOB1cFpK4AhdZb/DwLfvt8jQo+kaGCdbyewdfU+\n8FuCJ41G6joT2EraBlQT2Cf9PaAD8BaBLwB5wNmNrSOQRWDc50Pgkbr/XcLtcQrr/DGBAePK4PJp\n0bzOBL4I7SewG7b20SnS1vlED53pLSIiIdEuKRERCYkKQ0REQqLCEBGRkKgwREQkJCoMEREJiac3\nUBKJdWZ2FNhQZ9LlzrmPfYojclp0WK2Ih8ys0jl3ht85RJqCdkmJiEhItIUh4qF6u6Q+cs590888\nIqdDhSHiIe2SkmiiXVIiIhISFYaIiIREhSEiIiHRGIaIiIREWxgiIhISFYaIiIREhSEiIiFRYYiI\nSEhUGCIiEhIVhoiIhESFISIiIVFhiIhISP4/wNA+66XExG0AAAAASUVORK5CYII=\n",
      "text/plain": [
       "<matplotlib.figure.Figure at 0x7fee6fbb2828>"
=======
      "image/png": "iVBORw0KGgoAAAANSUhEUgAAAYwAAAEKCAYAAAAB0GKPAAAABHNCSVQICAgIfAhkiAAAAAlwSFlz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\nIhKS/w8Jl3aYBOAINAAAAABJRU5ErkJggg==\n",
      "text/plain": [
       "<matplotlib.figure.Figure at 0x10f9365d0>"
>>>>>>> 95ca2425e7c990868cbf834814d4d54af807d89c
      ]
     },
     "metadata": {},
     "output_type": "display_data"
    }
   ],
   "source": [
    "# plot a histogram of the sample\n",
    "plt.hist(sample, bins=50, histtype=\"stepfilled\", alpha=0.3, normed=True)\n",
    "\n",
    "# plot a best-fit Gaussian\n",
    "F_fit = np.linspace(975, 1025)\n",
    "pdf = stats.norm(np.mean(sample), np.std(sample)).pdf(F_fit)\n",
    "\n",
    "plt.plot(F_fit, pdf, '-k')\n",
    "plt.xlabel(\"F\"); plt.ylabel(\"P(F)\")"
   ]
  },
  {
   "cell_type": "markdown",
   "metadata": {
    "slideshow": {
     "slide_type": "slide"
    }
   },
   "source": [
    "We end up with a sample of points drawn from the (normal) posterior distribution.  The mean and standard deviation of this posterior are the corollary of the frequentist maximum likelihood estimate above:"
   ]
  },
  {
   "cell_type": "code",
   "execution_count": 7,
   "metadata": {},
   "outputs": [
    {
     "name": "stdout",
     "output_type": "stream",
     "text": [
      "\n",
      "      F_true = 1000\n",
      "      F_est  = 998 +/- 5 (based on 50 measurements)\n",
      "      \n"
     ]
    }
   ],
   "source": [
    "print(\"\"\"\n",
    "      F_true = {0}\n",
    "      F_est  = {1:.0f} +/- {2:.0f} (based on {3} measurements)\n",
    "      \"\"\".format(F_true, np.mean(sample), np.std(sample), N))"
   ]
  },
  {
   "cell_type": "markdown",
   "metadata": {},
   "source": [
    "We see that as expected for this simple problem, the Bayesian approach yields the same result as the frequentist approach!"
   ]
  },
  {
   "cell_type": "markdown",
   "metadata": {
    "slideshow": {
     "slide_type": "slide"
    }
   },
   "source": [
    "### Discussion"
   ]
  },
  {
   "cell_type": "markdown",
   "metadata": {},
   "source": [
    "Now, you might come away with the impression that the Bayesian method is unnecessarily complicated, and in this case it certainly is. Using an Affine Invariant Markov Chain Monte Carlo Ensemble sampler to characterize a one-dimensional normal distribution is a bit like using the Death Star to destroy a beach ball.\n",
    "\n",
    "But we did it here because it demonstrates an approach that can scale to complicated posteriors in many, many dimensions, and can provide nice results in more complicated situations where an analytic likelihood approach is not possible."
   ]
  },
  {
   "cell_type": "markdown",
   "metadata": {
    "slideshow": {
     "slide_type": "subslide"
    }
   },
   "source": [
    "As a side note, you might also have noticed one little sleight of hand: at the end, we use a frequentist approach to characterize our posterior samples!  When we computed the sample mean and standard deviation above, we were employing a distinctly frequentist technique to characterize the posterior distribution. The pure Bayesian result for a problem like this would be to report the posterior distribution itself (i.e. its representative sample), and leave it at that. That is, in pure Bayesianism the answer to a question is not a single number with error bars; the answer is the posterior distribution over the model parameters!"
   ]
  },
  {
   "cell_type": "markdown",
   "metadata": {
    "slideshow": {
     "slide_type": "slide"
    }
   },
   "source": [
    "## Adding a Dimension: Exploring a more sophisticated model"
   ]
  },
  {
   "cell_type": "markdown",
   "metadata": {},
   "source": [
    "Let's briefly take a look at a more complicated situation, and compare the frequentist and Bayesian results yet again.  Above we assumed that the star was static: now let's assume that we're looking at an object which we suspect has some stochastic variation &mdash; that is, it varies with time, but in an unpredictable way (a Quasar is a good example of such an object)."
   ]
  },
  {
   "cell_type": "markdown",
   "metadata": {
    "slideshow": {
     "slide_type": "slide"
    }
   },
   "source": [
    "We'll propose a simple 2-parameter Gaussian model for this object: $\\theta = [\\mu, \\sigma]$ where $\\mu$ is the mean value, and $\\sigma$ is the standard deviation of the variability *intrinsic to the object*.  Thus our model for the probability of the true flux at the time of each observation looks like this:\n",
    "\n",
    "$$ F_{\\rm true} \\sim \\frac{1}{\\sqrt{2\\pi\\sigma^2}}\\exp\\left[\\frac{-(F - \\mu)^2}{2\\sigma^2}\\right]$$"
   ]
  },
  {
   "cell_type": "markdown",
   "metadata": {
    "slideshow": {
     "slide_type": "slide"
    }
   },
   "source": [
    "Now, we'll again consider $N$ observations each with their own error. We can generate them this way:"
   ]
  },
  {
   "cell_type": "code",
<<<<<<< HEAD
   "execution_count": 7,
=======
   "execution_count": 8,
>>>>>>> 1f284527cd0ec918dc6436cf173ce021e724c947
   "metadata": {},
   "outputs": [],
   "source": [
    "np.random.seed(42)  # for reproducibility\n",
    "N = 100  # we'll use more samples for the more complicated model\n",
    "mu_true, sigma_true = 1000, 15  # stochastic flux model\n",
    "\n",
    "F_true = stats.norm(mu_true, sigma_true).rvs(N)  # (unknown) true flux\n",
    "F = stats.poisson(F_true).rvs()  # observed flux: true flux plus Poisson errors.\n",
    "e = np.sqrt(F)  # root-N error, as above"
   ]
  },
  {
   "cell_type": "markdown",
   "metadata": {
    "slideshow": {
     "slide_type": "slide"
    }
   },
   "source": [
    "### Varying Photon Counts: The Frequentist Approach"
   ]
  },
  {
   "cell_type": "markdown",
   "metadata": {},
   "source": [
    "The resulting likelihood is the convolution of the intrinsic distribution with the error distribution, so we have\n",
    "\n",
    "$$\\mathcal{L}(D~|~\\theta) = \\prod_{i=1}^N \\frac{1}{\\sqrt{2\\pi(\\sigma^2 + e_i^2)}}\\exp\\left[\\frac{-(F_i - \\mu)^2}{2(\\sigma^2 + e_i^2)}\\right]$$"
   ]
  },
  {
   "cell_type": "markdown",
   "metadata": {
    "slideshow": {
     "slide_type": "slide"
    }
   },
   "source": [
    "Analogously to above, we can analytically maximize this likelihood to find the best estimate for $\\mu$:\n",
    "\n",
    "$$\\mu_{est} =  \\frac{\\sum w_i F_i}{\\sum w_i};~~w_i = \\frac{1}{\\sigma^2 + e_i^2} $$\n",
    "\n",
    "And here we have a problem: the optimal value of $\\mu$ *depends on* the optimal value of $\\sigma$.  The results are correlated, so we can no longer use straightforward analytic methods to arrive at the frequentist result."
   ]
  },
  {
   "cell_type": "markdown",
   "metadata": {
    "slideshow": {
     "slide_type": "slide"
    }
   },
   "source": [
    "Nevertheless, we can use numerical optimization techniques to determine the maximum likelihood value. Here we'll use the optimization routines available within Scipy's [optimize](http://docs.scipy.org/doc/scipy/reference/optimize.html) submodule:"
   ]
  },
  {
   "cell_type": "code",
   "execution_count": 9,
   "metadata": {},
   "outputs": [
    {
     "name": "stdout",
     "output_type": "stream",
     "text": [
      "Optimization terminated successfully.\n",
      "         Current function value: 502.839505\n",
      "         Iterations: 58\n",
      "         Function evaluations: 114\n",
      "\n",
      "      Maximum likelihood estimate for 100 data points:\n",
      "          mu=999, sigma=19\n",
      "      \n"
     ]
    }
   ],
   "source": [
    "def log_likelihood(theta, F, e):\n",
    "    return -0.5 * np.sum(np.log(2 * np.pi * (theta[1] ** 2 + e ** 2))\n",
    "                         + (F - theta[0]) ** 2 / (theta[1] ** 2 + e ** 2))\n",
    "\n",
    "# maximize likelihood <--> minimize negative likelihood\n",
    "def neg_log_likelihood(theta, F, e):\n",
    "    return -log_likelihood(theta, F, e)\n",
    "\n",
    "from scipy import optimize\n",
    "theta_guess = [900, 5]\n",
    "theta_est = optimize.fmin(neg_log_likelihood, theta_guess, args=(F, e))\n",
    "print(\"\"\"\n",
    "      Maximum likelihood estimate for {0} data points:\n",
    "          mu={theta[0]:.0f}, sigma={theta[1]:.0f}\n",
    "      \"\"\".format(N, theta=theta_est))"
   ]
  },
  {
   "cell_type": "markdown",
   "metadata": {
    "slideshow": {
     "slide_type": "slide"
    }
   },
   "source": [
    "#### Error Estimates\n",
    "\n",
    "This maximum likelihood value gives our best estimate of the parameters $\\mu$ and $\\sigma$ governing our model of the source. But this is only half the answer: we need to determine how confident we are in this answer, that is, we need to compute the error bars on $\\mu$ and $\\sigma$.\n",
    "\n",
    "To see how this is done in the frequentist paradigm, see the sub-slides."
   ]
  },
  {
   "cell_type": "markdown",
   "metadata": {
    "slideshow": {
     "slide_type": "subslide"
    }
   },
   "source": [
    "There are several approaches to determining errors in a frequentist paradigm.  We could:\n",
    "* as above, fit a normal approximation to the maximum likelihood and report the covariance matrix (here we'd have to do this numerically rather than analytically).\n",
    "* Alternatively, we can compute statistics like $\\chi^2$ and $\\chi^2_{\\rm dof}$ to and use standard tests to determine confidence limits, which also depends on strong assumptions about the Gaussianity of the likelihood. \n",
    "* We might alternatively use randomized sampling approaches such as \"Jackknife\"...\n",
    "* or \"Bootstrap\", which maximize the likelihood for randomized samples of the input data in order to explore the degree of certainty in the result."
   ]
  },
  {
   "cell_type": "markdown",
   "metadata": {
    "slideshow": {
     "slide_type": "subslide"
    }
   },
   "source": [
    "All of these would be valid techniques to use, but each comes with its own assumptions and subtleties.  Here, for simplicity, we'll use the basic bootstrap resampler found in the [astroML][4] package:\n",
    "\n",
    "[1]: http://en.wikipedia.org/wiki/Pearson%27s_chi-squared_test\n",
    "[2]: http://en.wikipedia.org/wiki/Jackknife_(statistics)\n",
    "[3]: http://en.wikipedia.org/wiki/Bootstrapping_(statistics)\n",
    "[4]: http://astroML.org"
   ]
  },
  {
   "cell_type": "code",
   "execution_count": 10,
   "metadata": {},
   "outputs": [],
   "source": [
    "from astroML.resample import bootstrap\n",
    "\n",
    "def fit_samples(sample):\n",
    "    # sample is an array of size [n_bootstraps, n_samples]\n",
    "    # compute the maximum likelihood for each bootstrap.\n",
    "    return np.array([optimize.fmin(neg_log_likelihood, theta_guess,\n",
    "                                   args=(F, np.sqrt(F)), disp=0)\n",
    "                     for F in sample])\n",
    "\n",
    "samples = bootstrap(F, 1000, fit_samples)  # 1000 bootstrap resamplings"
   ]
  },
  {
   "cell_type": "markdown",
   "metadata": {
    "slideshow": {
     "slide_type": "subslide"
    }
   },
   "source": [
    "Now in a similar manner to what we did above for the MCMC Bayesian posterior, we'll compute the sample mean and standard deviation to determine the errors on the parameters."
   ]
  },
  {
   "cell_type": "code",
   "execution_count": 11,
   "metadata": {},
   "outputs": [
    {
     "name": "stdout",
     "output_type": "stream",
     "text": [
      " mu    = 999 +/- 4\n",
      " sigma = 18 +/- 5\n"
     ]
    }
   ],
   "source": [
    "mu_samp = samples[:, 0]\n",
    "sig_samp = abs(samples[:, 1])\n",
    "\n",
    "print \" mu    = {0:.0f} +/- {1:.0f}\".format(mu_samp.mean(), mu_samp.std())\n",
    "print \" sigma = {0:.0f} +/- {1:.0f}\".format(sig_samp.mean(), sig_samp.std())"
   ]
  },
  {
   "cell_type": "markdown",
   "metadata": {
    "slideshow": {
     "slide_type": "subslide"
    }
   },
   "source": [
    "I should note that there is a **huge** literature on the details of bootstrap resampling, and there are definitely some subtleties of the approach that I am glossing over here. One obvious piece is that there is potential for errors to be correlated or non-Gaussian, neither of which is reflected by simply finding the mean and standard deviation of each model parameter. Nevertheless, I trust that this gives the basic idea of the frequentist approach to this problem."
   ]
  },
  {
   "cell_type": "markdown",
   "metadata": {
    "slideshow": {
     "slide_type": "slide"
    }
   },
   "source": [
    "### Varying Photon Counts: The Bayesian Approach"
   ]
  },
  {
   "cell_type": "markdown",
   "metadata": {},
   "source": [
    "The Bayesian approach to this problem is almost exactly the same as it was in the previous problem, and we can set it up by slightly modifying the above code."
   ]
  },
  {
   "cell_type": "code",
   "execution_count": 12,
   "metadata": {
    "slideshow": {
     "slide_type": "slide"
    }
   },
   "outputs": [],
   "source": [
    "def log_prior(theta):\n",
    "    # sigma needs to be positive.\n",
    "    if theta[1] <= 0:\n",
    "        return -np.inf\n",
    "    else:\n",
    "        return 0\n",
    "\n",
    "def log_posterior(theta, F, e):\n",
    "    return log_prior(theta) + log_likelihood(theta, F, e)\n",
    "\n",
    "# same setup as above:\n",
    "ndim, nwalkers = 2, 50\n",
    "nsteps, nburn = 2000, 1000\n",
    "\n",
    "starting_guesses = np.random.rand(nwalkers, ndim)\n",
    "starting_guesses[:, 0] *= 2000  # start mu between 0 and 2000\n",
    "starting_guesses[:, 1] *= 20    # start sigma between 0 and 20\n",
    "\n",
    "sampler = emcee.EnsembleSampler(nwalkers, ndim, log_posterior, args=[F, e])\n",
    "sampler.run_mcmc(starting_guesses, nsteps)\n",
    "\n",
    "sample = sampler.chain  # shape = (nwalkers, nsteps, ndim)\n",
    "sample = sampler.chain[:, nburn:, :].reshape(-1, 2)"
   ]
  },
  {
   "cell_type": "markdown",
   "metadata": {
    "slideshow": {
     "slide_type": "slide"
    }
   },
   "source": [
    "Now that we have the samples, we'll use a convenience routine from astroML to plot the traces and the contours representing one and two standard deviations:"
   ]
  },
  {
   "cell_type": "code",
   "execution_count": 13,
   "metadata": {},
   "outputs": [
    {
     "data": {
      "image/png": "iVBORw0KGgoAAAANSUhEUgAAAasAAAEtCAYAAAC2+E+oAAAABHNCSVQICAgIfAhkiAAAAAlwSFlz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\nmhxegkPHAAAAAElFTkSuQmCC\n",
      "text/plain": [
       "<matplotlib.figure.Figure at 0x10f9a9550>"
      ]
     },
     "metadata": {},
     "output_type": "display_data"
    }
   ],
   "source": [
    "from astroML.plotting import plot_mcmc\n",
    "fig = plt.figure()\n",
    "ax = plot_mcmc(sample.T, fig=fig, labels=[r'$\\mu$', r'$\\sigma$'], colors='k')\n",
    "ax[0].plot(sample[:, 0], sample[:, 1], ',k', alpha=0.1)\n",
    "ax[0].plot([mu_true], [sigma_true], 'o', color='red', ms=10);"
   ]
  },
  {
   "cell_type": "markdown",
   "metadata": {
    "slideshow": {
     "slide_type": "slide"
    }
   },
   "source": [
    "The red dot indicates ground truth (from our problem setup), and the contours indicate one and two standard deviations (68% and 95% confidence levels).  In other words, based on this analysis we are 68% confident that the model lies within the inner contour, and 95% confident that the model lies within the outer contour.\n",
    "\n",
    "Note here that $\\sigma = 0$ is consistent with our data within two standard deviations: that is, depending on the certainty threshold you're interested in, our data are not enough to confidently rule out the possibility of a non-varying source!"
   ]
  },
  {
   "cell_type": "markdown",
   "metadata": {
    "slideshow": {
     "slide_type": "slide"
    }
   },
   "source": [
    "***The other thing to notice is that this posterior is definitely *not* Gaussian***: this can be seen by the lack of symmetry in the vertical direction.\n",
    "\n",
    "That means that the Gaussian approximation used within the frequentist approach may not reflect the true uncertainties in the result.  This isn't an issue with frequentism itself (i.e. there are certainly ways to account for non-Gaussianity within the frequentist paradigm), but the *vast majority* of commonly applied frequentist techniques make the explicit  or implicit assumption of Gaussianity of the distribution.\n",
    "\n",
    "Bayesian approaches generally don't require such assumptions."
   ]
  },
  {
   "cell_type": "markdown",
   "metadata": {
    "slideshow": {
     "slide_type": "subslide"
    }
   },
   "source": [
    "(Side note on priors: there are good arguments that a flat prior on $\\sigma$ subtley biases the calculation in this case: i.e. a flat prior is not necessarily non-informative in the case of scale factors like $\\sigma$. There are interesting arguments to be made that the [Jeffreys Prior](http://en.wikipedia.org/wiki/Jeffreys_prior) would be more applicable. Here I believe the Jeffreys prior is not suitable, because $\\sigma$ is not a true scale factor (i.e. the Gaussian has contributions from $e_i$ as well). On this question, I'll have to defer to others who have more expertise. Note that subtle &mdash; some would say subjective &mdash; questions like this are among the features of Bayesian analysis that frequentists take issue with)."
   ]
  },
  {
   "cell_type": "markdown",
   "metadata": {
    "slideshow": {
     "slide_type": "slide"
    }
   },
   "source": [
    "## Conclusion"
   ]
  },
  {
   "cell_type": "markdown",
   "metadata": {},
   "source": [
    "Philosophical differences underlying frequentism and Bayesianism lead to fundamentally different approaches to simple problems, which nonetheless can often yield similar or even identical results."
   ]
  },
  {
   "cell_type": "markdown",
   "metadata": {
    "slideshow": {
     "slide_type": "slide"
    }
   },
   "source": [
    "***The root of all differences is in a different interpretation of probability***:\n",
    "\n",
    "- Frequentism considers probabilities to be relative frequencies of a large number of (real or hypothetical) events.\n",
    "- Bayesianism considers probabilities to measure degrees of knowledge (belief) about something.\n",
    "\n",
    "... and differences in methodology follow:\n",
    "\n",
    "- Frequentist analyses generally proceed through use of point estimates and maximum likelihood approaches.\n",
    "- Bayesian analyses generally compute the posterior either directly or through some version of MCMC sampling."
   ]
  },
  {
   "cell_type": "markdown",
   "metadata": {
    "slideshow": {
     "slide_type": "slide"
    }
   },
   "source": [
    "As we've seen, in simple problems the two approaches can yield similar results.\n",
    "\n",
    "But as data and models grow in complexity, the two approaches can diverge greatly. We turn to that next..."
   ]
  }
 ],
 "metadata": {
  "anaconda-cloud": {},
  "celltoolbar": "Slideshow",
  "kernelspec": {
   "display_name": "Python 3",
   "language": "python",
   "name": "python3"
  },
  "language_info": {
   "codemirror_mode": {
    "name": "ipython",
    "version": 3
   },
   "file_extension": ".py",
   "mimetype": "text/x-python",
   "name": "python",
   "nbconvert_exporter": "python",
   "pygments_lexer": "ipython3",
   "version": "3.6.2"
  },
  "livereveal": {
   "scroll": true,
   "start_slideshow_at": "selected",
   "theme": "sky"
  }
 },
 "nbformat": 4,
 "nbformat_minor": 1
}
