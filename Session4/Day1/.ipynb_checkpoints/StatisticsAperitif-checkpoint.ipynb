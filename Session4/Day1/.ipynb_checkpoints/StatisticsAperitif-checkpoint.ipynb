{
 "cells": [
  {
   "cell_type": "code",
   "execution_count": 2,
   "metadata": {
    "collapsed": true,
    "slideshow": {
     "slide_type": "skip"
    }
   },
   "outputs": [],
   "source": [
    "import numpy as np\n",
    "import matplotlib.pyplot as plt\n",
    "\n",
    "%matplotlib notebook"
   ]
  },
  {
   "cell_type": "markdown",
   "metadata": {
    "collapsed": true,
    "slideshow": {
     "slide_type": "slide"
    }
   },
   "source": [
    "# Introduction to Statistics:\n",
    "An Aperitif for DSFP Session 4\n",
    "========\n",
    "\n",
    "#### Version 0.1\n",
    "\n",
    "***\n",
    "By AA Miller 2017 Sep 14"
   ]
  },
  {
   "cell_type": "markdown",
   "metadata": {
    "slideshow": {
     "slide_type": "subslide"
    }
   },
   "source": [
    "An [Introduction to Statistics](https://github.com/LSSTC-DSFP/LSSTC-DSFP-Sessions/blob/master/Session1/Day2/IntroStat.pdf) was covered during Session 1 of the DSFP. Typically, this initial lecture is used as a means of providing a brief overview of the Session 1 material, but that does not make sense in the context of Session 4, as half of you have not seen this lecture."
   ]
  },
  {
   "cell_type": "markdown",
   "metadata": {
    "slideshow": {
     "slide_type": "subslide"
    }
   },
   "source": [
    "Instead, today we will focus on a relatively simple problem, while highlighting several challenges for the standard astronomical workflow, as a way of setting up the various lectures that will happen over the course of this week. \n",
    "\n",
    "A lot of the lessons in this lecture are inspired by the paper [Data Analysis Recipes: Fitting a Model to Data](https://arxiv.org/abs/1008.4686) by Hogg, Bovy, & Lang. [This paper has been mentioned previously in the DSFP, though today we will only be able to scratch the surface of its content.]"
   ]
  },
  {
   "cell_type": "markdown",
   "metadata": {
    "slideshow": {
     "slide_type": "subslide"
    }
   },
   "source": [
    "In some sense - the goal right now is to make you really nervous about the work that you've previously done. \n",
    "\n",
    "(Though this lecture should not be met with too much consternation, as you will have a toolkit to deal with all the issues that we raise by the end of the week)"
   ]
  },
  {
   "cell_type": "markdown",
   "metadata": {
    "slideshow": {
     "slide_type": "slide"
    }
   },
   "source": [
    "## Problem 1) Data\n",
    "\n",
    "At the core of everything we hope to accomplish with the DSFP stands a single common connection: data."
   ]
  },
  {
   "cell_type": "markdown",
   "metadata": {
    "slideshow": {
     "slide_type": "subslide"
    }
   },
   "source": [
    "There are many things we (may) want to do with these data: reduce them, visualize them, model them, develop predictions from them, use them to infer fundamental properties of the universe (!)."
   ]
  },
  {
   "cell_type": "markdown",
   "metadata": {
    "slideshow": {
     "slide_type": "subslide"
    }
   },
   "source": [
    "Before we dive into that really fun stuff, we should start with some basics:"
   ]
  },
  {
   "cell_type": "markdown",
   "metadata": {
    "slideshow": {
     "slide_type": "slide"
    }
   },
   "source": [
    "**Problem 1a**\n",
    "\n",
    "What is data?"
   ]
  },
  {
   "cell_type": "markdown",
   "metadata": {
    "slideshow": {
     "slide_type": "subslide"
    }
   },
   "source": [
    "*Take a few min to discuss this with your partner*"
   ]
  },
  {
   "cell_type": "markdown",
   "metadata": {
    "slideshow": {
     "slide_type": "subslide"
    }
   },
   "source": [
    "**Solution 1a**\n",
    "\n",
    "*write your answer here*"
   ]
  },
  {
   "cell_type": "code",
   "execution_count": null,
   "metadata": {
    "collapsed": true
   },
   "outputs": [],
   "source": []
  },
  {
   "cell_type": "markdown",
   "metadata": {
    "slideshow": {
     "slide_type": "slide"
    }
   },
   "source": [
    "**Problem 1b**\n",
    "\n",
    "Below, I provide some data (in the form of `numpy` arrays). As good data scientists, what is the first thing you should do with this data?\n",
    "\n",
    "Feel free to create a new cell if necessary."
   ]
  },
  {
   "cell_type": "code",
   "execution_count": 3,
   "metadata": {
    "slideshow": {
     "slide_type": "subslide"
    }
   },
   "outputs": [],
   "source": [
    "y = np.array([203, 58, 210, 202, 198, 158, \n",
    "              165, 201, 157, 131, 166, 160, \n",
    "              186, 125, 218, 146])\n",
    "x = np.array([495, 173, 479, 504, 510, 416, \n",
    "              393, 442, 317, 311, 400, 337, \n",
    "              423, 334, 533, 344])\n"
   ]
  },
  {
   "cell_type": "code",
   "execution_count": 4,
   "metadata": {},
   "outputs": [
    {
     "data": {
      "application/javascript": [
       "/* Put everything inside the global mpl namespace */\n",
       "window.mpl = {};\n",
       "\n",
       "\n",
       "mpl.get_websocket_type = function() {\n",
       "    if (typeof(WebSocket) !== 'undefined') {\n",
       "        return WebSocket;\n",
       "    } else if (typeof(MozWebSocket) !== 'undefined') {\n",
       "        return MozWebSocket;\n",
       "    } else {\n",
       "        alert('Your browser does not have WebSocket support.' +\n",
       "              'Please try Chrome, Safari or Firefox ≥ 6. ' +\n",
       "              'Firefox 4 and 5 are also supported but you ' +\n",
       "              'have to enable WebSockets in about:config.');\n",
       "    };\n",
       "}\n",
       "\n",
       "mpl.figure = function(figure_id, websocket, ondownload, parent_element) {\n",
       "    this.id = figure_id;\n",
       "\n",
       "    this.ws = websocket;\n",
       "\n",
       "    this.supports_binary = (this.ws.binaryType != undefined);\n",
       "\n",
       "    if (!this.supports_binary) {\n",
       "        var warnings = document.getElementById(\"mpl-warnings\");\n",
       "        if (warnings) {\n",
       "            warnings.style.display = 'block';\n",
       "            warnings.textContent = (\n",
       "                \"This browser does not support binary websocket messages. \" +\n",
       "                    \"Performance may be slow.\");\n",
       "        }\n",
       "    }\n",
       "\n",
       "    this.imageObj = new Image();\n",
       "\n",
       "    this.context = undefined;\n",
       "    this.message = undefined;\n",
       "    this.canvas = undefined;\n",
       "    this.rubberband_canvas = undefined;\n",
       "    this.rubberband_context = undefined;\n",
       "    this.format_dropdown = undefined;\n",
       "\n",
       "    this.image_mode = 'full';\n",
       "\n",
       "    this.root = $('<div/>');\n",
       "    this._root_extra_style(this.root)\n",
       "    this.root.attr('style', 'display: inline-block');\n",
       "\n",
       "    $(parent_element).append(this.root);\n",
       "\n",
       "    this._init_header(this);\n",
       "    this._init_canvas(this);\n",
       "    this._init_toolbar(this);\n",
       "\n",
       "    var fig = this;\n",
       "\n",
       "    this.waiting = false;\n",
       "\n",
       "    this.ws.onopen =  function () {\n",
       "            fig.send_message(\"supports_binary\", {value: fig.supports_binary});\n",
       "            fig.send_message(\"send_image_mode\", {});\n",
       "            if (mpl.ratio != 1) {\n",
       "                fig.send_message(\"set_dpi_ratio\", {'dpi_ratio': mpl.ratio});\n",
       "            }\n",
       "            fig.send_message(\"refresh\", {});\n",
       "        }\n",
       "\n",
       "    this.imageObj.onload = function() {\n",
       "            if (fig.image_mode == 'full') {\n",
       "                // Full images could contain transparency (where diff images\n",
       "                // almost always do), so we need to clear the canvas so that\n",
       "                // there is no ghosting.\n",
       "                fig.context.clearRect(0, 0, fig.canvas.width, fig.canvas.height);\n",
       "            }\n",
       "            fig.context.drawImage(fig.imageObj, 0, 0);\n",
       "        };\n",
       "\n",
       "    this.imageObj.onunload = function() {\n",
       "        this.ws.close();\n",
       "    }\n",
       "\n",
       "    this.ws.onmessage = this._make_on_message_function(this);\n",
       "\n",
       "    this.ondownload = ondownload;\n",
       "}\n",
       "\n",
       "mpl.figure.prototype._init_header = function() {\n",
       "    var titlebar = $(\n",
       "        '<div class=\"ui-dialog-titlebar ui-widget-header ui-corner-all ' +\n",
       "        'ui-helper-clearfix\"/>');\n",
       "    var titletext = $(\n",
       "        '<div class=\"ui-dialog-title\" style=\"width: 100%; ' +\n",
       "        'text-align: center; padding: 3px;\"/>');\n",
       "    titlebar.append(titletext)\n",
       "    this.root.append(titlebar);\n",
       "    this.header = titletext[0];\n",
       "}\n",
       "\n",
       "\n",
       "\n",
       "mpl.figure.prototype._canvas_extra_style = function(canvas_div) {\n",
       "\n",
       "}\n",
       "\n",
       "\n",
       "mpl.figure.prototype._root_extra_style = function(canvas_div) {\n",
       "\n",
       "}\n",
       "\n",
       "mpl.figure.prototype._init_canvas = function() {\n",
       "    var fig = this;\n",
       "\n",
       "    var canvas_div = $('<div/>');\n",
       "\n",
       "    canvas_div.attr('style', 'position: relative; clear: both; outline: 0');\n",
       "\n",
       "    function canvas_keyboard_event(event) {\n",
       "        return fig.key_event(event, event['data']);\n",
       "    }\n",
       "\n",
       "    canvas_div.keydown('key_press', canvas_keyboard_event);\n",
       "    canvas_div.keyup('key_release', canvas_keyboard_event);\n",
       "    this.canvas_div = canvas_div\n",
       "    this._canvas_extra_style(canvas_div)\n",
       "    this.root.append(canvas_div);\n",
       "\n",
       "    var canvas = $('<canvas/>');\n",
       "    canvas.addClass('mpl-canvas');\n",
       "    canvas.attr('style', \"left: 0; top: 0; z-index: 0; outline: 0\")\n",
       "\n",
       "    this.canvas = canvas[0];\n",
       "    this.context = canvas[0].getContext(\"2d\");\n",
       "\n",
       "    var backingStore = this.context.backingStorePixelRatio ||\n",
       "\tthis.context.webkitBackingStorePixelRatio ||\n",
       "\tthis.context.mozBackingStorePixelRatio ||\n",
       "\tthis.context.msBackingStorePixelRatio ||\n",
       "\tthis.context.oBackingStorePixelRatio ||\n",
       "\tthis.context.backingStorePixelRatio || 1;\n",
       "\n",
       "    mpl.ratio = (window.devicePixelRatio || 1) / backingStore;\n",
       "\n",
       "    var rubberband = $('<canvas/>');\n",
       "    rubberband.attr('style', \"position: absolute; left: 0; top: 0; z-index: 1;\")\n",
       "\n",
       "    var pass_mouse_events = true;\n",
       "\n",
       "    canvas_div.resizable({\n",
       "        start: function(event, ui) {\n",
       "            pass_mouse_events = false;\n",
       "        },\n",
       "        resize: function(event, ui) {\n",
       "            fig.request_resize(ui.size.width, ui.size.height);\n",
       "        },\n",
       "        stop: function(event, ui) {\n",
       "            pass_mouse_events = true;\n",
       "            fig.request_resize(ui.size.width, ui.size.height);\n",
       "        },\n",
       "    });\n",
       "\n",
       "    function mouse_event_fn(event) {\n",
       "        if (pass_mouse_events)\n",
       "            return fig.mouse_event(event, event['data']);\n",
       "    }\n",
       "\n",
       "    rubberband.mousedown('button_press', mouse_event_fn);\n",
       "    rubberband.mouseup('button_release', mouse_event_fn);\n",
       "    // Throttle sequential mouse events to 1 every 20ms.\n",
       "    rubberband.mousemove('motion_notify', mouse_event_fn);\n",
       "\n",
       "    rubberband.mouseenter('figure_enter', mouse_event_fn);\n",
       "    rubberband.mouseleave('figure_leave', mouse_event_fn);\n",
       "\n",
       "    canvas_div.on(\"wheel\", function (event) {\n",
       "        event = event.originalEvent;\n",
       "        event['data'] = 'scroll'\n",
       "        if (event.deltaY < 0) {\n",
       "            event.step = 1;\n",
       "        } else {\n",
       "            event.step = -1;\n",
       "        }\n",
       "        mouse_event_fn(event);\n",
       "    });\n",
       "\n",
       "    canvas_div.append(canvas);\n",
       "    canvas_div.append(rubberband);\n",
       "\n",
       "    this.rubberband = rubberband;\n",
       "    this.rubberband_canvas = rubberband[0];\n",
       "    this.rubberband_context = rubberband[0].getContext(\"2d\");\n",
       "    this.rubberband_context.strokeStyle = \"#000000\";\n",
       "\n",
       "    this._resize_canvas = function(width, height) {\n",
       "        // Keep the size of the canvas, canvas container, and rubber band\n",
       "        // canvas in synch.\n",
       "        canvas_div.css('width', width)\n",
       "        canvas_div.css('height', height)\n",
       "\n",
       "        canvas.attr('width', width * mpl.ratio);\n",
       "        canvas.attr('height', height * mpl.ratio);\n",
       "        canvas.attr('style', 'width: ' + width + 'px; height: ' + height + 'px;');\n",
       "\n",
       "        rubberband.attr('width', width);\n",
       "        rubberband.attr('height', height);\n",
       "    }\n",
       "\n",
       "    // Set the figure to an initial 600x600px, this will subsequently be updated\n",
       "    // upon first draw.\n",
       "    this._resize_canvas(600, 600);\n",
       "\n",
       "    // Disable right mouse context menu.\n",
       "    $(this.rubberband_canvas).bind(\"contextmenu\",function(e){\n",
       "        return false;\n",
       "    });\n",
       "\n",
       "    function set_focus () {\n",
       "        canvas.focus();\n",
       "        canvas_div.focus();\n",
       "    }\n",
       "\n",
       "    window.setTimeout(set_focus, 100);\n",
       "}\n",
       "\n",
       "mpl.figure.prototype._init_toolbar = function() {\n",
       "    var fig = this;\n",
       "\n",
       "    var nav_element = $('<div/>')\n",
       "    nav_element.attr('style', 'width: 100%');\n",
       "    this.root.append(nav_element);\n",
       "\n",
       "    // Define a callback function for later on.\n",
       "    function toolbar_event(event) {\n",
       "        return fig.toolbar_button_onclick(event['data']);\n",
       "    }\n",
       "    function toolbar_mouse_event(event) {\n",
       "        return fig.toolbar_button_onmouseover(event['data']);\n",
       "    }\n",
       "\n",
       "    for(var toolbar_ind in mpl.toolbar_items) {\n",
       "        var name = mpl.toolbar_items[toolbar_ind][0];\n",
       "        var tooltip = mpl.toolbar_items[toolbar_ind][1];\n",
       "        var image = mpl.toolbar_items[toolbar_ind][2];\n",
       "        var method_name = mpl.toolbar_items[toolbar_ind][3];\n",
       "\n",
       "        if (!name) {\n",
       "            // put a spacer in here.\n",
       "            continue;\n",
       "        }\n",
       "        var button = $('<button/>');\n",
       "        button.addClass('ui-button ui-widget ui-state-default ui-corner-all ' +\n",
       "                        'ui-button-icon-only');\n",
       "        button.attr('role', 'button');\n",
       "        button.attr('aria-disabled', 'false');\n",
       "        button.click(method_name, toolbar_event);\n",
       "        button.mouseover(tooltip, toolbar_mouse_event);\n",
       "\n",
       "        var icon_img = $('<span/>');\n",
       "        icon_img.addClass('ui-button-icon-primary ui-icon');\n",
       "        icon_img.addClass(image);\n",
       "        icon_img.addClass('ui-corner-all');\n",
       "\n",
       "        var tooltip_span = $('<span/>');\n",
       "        tooltip_span.addClass('ui-button-text');\n",
       "        tooltip_span.html(tooltip);\n",
       "\n",
       "        button.append(icon_img);\n",
       "        button.append(tooltip_span);\n",
       "\n",
       "        nav_element.append(button);\n",
       "    }\n",
       "\n",
       "    var fmt_picker_span = $('<span/>');\n",
       "\n",
       "    var fmt_picker = $('<select/>');\n",
       "    fmt_picker.addClass('mpl-toolbar-option ui-widget ui-widget-content');\n",
       "    fmt_picker_span.append(fmt_picker);\n",
       "    nav_element.append(fmt_picker_span);\n",
       "    this.format_dropdown = fmt_picker[0];\n",
       "\n",
       "    for (var ind in mpl.extensions) {\n",
       "        var fmt = mpl.extensions[ind];\n",
       "        var option = $(\n",
       "            '<option/>', {selected: fmt === mpl.default_extension}).html(fmt);\n",
       "        fmt_picker.append(option)\n",
       "    }\n",
       "\n",
       "    // Add hover states to the ui-buttons\n",
       "    $( \".ui-button\" ).hover(\n",
       "        function() { $(this).addClass(\"ui-state-hover\");},\n",
       "        function() { $(this).removeClass(\"ui-state-hover\");}\n",
       "    );\n",
       "\n",
       "    var status_bar = $('<span class=\"mpl-message\"/>');\n",
       "    nav_element.append(status_bar);\n",
       "    this.message = status_bar[0];\n",
       "}\n",
       "\n",
       "mpl.figure.prototype.request_resize = function(x_pixels, y_pixels) {\n",
       "    // Request matplotlib to resize the figure. Matplotlib will then trigger a resize in the client,\n",
       "    // which will in turn request a refresh of the image.\n",
       "    this.send_message('resize', {'width': x_pixels, 'height': y_pixels});\n",
       "}\n",
       "\n",
       "mpl.figure.prototype.send_message = function(type, properties) {\n",
       "    properties['type'] = type;\n",
       "    properties['figure_id'] = this.id;\n",
       "    this.ws.send(JSON.stringify(properties));\n",
       "}\n",
       "\n",
       "mpl.figure.prototype.send_draw_message = function() {\n",
       "    if (!this.waiting) {\n",
       "        this.waiting = true;\n",
       "        this.ws.send(JSON.stringify({type: \"draw\", figure_id: this.id}));\n",
       "    }\n",
       "}\n",
       "\n",
       "\n",
       "mpl.figure.prototype.handle_save = function(fig, msg) {\n",
       "    var format_dropdown = fig.format_dropdown;\n",
       "    var format = format_dropdown.options[format_dropdown.selectedIndex].value;\n",
       "    fig.ondownload(fig, format);\n",
       "}\n",
       "\n",
       "\n",
       "mpl.figure.prototype.handle_resize = function(fig, msg) {\n",
       "    var size = msg['size'];\n",
       "    if (size[0] != fig.canvas.width || size[1] != fig.canvas.height) {\n",
       "        fig._resize_canvas(size[0], size[1]);\n",
       "        fig.send_message(\"refresh\", {});\n",
       "    };\n",
       "}\n",
       "\n",
       "mpl.figure.prototype.handle_rubberband = function(fig, msg) {\n",
       "    var x0 = msg['x0'] / mpl.ratio;\n",
       "    var y0 = (fig.canvas.height - msg['y0']) / mpl.ratio;\n",
       "    var x1 = msg['x1'] / mpl.ratio;\n",
       "    var y1 = (fig.canvas.height - msg['y1']) / mpl.ratio;\n",
       "    x0 = Math.floor(x0) + 0.5;\n",
       "    y0 = Math.floor(y0) + 0.5;\n",
       "    x1 = Math.floor(x1) + 0.5;\n",
       "    y1 = Math.floor(y1) + 0.5;\n",
       "    var min_x = Math.min(x0, x1);\n",
       "    var min_y = Math.min(y0, y1);\n",
       "    var width = Math.abs(x1 - x0);\n",
       "    var height = Math.abs(y1 - y0);\n",
       "\n",
       "    fig.rubberband_context.clearRect(\n",
       "        0, 0, fig.canvas.width, fig.canvas.height);\n",
       "\n",
       "    fig.rubberband_context.strokeRect(min_x, min_y, width, height);\n",
       "}\n",
       "\n",
       "mpl.figure.prototype.handle_figure_label = function(fig, msg) {\n",
       "    // Updates the figure title.\n",
       "    fig.header.textContent = msg['label'];\n",
       "}\n",
       "\n",
       "mpl.figure.prototype.handle_cursor = function(fig, msg) {\n",
       "    var cursor = msg['cursor'];\n",
       "    switch(cursor)\n",
       "    {\n",
       "    case 0:\n",
       "        cursor = 'pointer';\n",
       "        break;\n",
       "    case 1:\n",
       "        cursor = 'default';\n",
       "        break;\n",
       "    case 2:\n",
       "        cursor = 'crosshair';\n",
       "        break;\n",
       "    case 3:\n",
       "        cursor = 'move';\n",
       "        break;\n",
       "    }\n",
       "    fig.rubberband_canvas.style.cursor = cursor;\n",
       "}\n",
       "\n",
       "mpl.figure.prototype.handle_message = function(fig, msg) {\n",
       "    fig.message.textContent = msg['message'];\n",
       "}\n",
       "\n",
       "mpl.figure.prototype.handle_draw = function(fig, msg) {\n",
       "    // Request the server to send over a new figure.\n",
       "    fig.send_draw_message();\n",
       "}\n",
       "\n",
       "mpl.figure.prototype.handle_image_mode = function(fig, msg) {\n",
       "    fig.image_mode = msg['mode'];\n",
       "}\n",
       "\n",
       "mpl.figure.prototype.updated_canvas_event = function() {\n",
       "    // Called whenever the canvas gets updated.\n",
       "    this.send_message(\"ack\", {});\n",
       "}\n",
       "\n",
       "// A function to construct a web socket function for onmessage handling.\n",
       "// Called in the figure constructor.\n",
       "mpl.figure.prototype._make_on_message_function = function(fig) {\n",
       "    return function socket_on_message(evt) {\n",
       "        if (evt.data instanceof Blob) {\n",
       "            /* FIXME: We get \"Resource interpreted as Image but\n",
       "             * transferred with MIME type text/plain:\" errors on\n",
       "             * Chrome.  But how to set the MIME type?  It doesn't seem\n",
       "             * to be part of the websocket stream */\n",
       "            evt.data.type = \"image/png\";\n",
       "\n",
       "            /* Free the memory for the previous frames */\n",
       "            if (fig.imageObj.src) {\n",
       "                (window.URL || window.webkitURL).revokeObjectURL(\n",
       "                    fig.imageObj.src);\n",
       "            }\n",
       "\n",
       "            fig.imageObj.src = (window.URL || window.webkitURL).createObjectURL(\n",
       "                evt.data);\n",
       "            fig.updated_canvas_event();\n",
       "            fig.waiting = false;\n",
       "            return;\n",
       "        }\n",
       "        else if (typeof evt.data === 'string' && evt.data.slice(0, 21) == \"data:image/png;base64\") {\n",
       "            fig.imageObj.src = evt.data;\n",
       "            fig.updated_canvas_event();\n",
       "            fig.waiting = false;\n",
       "            return;\n",
       "        }\n",
       "\n",
       "        var msg = JSON.parse(evt.data);\n",
       "        var msg_type = msg['type'];\n",
       "\n",
       "        // Call the  \"handle_{type}\" callback, which takes\n",
       "        // the figure and JSON message as its only arguments.\n",
       "        try {\n",
       "            var callback = fig[\"handle_\" + msg_type];\n",
       "        } catch (e) {\n",
       "            console.log(\"No handler for the '\" + msg_type + \"' message type: \", msg);\n",
       "            return;\n",
       "        }\n",
       "\n",
       "        if (callback) {\n",
       "            try {\n",
       "                // console.log(\"Handling '\" + msg_type + \"' message: \", msg);\n",
       "                callback(fig, msg);\n",
       "            } catch (e) {\n",
       "                console.log(\"Exception inside the 'handler_\" + msg_type + \"' callback:\", e, e.stack, msg);\n",
       "            }\n",
       "        }\n",
       "    };\n",
       "}\n",
       "\n",
       "// from http://stackoverflow.com/questions/1114465/getting-mouse-location-in-canvas\n",
       "mpl.findpos = function(e) {\n",
       "    //this section is from http://www.quirksmode.org/js/events_properties.html\n",
       "    var targ;\n",
       "    if (!e)\n",
       "        e = window.event;\n",
       "    if (e.target)\n",
       "        targ = e.target;\n",
       "    else if (e.srcElement)\n",
       "        targ = e.srcElement;\n",
       "    if (targ.nodeType == 3) // defeat Safari bug\n",
       "        targ = targ.parentNode;\n",
       "\n",
       "    // jQuery normalizes the pageX and pageY\n",
       "    // pageX,Y are the mouse positions relative to the document\n",
       "    // offset() returns the position of the element relative to the document\n",
       "    var x = e.pageX - $(targ).offset().left;\n",
       "    var y = e.pageY - $(targ).offset().top;\n",
       "\n",
       "    return {\"x\": x, \"y\": y};\n",
       "};\n",
       "\n",
       "/*\n",
       " * return a copy of an object with only non-object keys\n",
       " * we need this to avoid circular references\n",
       " * http://stackoverflow.com/a/24161582/3208463\n",
       " */\n",
       "function simpleKeys (original) {\n",
       "  return Object.keys(original).reduce(function (obj, key) {\n",
       "    if (typeof original[key] !== 'object')\n",
       "        obj[key] = original[key]\n",
       "    return obj;\n",
       "  }, {});\n",
       "}\n",
       "\n",
       "mpl.figure.prototype.mouse_event = function(event, name) {\n",
       "    var canvas_pos = mpl.findpos(event)\n",
       "\n",
       "    if (name === 'button_press')\n",
       "    {\n",
       "        this.canvas.focus();\n",
       "        this.canvas_div.focus();\n",
       "    }\n",
       "\n",
       "    var x = canvas_pos.x * mpl.ratio;\n",
       "    var y = canvas_pos.y * mpl.ratio;\n",
       "\n",
       "    this.send_message(name, {x: x, y: y, button: event.button,\n",
       "                             step: event.step,\n",
       "                             guiEvent: simpleKeys(event)});\n",
       "\n",
       "    /* This prevents the web browser from automatically changing to\n",
       "     * the text insertion cursor when the button is pressed.  We want\n",
       "     * to control all of the cursor setting manually through the\n",
       "     * 'cursor' event from matplotlib */\n",
       "    event.preventDefault();\n",
       "    return false;\n",
       "}\n",
       "\n",
       "mpl.figure.prototype._key_event_extra = function(event, name) {\n",
       "    // Handle any extra behaviour associated with a key event\n",
       "}\n",
       "\n",
       "mpl.figure.prototype.key_event = function(event, name) {\n",
       "\n",
       "    // Prevent repeat events\n",
       "    if (name == 'key_press')\n",
       "    {\n",
       "        if (event.which === this._key)\n",
       "            return;\n",
       "        else\n",
       "            this._key = event.which;\n",
       "    }\n",
       "    if (name == 'key_release')\n",
       "        this._key = null;\n",
       "\n",
       "    var value = '';\n",
       "    if (event.ctrlKey && event.which != 17)\n",
       "        value += \"ctrl+\";\n",
       "    if (event.altKey && event.which != 18)\n",
       "        value += \"alt+\";\n",
       "    if (event.shiftKey && event.which != 16)\n",
       "        value += \"shift+\";\n",
       "\n",
       "    value += 'k';\n",
       "    value += event.which.toString();\n",
       "\n",
       "    this._key_event_extra(event, name);\n",
       "\n",
       "    this.send_message(name, {key: value,\n",
       "                             guiEvent: simpleKeys(event)});\n",
       "    return false;\n",
       "}\n",
       "\n",
       "mpl.figure.prototype.toolbar_button_onclick = function(name) {\n",
       "    if (name == 'download') {\n",
       "        this.handle_save(this, null);\n",
       "    } else {\n",
       "        this.send_message(\"toolbar_button\", {name: name});\n",
       "    }\n",
       "};\n",
       "\n",
       "mpl.figure.prototype.toolbar_button_onmouseover = function(tooltip) {\n",
       "    this.message.textContent = tooltip;\n",
       "};\n",
       "mpl.toolbar_items = [[\"Home\", \"Reset original view\", \"fa fa-home icon-home\", \"home\"], [\"Back\", \"Back to  previous view\", \"fa fa-arrow-left icon-arrow-left\", \"back\"], [\"Forward\", \"Forward to next view\", \"fa fa-arrow-right icon-arrow-right\", \"forward\"], [\"\", \"\", \"\", \"\"], [\"Pan\", \"Pan axes with left mouse, zoom with right\", \"fa fa-arrows icon-move\", \"pan\"], [\"Zoom\", \"Zoom to rectangle\", \"fa fa-square-o icon-check-empty\", \"zoom\"], [\"\", \"\", \"\", \"\"], [\"Download\", \"Download plot\", \"fa fa-floppy-o icon-save\", \"download\"]];\n",
       "\n",
       "mpl.extensions = [\"eps\", \"pdf\", \"png\", \"ps\", \"raw\", \"svg\"];\n",
       "\n",
       "mpl.default_extension = \"png\";var comm_websocket_adapter = function(comm) {\n",
       "    // Create a \"websocket\"-like object which calls the given IPython comm\n",
       "    // object with the appropriate methods. Currently this is a non binary\n",
       "    // socket, so there is still some room for performance tuning.\n",
       "    var ws = {};\n",
       "\n",
       "    ws.close = function() {\n",
       "        comm.close()\n",
       "    };\n",
       "    ws.send = function(m) {\n",
       "        //console.log('sending', m);\n",
       "        comm.send(m);\n",
       "    };\n",
       "    // Register the callback with on_msg.\n",
       "    comm.on_msg(function(msg) {\n",
       "        //console.log('receiving', msg['content']['data'], msg);\n",
       "        // Pass the mpl event to the overriden (by mpl) onmessage function.\n",
       "        ws.onmessage(msg['content']['data'])\n",
       "    });\n",
       "    return ws;\n",
       "}\n",
       "\n",
       "mpl.mpl_figure_comm = function(comm, msg) {\n",
       "    // This is the function which gets called when the mpl process\n",
       "    // starts-up an IPython Comm through the \"matplotlib\" channel.\n",
       "\n",
       "    var id = msg.content.data.id;\n",
       "    // Get hold of the div created by the display call when the Comm\n",
       "    // socket was opened in Python.\n",
       "    var element = $(\"#\" + id);\n",
       "    var ws_proxy = comm_websocket_adapter(comm)\n",
       "\n",
       "    function ondownload(figure, format) {\n",
       "        window.open(figure.imageObj.src);\n",
       "    }\n",
       "\n",
       "    var fig = new mpl.figure(id, ws_proxy,\n",
       "                           ondownload,\n",
       "                           element.get(0));\n",
       "\n",
       "    // Call onopen now - mpl needs it, as it is assuming we've passed it a real\n",
       "    // web socket which is closed, not our websocket->open comm proxy.\n",
       "    ws_proxy.onopen();\n",
       "\n",
       "    fig.parent_element = element.get(0);\n",
       "    fig.cell_info = mpl.find_output_cell(\"<div id='\" + id + \"'></div>\");\n",
       "    if (!fig.cell_info) {\n",
       "        console.error(\"Failed to find cell for figure\", id, fig);\n",
       "        return;\n",
       "    }\n",
       "\n",
       "    var output_index = fig.cell_info[2]\n",
       "    var cell = fig.cell_info[0];\n",
       "\n",
       "};\n",
       "\n",
       "mpl.figure.prototype.handle_close = function(fig, msg) {\n",
       "    var width = fig.canvas.width/mpl.ratio\n",
       "    fig.root.unbind('remove')\n",
       "\n",
       "    // Update the output cell to use the data from the current canvas.\n",
       "    fig.push_to_output();\n",
       "    var dataURL = fig.canvas.toDataURL();\n",
       "    // Re-enable the keyboard manager in IPython - without this line, in FF,\n",
       "    // the notebook keyboard shortcuts fail.\n",
       "    IPython.keyboard_manager.enable()\n",
       "    $(fig.parent_element).html('<img src=\"' + dataURL + '\" width=\"' + width + '\">');\n",
       "    fig.close_ws(fig, msg);\n",
       "}\n",
       "\n",
       "mpl.figure.prototype.close_ws = function(fig, msg){\n",
       "    fig.send_message('closing', msg);\n",
       "    // fig.ws.close()\n",
       "}\n",
       "\n",
       "mpl.figure.prototype.push_to_output = function(remove_interactive) {\n",
       "    // Turn the data on the canvas into data in the output cell.\n",
       "    var width = this.canvas.width/mpl.ratio\n",
       "    var dataURL = this.canvas.toDataURL();\n",
       "    this.cell_info[1]['text/html'] = '<img src=\"' + dataURL + '\" width=\"' + width + '\">';\n",
       "}\n",
       "\n",
       "mpl.figure.prototype.updated_canvas_event = function() {\n",
       "    // Tell IPython that the notebook contents must change.\n",
       "    IPython.notebook.set_dirty(true);\n",
       "    this.send_message(\"ack\", {});\n",
       "    var fig = this;\n",
       "    // Wait a second, then push the new image to the DOM so\n",
       "    // that it is saved nicely (might be nice to debounce this).\n",
       "    setTimeout(function () { fig.push_to_output() }, 1000);\n",
       "}\n",
       "\n",
       "mpl.figure.prototype._init_toolbar = function() {\n",
       "    var fig = this;\n",
       "\n",
       "    var nav_element = $('<div/>')\n",
       "    nav_element.attr('style', 'width: 100%');\n",
       "    this.root.append(nav_element);\n",
       "\n",
       "    // Define a callback function for later on.\n",
       "    function toolbar_event(event) {\n",
       "        return fig.toolbar_button_onclick(event['data']);\n",
       "    }\n",
       "    function toolbar_mouse_event(event) {\n",
       "        return fig.toolbar_button_onmouseover(event['data']);\n",
       "    }\n",
       "\n",
       "    for(var toolbar_ind in mpl.toolbar_items){\n",
       "        var name = mpl.toolbar_items[toolbar_ind][0];\n",
       "        var tooltip = mpl.toolbar_items[toolbar_ind][1];\n",
       "        var image = mpl.toolbar_items[toolbar_ind][2];\n",
       "        var method_name = mpl.toolbar_items[toolbar_ind][3];\n",
       "\n",
       "        if (!name) { continue; };\n",
       "\n",
       "        var button = $('<button class=\"btn btn-default\" href=\"#\" title=\"' + name + '\"><i class=\"fa ' + image + ' fa-lg\"></i></button>');\n",
       "        button.click(method_name, toolbar_event);\n",
       "        button.mouseover(tooltip, toolbar_mouse_event);\n",
       "        nav_element.append(button);\n",
       "    }\n",
       "\n",
       "    // Add the status bar.\n",
       "    var status_bar = $('<span class=\"mpl-message\" style=\"text-align:right; float: right;\"/>');\n",
       "    nav_element.append(status_bar);\n",
       "    this.message = status_bar[0];\n",
       "\n",
       "    // Add the close button to the window.\n",
       "    var buttongrp = $('<div class=\"btn-group inline pull-right\"></div>');\n",
       "    var button = $('<button class=\"btn btn-mini btn-primary\" href=\"#\" title=\"Stop Interaction\"><i class=\"fa fa-power-off icon-remove icon-large\"></i></button>');\n",
       "    button.click(function (evt) { fig.handle_close(fig, {}); } );\n",
       "    button.mouseover('Stop Interaction', toolbar_mouse_event);\n",
       "    buttongrp.append(button);\n",
       "    var titlebar = this.root.find($('.ui-dialog-titlebar'));\n",
       "    titlebar.prepend(buttongrp);\n",
       "}\n",
       "\n",
       "mpl.figure.prototype._root_extra_style = function(el){\n",
       "    var fig = this\n",
       "    el.on(\"remove\", function(){\n",
       "\tfig.close_ws(fig, {});\n",
       "    });\n",
       "}\n",
       "\n",
       "mpl.figure.prototype._canvas_extra_style = function(el){\n",
       "    // this is important to make the div 'focusable\n",
       "    el.attr('tabindex', 0)\n",
       "    // reach out to IPython and tell the keyboard manager to turn it's self\n",
       "    // off when our div gets focus\n",
       "\n",
       "    // location in version 3\n",
       "    if (IPython.notebook.keyboard_manager) {\n",
       "        IPython.notebook.keyboard_manager.register_events(el);\n",
       "    }\n",
       "    else {\n",
       "        // location in version 2\n",
       "        IPython.keyboard_manager.register_events(el);\n",
       "    }\n",
       "\n",
       "}\n",
       "\n",
       "mpl.figure.prototype._key_event_extra = function(event, name) {\n",
       "    var manager = IPython.notebook.keyboard_manager;\n",
       "    if (!manager)\n",
       "        manager = IPython.keyboard_manager;\n",
       "\n",
       "    // Check for shift+enter\n",
       "    if (event.shiftKey && event.which == 13) {\n",
       "        this.canvas_div.blur();\n",
       "        // select the cell after this one\n",
       "        var index = IPython.notebook.find_cell_index(this.cell_info[0]);\n",
       "        IPython.notebook.select(index + 1);\n",
       "    }\n",
       "}\n",
       "\n",
       "mpl.figure.prototype.handle_save = function(fig, msg) {\n",
       "    fig.ondownload(fig, null);\n",
       "}\n",
       "\n",
       "\n",
       "mpl.find_output_cell = function(html_output) {\n",
       "    // Return the cell and output element which can be found *uniquely* in the notebook.\n",
       "    // Note - this is a bit hacky, but it is done because the \"notebook_saving.Notebook\"\n",
       "    // IPython event is triggered only after the cells have been serialised, which for\n",
       "    // our purposes (turning an active figure into a static one), is too late.\n",
       "    var cells = IPython.notebook.get_cells();\n",
       "    var ncells = cells.length;\n",
       "    for (var i=0; i<ncells; i++) {\n",
       "        var cell = cells[i];\n",
       "        if (cell.cell_type === 'code'){\n",
       "            for (var j=0; j<cell.output_area.outputs.length; j++) {\n",
       "                var data = cell.output_area.outputs[j];\n",
       "                if (data.data) {\n",
       "                    // IPython >= 3 moved mimebundle to data attribute of output\n",
       "                    data = data.data;\n",
       "                }\n",
       "                if (data['text/html'] == html_output) {\n",
       "                    return [cell, data, j];\n",
       "                }\n",
       "            }\n",
       "        }\n",
       "    }\n",
       "}\n",
       "\n",
       "// Register the function which deals with the matplotlib target/channel.\n",
       "// The kernel may be null if the page has been refreshed.\n",
       "if (IPython.notebook.kernel != null) {\n",
       "    IPython.notebook.kernel.comm_manager.register_target('matplotlib', mpl.mpl_figure_comm);\n",
       "}\n"
      ],
      "text/plain": [
       "<IPython.core.display.Javascript object>"
      ]
     },
     "metadata": {},
     "output_type": "display_data"
    },
    {
     "data": {
      "text/html": [
       "<img src=\"data:image/png;base64,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\" width=\"638.888905813665\">"
      ],
      "text/plain": [
       "<IPython.core.display.HTML object>"
      ]
     },
     "metadata": {},
     "output_type": "display_data"
    },
    {
     "data": {
      "text/plain": [
       "<matplotlib.collections.PathCollection at 0x7f4eedac1978>"
      ]
     },
     "execution_count": 4,
     "metadata": {},
     "output_type": "execute_result"
    }
   ],
   "source": [
    "plt.scatter(x,y)"
   ]
  },
  {
   "cell_type": "markdown",
   "metadata": {
    "slideshow": {
     "slide_type": "slide"
    }
   },
   "source": [
    "**Problem 1c**\n",
    "\n",
    "[You may have already done this] Now that we understand the origin of the data, make a scatter plot showing their distribution."
   ]
  },
  {
   "cell_type": "code",
   "execution_count": null,
   "metadata": {
    "collapsed": true,
    "slideshow": {
     "slide_type": "subslide"
    }
   },
   "outputs": [],
   "source": [
    "plt.scatter( # complete\n",
    "# complete\n",
    "# complete"
   ]
  },
  {
   "cell_type": "markdown",
   "metadata": {
    "slideshow": {
     "slide_type": "slide"
    }
   },
   "source": [
    "## Probelm 2) Fitting a Line to Data\n",
    "\n",
    "There is a very good chance, though I am not specifically assuming anything, that upon making the previous plot you had a thought along the lines of \"these points fall on a line\" or \"these data represent a linear relationship.\"  "
   ]
  },
  {
   "cell_type": "markdown",
   "metadata": {
    "slideshow": {
     "slide_type": "slide"
    }
   },
   "source": [
    "**Problem 2a** \n",
    "\n",
    "Is the assumption of linearity valid for the above data?\n",
    "\n",
    "Is it convenient?"
   ]
  },
  {
   "cell_type": "markdown",
   "metadata": {
    "slideshow": {
     "slide_type": "subslide"
    }
   },
   "source": [
    "*Take a few min to discuss this with your partner*"
   ]
  },
  {
   "cell_type": "markdown",
   "metadata": {
    "slideshow": {
     "slide_type": "subslide"
    }
   },
   "source": [
    "**Solution 2a**\n",
    "\n",
    "*write your answer here*"
   ]
  },
  {
   "cell_type": "markdown",
   "metadata": {
    "slideshow": {
     "slide_type": "slide"
    }
   },
   "source": [
    "Let us proceed with convenience and assume the data represent a linear relationship. In that case, in order to make predictions for future observations, we need to fit a line to the data. \n",
    "\n",
    "The \"standard\" proceedure for doing so is [least-squares fitting](https://en.wikipedia.org/wiki/Least_squares). In brief, least-squares minimizes the sum of the squared value of the residuals between the data and the fitting function."
   ]
  },
  {
   "cell_type": "markdown",
   "metadata": {
    "slideshow": {
     "slide_type": "subslide"
    }
   },
   "source": [
    "I've often joked that all you need to be a good data scientist is [google](https://www.google.com) and [stack overflow](https://stackoverflow.com). Via those two tools, we can quickly deduce that the easiest way to perform a linear least-squares fit to the above data is with [`np.polyfit`](https://docs.scipy.org/doc/numpy/reference/generated/numpy.polyfit.html), which performs a least-squares polynomial fit to two `numpy` arrays."
   ]
  },
  {
   "cell_type": "markdown",
   "metadata": {
    "slideshow": {
     "slide_type": "slide"
    }
   },
   "source": [
    "**Problem 2b**\n",
    "\n",
    "Use `np.polyfit()` to fit a line to the data. Overplot the best-fit line on the data."
   ]
  },
  {
   "cell_type": "code",
   "execution_count": null,
   "metadata": {
    "collapsed": true,
    "slideshow": {
     "slide_type": "subslide"
    }
   },
   "outputs": [],
   "source": [
    "p = np.polyfit( # complete\n",
    "\n",
    "plt.scatter( # complete\n",
    "# complete"
   ]
  },
  {
   "cell_type": "markdown",
   "metadata": {
    "slideshow": {
     "slide_type": "subslide"
    }
   },
   "source": [
    "There is a very good chance, though, again, I am not specifically assuming anything, that for the previous plots that you plotted `x` along the abscissa and `y` along the ordinate. \n",
    "\n",
    "[Honestly, there's no one to blame if this is the case, this has essentially been drilled into all of us from the moment we started making plots. In fact, in `matplotlib` we cannot change the name of the abscissa label without adjusting the `xlabel`.]"
   ]
  },
  {
   "cell_type": "markdown",
   "metadata": {
    "slideshow": {
     "slide_type": "slide"
    }
   },
   "source": [
    "This leads us to an important question, however. What if `y` does not depend on `x` and instead `x` depends on `y`? Does that in any way change the results for the fit?"
   ]
  },
  {
   "cell_type": "markdown",
   "metadata": {
    "slideshow": {
     "slide_type": "subslide"
    }
   },
   "source": [
    "**Problem 2c**\n",
    "\n",
    "Perform a linear least-squares fit to `x` vs. `y` (or if you already fit this, then reverse the axes). As above, plot the data and the best-fit model.\n",
    "\n",
    "To test if the relation is the same between the two fits, compare the predicted `y` value for both models corresponding to `x = 300`."
   ]
  },
  {
   "cell_type": "code",
   "execution_count": null,
   "metadata": {
    "collapsed": true,
    "slideshow": {
     "slide_type": "subslide"
    }
   },
   "outputs": [],
   "source": [
    "p_yx = np.polyfit( # complete\n",
    "\n",
    "plt.scatter( # complete\n",
    "# complete\n",
    "\n",
    "print(\"For y vs. x, then x=50 would predict y={:.2f}\".format( # complete\n",
    "print(\"For x vs. y, then x=50 would predict y={:.2f}\".format( # complete"
   ]
  },
  {
   "cell_type": "markdown",
   "metadata": {
    "slideshow": {
     "slide_type": "subslide"
    }
   },
   "source": [
    "So we have now uncovered one of the peculiariaties of least-squares. Fitting `y` vs. `x` is *not* the same as fitting `x` vs. `y`."
   ]
  },
  {
   "cell_type": "markdown",
   "metadata": {
    "slideshow": {
     "slide_type": "slide"
    }
   },
   "source": [
    "There are a couple essential assumptions that go into standard least-squares fitting:\n",
    "\n",
    "1. There is one dimension along which the data have negligible uncertainties\n",
    "2. Along the other dimension **all** of the uncertainties can be described via Gaussians of known variance\n",
    "\n",
    "These two conditions are *rarely* met for astronomical data. While condition 1 can be satisfied (e.g., time series data where there is essentially no uncertainty on the time of the observations), I contend that condition 2 is rarely, if ever, satisfied."
   ]
  },
  {
   "cell_type": "markdown",
   "metadata": {
    "slideshow": {
     "slide_type": "subslide"
    }
   },
   "source": [
    "Speaking of uncertainties(1), we have not utilized any thus far. [I hope this has raised some warning bells.]\n",
    "\n",
    "We will now re-organize our data to match what is originally in Hogg, Bovy, & Lang (previously `x` and `y` were swapped).\n",
    "\n",
    "(1) There is an amazing footnote in Hogg, Bovy, & Lang about \"errors\" vs. \"uncertainties\" - I suggest everyone read this."
   ]
  },
  {
   "cell_type": "markdown",
   "metadata": {},
   "source": [
    "**Problem 2d**\n",
    "\n",
    "Re-plot the data including the uncertatines."
   ]
  },
  {
   "cell_type": "code",
   "execution_count": null,
   "metadata": {
    "collapsed": true,
    "slideshow": {
     "slide_type": "subslide"
    }
   },
   "outputs": [],
   "source": [
    "x = np.array([203, 58, 210, 202, 198, 158, \n",
    "              165, 201, 157, 131, 166, 160, \n",
    "              186, 125, 218, 146])\n",
    "y = np.array([495, 173, 479, 504, 510, 416, \n",
    "              393, 442, 317, 311, 400, 337, \n",
    "              423, 334, 533, 344])\n",
    "sigma_y = np.array([21, 15, 27, 14, 30, 16, \n",
    "                    14, 25, 52, 16, 34, 31, \n",
    "                    42, 26, 16, 22])\n",
    "\n",
    "plt.errorbar( # complete"
   ]
  },
  {
   "cell_type": "markdown",
   "metadata": {
    "slideshow": {
     "slide_type": "subslide"
    }
   },
   "source": [
    "We are now assuming that `x` has negligible uncertainties and that `y` has uncertainties that can be perfectly described by Gaussians of known variance."
   ]
  },
  {
   "cell_type": "markdown",
   "metadata": {
    "slideshow": {
     "slide_type": "slide"
    }
   },
   "source": [
    "A portion of the appeal of least-squares is that it provides a deterministic method for determining the best fit. To understand that we now need to do a little linear algebra.\n",
    "\n",
    "We can arrange the data in the following matricies:\n",
    "\n",
    "$$ \\mathbf{Y} = \\left[ {\\begin{array}{c}\n",
    "            y_1 \\\\\n",
    "            y_2 \\\\\n",
    "            \\dots \\\\\n",
    "            y_N\n",
    "            \\end{array}\n",
    "           }\n",
    "            \\right] , $$\n",
    "\n",
    "$$ \\mathbf{A} = \\left[ {\\begin{array}{cc}\n",
    "            1 & x_1 \\\\\n",
    "            1 & x_2 \\\\\n",
    "            \\dots & \\dots \\\\\n",
    "            1 & x_N\n",
    "            \\end{array}\n",
    "           }\n",
    "           \\right] ,\n",
    "           $$\n",
    "           \n",
    "$$ \\mathbf{C} = \\left[ {\\begin{array}{cccc}\n",
    "            \\sigma_{y_1}^2 & 0 & \\dots & 0 \\\\\n",
    "            0 & \\sigma_{y_2}^2 & \\dots & 0 \\\\\n",
    "            \\vdots & \\vdots & \\ddots & \\vdots \\\\\n",
    "            0 & 0 & \\dots & \\sigma_{y_1}^2 \\\\\n",
    "            \\end{array}\n",
    "           }\n",
    "           \\right] ,\n",
    "           $$\n",
    "           \n",
    "where $\\mathbf{Y}$ is a vector, and $\\mathbf{C}$ is the covariance matrix. "
   ]
  },
  {
   "cell_type": "markdown",
   "metadata": {
    "slideshow": {
     "slide_type": "subslide"
    }
   },
   "source": [
    "Ultimately, we need to solve the equation\n",
    "\n",
    "$$\\mathbf{Y} = \\mathbf{A}\\mathbf{X}.$$\n",
    "\n",
    "I am skipping the derivation, but the solution to this equations is:\n",
    "\n",
    "$$ \\left[ {\\begin{array}{c}\n",
    "            b \\\\\n",
    "            m \\\\\n",
    "            \\end{array}\n",
    "           }\n",
    "            \\right] = \\mathbf{X} = \\left[ \\mathbf{A}^T \\mathbf{C}^{-1} \\mathbf{A}\\right]^{-1} \\left[ \\mathbf{A}^T \\mathbf{C}^{-1} \\mathbf{Y}\\right].$$\n",
    "\n"
   ]
  },
  {
   "cell_type": "markdown",
   "metadata": {
    "slideshow": {
     "slide_type": "subslide"
    }
   },
   "source": [
    "As noted in Hogg, Bovy, & Lang, this procedure minimizes the $\\chi^2$ function, which is the total squared error, after appropriately scaling by the uncertainties:\n",
    "\n",
    "$$ \\chi^2 = \\Sigma_{i = 1}^{N} \\frac{[y_i - f(x_i)]^2}{\\sigma_{y_i}^2} = \\left[ \\mathbf{Y}  - \\mathbf{A}\\mathbf{X}\\right]^{T} \\mathbf{C}^{-1} \\left[ \\mathbf{Y} - \\mathbf{A} \\mathbf{X}\\right].$$"
   ]
  },
  {
   "cell_type": "markdown",
   "metadata": {
    "slideshow": {
     "slide_type": "slide"
    }
   },
   "source": [
    "**Problem 2e** \n",
    "\n",
    "Using the linear algebra equations above (i.e. avoid `np.polyfit` or any other similar functions), determine the weighted least-squares best-fit values for $b$ and $m$, the intercept and slope, respectively.\n",
    "\n",
    "Plot the results of the best-fit line. How does this compare to the above estimates?"
   ]
  },
  {
   "cell_type": "code",
   "execution_count": null,
   "metadata": {
    "collapsed": true,
    "slideshow": {
     "slide_type": "subslide"
    }
   },
   "outputs": [],
   "source": [
    "Y = # complete\n",
    "A = # complete\n",
    "C = # complete\n",
    "\n",
    "X = # complete\n",
    "\n",
    "best_fit = # complete\n",
    "\n",
    "plt.errorbar( # complete\n",
    "plt.plot( # complete\n",
    "\n",
    "print(\"The best-fit value for the slope and intercept are: {:.4f} and {:.4f}\".format( # complete"
   ]
  },
  {
   "cell_type": "markdown",
   "metadata": {
    "slideshow": {
     "slide_type": "slide"
    }
   },
   "source": [
    "**Problem 2f**\n",
    "\n",
    "Confirm the results of this fit are the same as those from `np.polyfit`.\n",
    "\n",
    "*Hint - be sure to include the uncertainties.*"
   ]
  },
  {
   "cell_type": "code",
   "execution_count": null,
   "metadata": {
    "collapsed": true,
    "slideshow": {
     "slide_type": "subslide"
    }
   },
   "outputs": [],
   "source": [
    "p = np.polyfit( # complete\n",
    "print(\"The best-fit value for the slope and intercept are: {:.4f} and {:.4f}\".format( # complete"
   ]
  },
  {
   "cell_type": "markdown",
   "metadata": {
    "slideshow": {
     "slide_type": "slide"
    }
   },
   "source": [
    "## Problem 3) Are the Uncertainties Actually Gaussian?\n",
    "\n",
    "Previously we noted that there are two essential assumptions that are required for least-squares fitting to be correct. We are now going to examine the latter requirement, namely, that the uncertainties can be perfectly described as Gaussians with known variance."
   ]
  },
  {
   "cell_type": "markdown",
   "metadata": {
    "slideshow": {
     "slide_type": "subslide"
    }
   },
   "source": [
    "Earlier I stated this assumption is rarely satisfied. Why might this be the case? \n",
    "\n",
    "In my experience (meaning this is hardly universal), if it's astro, it's got systematics. While I cannot prove this, I contend that systematic uncertainties are rarely Gaussian. If you are lucky enough to be in a regime where you can be confident that the systematics are Gaussian, I further contend that it is extremely difficult to be certain that the variance of that Gaussian is known."
   ]
  },
  {
   "cell_type": "markdown",
   "metadata": {
    "slideshow": {
     "slide_type": "subslide"
    }
   },
   "source": [
    "Then there's another (astro-specific) challenge: in many circumstances, we aren't actually working with data, but rather with the results of other models applied to the data.\n",
    "\n",
    "Let's take an optical astronomy (biased, but this is LSST after all) example. What are the data? In many cases inference is being based on measurements of brightness, but the true data in this case is simply a bunch of electron counts in a CCD. The brightness (or mag) is based on the application of a model (e.g., PSF, aperture, Kron) that is applied to the data. Thus, to assume that a flux (or mag) measurement has Gaussian uncertainties with known variance is to assume that whatever flux-measurement model has been applied always produces perfectly Gaussian uncertainties (and a lot of different assumptions go into flux-measurement models...)"
   ]
  },
  {
   "cell_type": "markdown",
   "metadata": {
    "slideshow": {
     "slide_type": "subslide"
    }
   },
   "source": [
    "As a demonstration associated with the challenges of these assumptions, we will examine the data set presented in Hogg, Bovy, & Lang. "
   ]
  },
  {
   "cell_type": "code",
   "execution_count": null,
   "metadata": {
    "collapsed": true,
    "slideshow": {
     "slide_type": "subslide"
    }
   },
   "outputs": [],
   "source": [
    "x = np.array([201, 201, 287, 166,  58, 157, 146, 218, 203, 186, 160,  47, 210,\n",
    "       131, 202, 125, 158, 198, 165, 244])\n",
    "y = np.array([592, 442, 402, 400, 173, 317, 344, 533, 495, 423, 337, 583, 479,\n",
    "       311, 504, 334, 416, 510, 393, 401])\n",
    "sigma_y = np.array([61, 25, 15, 34, 15, 52, 22, 16, 21, 42, 31, 38, 27, 16, 14, 26, 16,\n",
    "       30, 14, 25])"
   ]
  },
  {
   "cell_type": "markdown",
   "metadata": {
    "slideshow": {
     "slide_type": "slide"
    }
   },
   "source": [
    "**Problem 3a**\n",
    "\n",
    "Using the least-squares methodology developed in Problem 2, determine the best-fit slope and intercept for a line fit to the data above. \n",
    "\n",
    "Make a scatter plot of the data, and overplot the best-fit line. What if anything, do you notice about the data and the fit?"
   ]
  },
  {
   "cell_type": "code",
   "execution_count": null,
   "metadata": {
    "collapsed": true,
    "slideshow": {
     "slide_type": "subslide"
    }
   },
   "outputs": [],
   "source": [
    "Y = # complete\n",
    "# complete\n",
    "\n",
    "# complete\n",
    "\n",
    "plt.errorbar( # complete\n",
    "plt.plot( # complete\n",
    "\n",
    "print(\"The best-fit value for the slope and intercept are: {:.4f} and {:.4f}\".format( # complete"
   ]
  },
  {
   "cell_type": "markdown",
   "metadata": {
    "slideshow": {
     "slide_type": "subslide"
    }
   },
   "source": [
    "Unlike the data in Problems 1 and 2, there appear to be some significant outliers (of course - this appearance of outliers is entirely dependent upon the assumption of linearity, there may actually be no outliers and a complex relation between `x` and `y`). As such, it does not appear (to me) as though the best-fit line provides a good model for the data."
   ]
  },
  {
   "cell_type": "markdown",
   "metadata": {
    "slideshow": {
     "slide_type": "slide"
    }
   },
   "source": [
    "**Problem 3b**\n",
    "\n",
    "Perform a least-squares 2nd order polynomial fit to the data. Overplot the bestfit curve.\n",
    "\n",
    "How does this compare to the linear model fit?"
   ]
  },
  {
   "cell_type": "code",
   "execution_count": null,
   "metadata": {
    "collapsed": true
   },
   "outputs": [],
   "source": [
    "Y = # complete\n",
    "# complete\n",
    "\n",
    "# complete\n",
    "\n",
    "plt.errorbar( # complete\n",
    "plt.plot( # complete"
   ]
  },
  {
   "cell_type": "markdown",
   "metadata": {
    "slideshow": {
     "slide_type": "subslide"
    }
   },
   "source": [
    "By eye (a metric that is hardly quantitative, but nevertheless worth developing because talks never provide all of the details), the quadratic fit appears \"better\" than the linear fit.\n",
    "\n",
    "But, there are still \"outliers\" and in the realm of polynomial fitting, it is always possible to get a better fit by adding more degrees to the polynomial. Should we keep going here, or should we stop? (Again - we will discuss model selection with Adam on Friday)\n",
    "\n",
    "[As a reminder - in machine learning we'd call this low training error, but the generalization error is likely huge]"
   ]
  },
  {
   "cell_type": "markdown",
   "metadata": {
    "slideshow": {
     "slide_type": "slide"
    }
   },
   "source": [
    "How should we deal with these potential outliers?\n",
    "\n",
    "(and to re-iterate, we cannot be certain that these points are, in fact, outliers)"
   ]
  },
  {
   "cell_type": "markdown",
   "metadata": {
    "slideshow": {
     "slide_type": "subslide"
    }
   },
   "source": [
    "Amazingly, if you scroll through the literature you can find solutions like the following: \"We do not *believe* the data point at (x, y) for reasons A, B, C. Thus, we exclude that point from the fit.\"\n",
    "\n",
    "This, obviously, lacks any sort of rigor. If data is going to be removed, and it is worth asking if data should ever be removed, it should not be subject to the \"beliefs\" of an individual person or group. "
   ]
  },
  {
   "cell_type": "markdown",
   "metadata": {
    "slideshow": {
     "slide_type": "subslide"
    }
   },
   "source": [
    "A more common approach that you might encounter is known as $k\\sigma$ clipping, which is an iterative procedure to identify and remove outliers from a data set. The procedure is as follows:\n",
    "\n",
    "1. Fit the model to the data\n",
    "2. Identify any data points that are $k\\sigma$ discrepant from the best-fit model\n",
    "3. Remove the discrepant points, repeat steps 1 & 2 until there are no data beyond $k\\sigma$"
   ]
  },
  {
   "cell_type": "markdown",
   "metadata": {
    "slideshow": {
     "slide_type": "subslide"
    }
   },
   "source": [
    "The motivation for this procedure is the following: in a small data set (such as the one above, 20 points), the likelihood of having large $\\sigma$ deviations (let's say $k = 5$) is vanishingly small. Thus, it \"makes sense\" to remove those points. \n",
    "\n",
    "Of course, this only makes sense if the uncertainties are truly gaussian with low variance. So again, specific, and likely untrue, assumptions have to be made. "
   ]
  },
  {
   "cell_type": "markdown",
   "metadata": {
    "slideshow": {
     "slide_type": "slide"
    }
   },
   "source": [
    "**Problem 3c**\n",
    "\n",
    "Develop a $k\\sigma$ clipping procedure to fit a line to the data set. Set $k = 5$ and determine the best-fit line to the data. \n",
    "\n",
    "Overplot the results of the procedure on the data. How does this fit to the data look?"
   ]
  },
  {
   "cell_type": "code",
   "execution_count": null,
   "metadata": {
    "collapsed": true,
    "slideshow": {
     "slide_type": "subslide"
    }
   },
   "outputs": [],
   "source": [
    "# complete"
   ]
  },
  {
   "cell_type": "markdown",
   "metadata": {
    "slideshow": {
     "slide_type": "subslide"
    }
   },
   "source": [
    "By eye, the results above are not that satisfying. Several of those points do look like outliers, but there are also 2 points being rejected that are well within the other cluster of data.\n",
    "\n",
    "Furthermore, the point at $(x, y) \\approx (60, 170)$ was clipped in an early iteration of the algorithm, but now with the final model this point is actually within $k\\sigma$ of the best-fit line. What should one do with points like this?"
   ]
  },
  {
   "cell_type": "markdown",
   "metadata": {
    "slideshow": {
     "slide_type": "subslide"
    }
   },
   "source": [
    "This is one of the great problems with $k\\sigma$ clipping: how does one select the appropriate value for $k$?\n",
    "\n",
    "Even if there was a good heuristic argument for selecting $k$, is there fundamentally any difference between an observation that is $k\\sigma + \\epsilon$ away from the model versus a point at $k\\sigma - \\epsilon$, where $\\epsilon \\ll 1$? Any choice of $k$ will automatically remove one of these points and not the other, which seems somewhat arbitrary..."
   ]
  },
  {
   "cell_type": "markdown",
   "metadata": {
    "slideshow": {
     "slide_type": "slide"
    }
   },
   "source": [
    "**Problem 3d**\n",
    "\n",
    "Perform the $k\\sigma$ procedure on the data, but this time set $k = 7$. Plot the results as above.\n",
    "\n",
    "How do these results compare to our previous fits?"
   ]
  },
  {
   "cell_type": "code",
   "execution_count": null,
   "metadata": {
    "collapsed": true,
    "slideshow": {
     "slide_type": "subslide"
    }
   },
   "outputs": [],
   "source": [
    "# complete"
   ]
  },
  {
   "cell_type": "markdown",
   "metadata": {
    "slideshow": {
     "slide_type": "subslide"
    }
   },
   "source": [
    "By eye, this *appears* superior to the previous fit. At the same time, we have not actually optimized anything to definitively show that this is the case.\n",
    "\n",
    "If there are outliers in the data, then it stands to reason that the uncertainties are likely not correctly estimated."
   ]
  },
  {
   "cell_type": "markdown",
   "metadata": {
    "slideshow": {
     "slide_type": "subslide"
    }
   },
   "source": [
    "**Problem 3e**\n",
    "\n",
    "Perform the $k\\sigma$ procedure on the data, with $k = 5$, but the variance increased by a factor 4 (i.e. `sigma_y` increased by a factor of 2). Plot the results as above.\n",
    "\n",
    "How do these results compare to our previous fits?"
   ]
  },
  {
   "cell_type": "code",
   "execution_count": null,
   "metadata": {
    "collapsed": true,
    "slideshow": {
     "slide_type": "subslide"
    }
   },
   "outputs": [],
   "source": [
    "# complete"
   ]
  },
  {
   "cell_type": "markdown",
   "metadata": {
    "slideshow": {
     "slide_type": "subslide"
    }
   },
   "source": [
    "If the uncertainties were underestimated then none of the data get clipped from the fit!"
   ]
  },
  {
   "cell_type": "markdown",
   "metadata": {
    "slideshow": {
     "slide_type": "slide"
    }
   },
   "source": [
    "I assume (and I hope I've convinced you that assumptions are dangerous) that if you have worked with astronomical data that at one point or another you have (i) encountered data that appear to have outliers, and/or (ii) plotted data in 2 dimensions and then performed a (least-squares) linear fit to that data."
   ]
  },
  {
   "cell_type": "markdown",
   "metadata": {
    "slideshow": {
     "slide_type": "subslide"
    }
   },
   "source": [
    "If that is true, I sincerely hope you have the following two thoughts:\n",
    "\n",
    "1. Crap, crap, crap - I really messed up my paper on [*REDACTED*].\n",
    "2. There has to be a better way!"
   ]
  },
  {
   "cell_type": "markdown",
   "metadata": {
    "slideshow": {
     "slide_type": "subslide"
    }
   },
   "source": [
    "First, let's address point 1. Don't freak out. Yes, it is probably the case that some work somewhere was not completed in the absolute most rigorous fashion possible. This is okay (and I feel fairly confident saying everyone has done it. There are definitely examples of each of the \"bad\" things described above in *my* papers if you go back and look hard enough.)\n",
    "\n",
    "There are even some situations where the above prescriptions are appropriate and preferred (think engineering solutions as opposed to strict scientific inference). "
   ]
  },
  {
   "cell_type": "markdown",
   "metadata": {
    "slideshow": {
     "slide_type": "subslide"
    }
   },
   "source": [
    "More importantly - point 2: there is a better way. Especially for the data/problem that we have been investigating above.\n",
    "\n",
    "In particular, we can take a Bayesian approach to the problem (see Mario's lecture this afternoon), whereby we define a generative model (see Adam's lecture on Tuesday) that allows us to compute the likelihood of the observations (see Zeljko's lecture this afternoon). The computation of the likelihood or posterior probability distribution requires complex integrals, but this is possible using sophisticated sampling techniques (see Andy's talk on Tuesday).\n",
    "\n",
    "The combination of each of these tools provides a far more satisfying result than the various procedures previously discussed in this lecture. "
   ]
  },
  {
   "cell_type": "markdown",
   "metadata": {
    "slideshow": {
     "slide_type": "slide"
    }
   },
   "source": [
    "## Challenge Problem\n",
    "\n",
    "Use the procedure described above to determine the best-fit values for the slope and intercept of a line fit to the data."
   ]
  },
  {
   "cell_type": "code",
   "execution_count": null,
   "metadata": {
    "collapsed": true
   },
   "outputs": [],
   "source": []
  }
 ],
 "metadata": {
  "celltoolbar": "Slideshow",
  "kernelspec": {
   "display_name": "Python 3",
   "language": "python",
   "name": "python3"
  },
  "language_info": {
   "codemirror_mode": {
    "name": "ipython",
    "version": 3
   },
   "file_extension": ".py",
   "mimetype": "text/x-python",
   "name": "python",
   "nbconvert_exporter": "python",
   "pygments_lexer": "ipython3",
   "version": "3.6.2"
  }
 },
 "nbformat": 4,
 "nbformat_minor": 2
}
