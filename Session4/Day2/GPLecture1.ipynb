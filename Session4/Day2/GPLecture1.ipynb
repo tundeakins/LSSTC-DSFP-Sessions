{
 "cells": [
  {
   "cell_type": "code",
   "execution_count": 16,
   "metadata": {
    "collapsed": true,
    "hideCode": false,
    "hidePrompt": false,
    "slideshow": {
     "slide_type": "skip"
    }
   },
   "outputs": [],
   "source": [
    "%matplotlib inline\n",
    "import ipywidgets as widgets\n",
    "from ipywidgets import interact\n",
    "import numpy as np\n",
    "import matplotlib.pyplot as pl\n",
    "from scipy.spatial.distance import cdist\n",
    "from numpy.linalg import inv\n",
    "import george"
   ]
  },
  {
   "cell_type": "markdown",
   "metadata": {
    "hideCode": false,
    "hidePrompt": false,
    "slideshow": {
     "slide_type": "slide"
    }
   },
   "source": [
    "# Gaussian process regression \n",
    "\n",
    "## Lecture 1\n",
    "\n",
    "### Suzanne Aigrain, University of Oxford\n",
    "\n",
    "#### LSST DSFP Session 4, Seattle, Sept 2017"
   ]
  },
  {
   "cell_type": "markdown",
   "metadata": {
    "slideshow": {
     "slide_type": "subslide"
    }
   },
   "source": [
    "- Lecture 1: Introduction and basics\n",
    "\n",
    "     - Tutorial 1: Write your own GP code"
   ]
  },
  {
   "cell_type": "markdown",
   "metadata": {
    "slideshow": {
     "slide_type": "fragment"
    }
   },
   "source": [
    "- Lecture 2: Examples and practical considerations\n",
    "\n",
    "    - Tutorial 3: Useful GP modules"
   ]
  },
  {
   "cell_type": "markdown",
   "metadata": {
    "hideCode": false,
    "hidePrompt": false,
    "slideshow": {
     "slide_type": "fragment"
    }
   },
   "source": [
    "- Lecture 3: Advanced applications"
   ]
  },
  {
   "cell_type": "markdown",
   "metadata": {
    "hideCode": false,
    "hidePrompt": false,
    "slideshow": {
     "slide_type": "slide"
    }
   },
   "source": [
    "## Why GPs?\n",
    "\n",
    "- flexible, robust probabilistic regression and classification tools. "
   ]
  },
  {
   "cell_type": "markdown",
   "metadata": {
    "hideCode": false,
    "hidePrompt": false,
    "slideshow": {
     "slide_type": "fragment"
    }
   },
   "source": [
    "- applied across a wide range of fields, from finance to zoology. "
   ]
  },
  {
   "cell_type": "markdown",
   "metadata": {
    "hideCode": false,
    "hidePrompt": false,
    "slideshow": {
     "slide_type": "fragment"
    }
   },
   "source": [
    "- useful for data containing non-trivial stochastic signals or noise."
   ]
  },
  {
   "cell_type": "markdown",
   "metadata": {
    "hideCode": false,
    "hidePrompt": false,
    "slideshow": {
     "slide_type": "fragment"
    }
   },
   "source": [
    "- time-series data: causation implies correlation, so noise always correlated."
   ]
  },
  {
   "cell_type": "markdown",
   "metadata": {
    "hideCode": false,
    "hidePrompt": false,
    "slideshow": {
     "slide_type": "fragment"
    }
   },
   "source": [
    "- increasingly popular in astronomy [mainly time-domain, but not just]."
   ]
  },
  {
   "cell_type": "markdown",
   "metadata": {
    "slideshow": {
     "slide_type": "subslide"
    }
   },
   "source": [
    "#### Spitzer exoplanet transits and eclipses (Evans et al. 2015)\n",
    "\n",
    "<img src=\"images/Evans_Spitzer.png\" width=\"800\">"
   ]
  },
  {
   "cell_type": "markdown",
   "metadata": {
    "slideshow": {
     "slide_type": "subslide"
    }
   },
   "source": [
    "#### GPz photometric redshifts (Almosallam, Jarvis & Roberts 2016)\n",
    "\n",
    "<img src=\"images/Almosallam_GPz.png\" width=\"600\">"
   ]
  },
  {
   "cell_type": "markdown",
   "metadata": {
    "hideCode": false,
    "hidePrompt": false,
    "slideshow": {
     "slide_type": "slide"
    }
   },
   "source": [
    "## What is a GP?\n",
    "\n",
    "A Gaussian process is a collection of random variables, any \n",
    "finite number of which have a joint Gaussian distribution."
   ]
  },
  {
   "cell_type": "markdown",
   "metadata": {
    "hideCode": false,
    "hidePrompt": true,
    "slideshow": {
     "slide_type": "fragment"
    }
   },
   "source": [
    "Consider a scalar variable $y$, drawn from a Gaussian distribution with mean $\\mu$ and variance $\\sigma^2$:\n",
    "\n",
    "$$\n",
    "p(y) = \\frac{1}{\\sqrt{2 \\pi} \\sigma} \\exp \\left[ - \\frac{(y-\\mu)^2}{2 \\sigma^2} \\right].\n",
    "$$\n",
    "\n",
    "As a short hand, we write: $y \\sim \\mathcal{N}(\\mu,\\sigma^2)$."
   ]
  },
  {
   "cell_type": "code",
   "execution_count": 17,
   "metadata": {
    "hideCode": false,
    "hidePrompt": false,
    "hide_input": true,
    "slideshow": {
     "slide_type": "subslide"
    }
   },
   "outputs": [
    {
     "data": {
      "application/vnd.jupyter.widget-view+json": {
       "model_id": "8349f3ec6e614a79af66b54d61a67ebe",
       "version_major": 2,
       "version_minor": 0
      },
      "text/plain": [
       "A Jupyter Widget"
      ]
     },
     "metadata": {},
     "output_type": "display_data"
    }
   ],
   "source": [
    "def gauss1d(x,mu,sig):\n",
    "    return np.exp(-(x-mu)**2/sig*2/2.)/np.sqrt(2*np.pi)/sig\n",
    "def pltgauss1d(sig=1):\n",
    "    mu=0\n",
    "    x = np.r_[-4:4:101j]\n",
    "    pl.figure(figsize=(10,7))\n",
    "    pl.plot(x, gauss1d(x,mu,sig),'k-');\n",
    "    pl.axvline(mu,c='k',ls='-');\n",
    "    pl.axvline(mu+sig,c='k',ls='--');\n",
    "    pl.axvline(mu-sig,c='k',ls='--');\n",
    "    pl.axvline(mu+2*sig,c='k',ls=':');\n",
    "    pl.axvline(mu-2*sig,c='k',ls=':');\n",
    "    pl.xlim(x.min(),x.max());\n",
    "    pl.ylim(0,1);\n",
    "    pl.xlabel(r'$y$');\n",
    "    pl.ylabel(r'$p(y)$');\n",
    "    return\n",
    "interact(pltgauss1d,\n",
    "         sig=widgets.FloatSlider(value=1.0,\n",
    "                                 min=0.5,\n",
    "                                 max=2.0,\n",
    "                                 step=0.25,\n",
    "                                 description=r'$\\sigma$',\n",
    "                                 readout_format='.2f'));"
   ]
  },
  {
   "cell_type": "markdown",
   "metadata": {
    "hideCode": false,
    "hidePrompt": false,
    "hide_input": false,
    "slideshow": {
     "slide_type": "subslide"
    }
   },
   "source": [
    "Now let us consider a pair of variables $y_1$ and $y_2$, drawn from a *bivariate Gaussian distribution*. The *joint probability density* for $y_1$ and $y_2$ is:\n",
    "\n",
    "$$\n",
    "\\left[ \\begin{array}{l} y_1 \\\\ y_2 \\end{array} \\right] \\sim \\mathcal{N} \\left(\n",
    "\\left[ \\begin{array}{l} \\mu_1 \\\\ \\mu_2 \\end{array}  \\right] , \n",
    "\\left[ \\begin{array}{ll} \n",
    "\\sigma_1^2 & C \\\\\n",
    "C & \\sigma_2^2 \n",
    "\\end{array}  \\right] \n",
    "\\right),\n",
    "$$\n",
    "\n",
    "where $C = {\\rm cov}(y_1,y_2)$ is the *covariance* between $y_1$ and $y_2$.\n",
    "The second term on the right hand side is the *covariance matrix*, $K$."
   ]
  },
  {
   "cell_type": "markdown",
   "metadata": {
    "hideCode": false,
    "hidePrompt": false,
    "slideshow": {
     "slide_type": "fragment"
    }
   },
   "source": [
    "We now use two powerful *identities* of Gaussian distributions to elucidate the relationship between $y_1$ and $y_2$. "
   ]
  },
  {
   "cell_type": "markdown",
   "metadata": {
    "hideCode": false,
    "hidePrompt": false,
    "slideshow": {
     "slide_type": "subslide"
    }
   },
   "source": [
    "The *marginal distribution* of $y_1$ describes what we know about $y_1$ in the absence of any other information about $y_2$, and is simply:\n",
    "\n",
    "$$\n",
    "p(y_1)= \\mathcal{N} (\\mu_1,\\sigma_1^2).\n",
    "$$"
   ]
  },
  {
   "cell_type": "markdown",
   "metadata": {
    "hideCode": false,
    "hidePrompt": false,
    "slideshow": {
     "slide_type": "fragment"
    }
   },
   "source": [
    "If we know the value of $y_2$, the probability density for $y_1$ collapses to the the *conditional distribution* of $y_1$ given $y_2$:\n",
    "\n",
    "$$\n",
    "p(y_1 \\mid y_2) = \\mathcal{N} \\left( \\mu_1 + C (y_2-\\mu_2)/\\sigma_2^2, \\sigma_1^2-C^2\\sigma_2^2 \\right).\n",
    "$$"
   ]
  },
  {
   "cell_type": "markdown",
   "metadata": {
    "hideCode": false,
    "hidePrompt": false,
    "slideshow": {
     "slide_type": "fragment"
    }
   },
   "source": [
    "If $K$ is diagonal, i.e. if $C=0$, $p(y_1 \\mid y_2) = p(y_1)$. Measuring $y_2$ doesn't teach us anything about $y_1$. The two variables are *uncorrelated*. "
   ]
  },
  {
   "cell_type": "markdown",
   "metadata": {
    "hideCode": false,
    "hidePrompt": false,
    "hide_input": true,
    "slideshow": {
     "slide_type": "fragment"
    }
   },
   "source": [
    "If the variables are *correlated* ($C \\neq 0$), measuring $y_2$ does alter our knowledge of $y_1$: it modifies the mean and reduces the variance."
   ]
  },
  {
   "cell_type": "code",
   "execution_count": 18,
   "metadata": {
    "hideCode": false,
    "hidePrompt": false,
    "hide_input": true,
    "slideshow": {
     "slide_type": "subslide"
    }
   },
   "outputs": [
    {
     "data": {
      "application/vnd.jupyter.widget-view+json": {
       "model_id": "669877afdd414cab8bb732d923d4604c",
       "version_major": 2,
       "version_minor": 0
      },
      "text/plain": [
       "A Jupyter Widget"
      ]
     },
     "metadata": {},
     "output_type": "display_data"
    }
   ],
   "source": [
    "def gauss2d(x1,x2,mu1,mu2,sig1,sig2,rho):\n",
    "    z = (x1-mu1)**2/sig1**2 + (x2-mu2)**2/sig2**2 - 2*rho*(x1-mu1)*(x2-mu2)/sig1/sig2    \n",
    "    e = np.exp(-z/2/(1-rho**2))\n",
    "    return e/(2*np.pi*sig1*sig2*np.sqrt(1-rho**2))\n",
    "def pltgauss2d(rho=0,show_cond=0):\n",
    "    mu1, sig1 = 0,1\n",
    "    mu2, sig2 = 0,1\n",
    "    y2o = -1\n",
    "    x1 = np.r_[-4:4:101j]\n",
    "    x2 = np.r_[-4:4:101j]\n",
    "    x22d,x12d = np.mgrid[-4:4:101j,-4:4:101j]\n",
    "    y = gauss2d(x12d,x22d,mu1,mu2,sig1,sig2,rho)\n",
    "    y1 = gauss1d(x1,mu1,sig1)\n",
    "    y2 = gauss1d(x2,mu2,sig2)\n",
    "    mu12 = mu1+rho*(y2o-mu2)/sig2**2\n",
    "    sig12 = np.sqrt(sig1**2-rho**2*sig2**2)\n",
    "    y12 = gauss1d(x1,mu12,sig12)\n",
    "    pl.figure(figsize=(10,10))\n",
    "    ax1 = pl.subplot2grid((3,3),(1,0),colspan=2,rowspan=2,aspect='equal')\n",
    "    v = np.array([0.02,0.1,0.3,0.6]) * y.max()\n",
    "    CS = pl.contour(x1,x2,y,v,colors='k')\n",
    "    if show_cond: pl.axhline(y2o,c='r')\n",
    "    pl.xlabel(r'$y_1$');\n",
    "    pl.ylabel(r'$y_2$');\n",
    "    pl.xlim(x1.min(),x1.max())\n",
    "    ax1.xaxis.set_major_locator(pl.MaxNLocator(5, prune = 'both'))\n",
    "    ax1.yaxis.set_major_locator(pl.MaxNLocator(5, prune = 'both'))\n",
    "    ax2 = pl.subplot2grid((3,3),(0,0),colspan=2,sharex=ax1)\n",
    "    pl.plot(x1,y1,'k-')\n",
    "    if show_cond: pl.plot(x1,y12,'r-')\n",
    "    pl.ylim(0,0.8)\n",
    "    pl.ylabel(r'$p(y_1)$')\n",
    "    pl.setp(ax2.get_xticklabels(), visible=False)\n",
    "    ax2.xaxis.set_major_locator(pl.MaxNLocator(5, prune = 'both'))\n",
    "    ax2.yaxis.set_major_locator(pl.MaxNLocator(4, prune = 'upper'))\n",
    "    pl.xlim(x1.min(),x1.max())\n",
    "    ax3 = pl.subplot2grid((3,3),(1,2),rowspan=2,sharey=ax1)\n",
    "    pl.plot(y2,x2,'k-')\n",
    "    if show_cond: pl.axhline(y2o,c='r')\n",
    "    pl.ylim(x2.min(),x2.max());\n",
    "    pl.xlim(0,0.8);\n",
    "    pl.xlabel(r'$p(y_2)$')\n",
    "    pl.setp(ax3.get_yticklabels(), visible=False)\n",
    "    ax3.xaxis.set_major_locator(pl.MaxNLocator(4, prune = 'upper'))\n",
    "    ax3.yaxis.set_major_locator(pl.MaxNLocator(5, prune = 'both'))\n",
    "    pl.subplots_adjust(hspace=0,wspace=0)\n",
    "    return \n",
    "interact(pltgauss2d, \n",
    "         rho=widgets.FloatSlider(min=-0.8,max=0.8,step=0.4,description=r'$\\rho$',value=0),\n",
    "         show_cond=widgets.Checkbox(value=True,description='show conditional distribution'));"
   ]
  },
  {
   "cell_type": "markdown",
   "metadata": {
    "hideCode": false,
    "hidePrompt": false,
    "slideshow": {
     "slide_type": "subslide"
    }
   },
   "source": [
    "To make the relation to time-series data a bit more obvious, let's plot the two variables side by side, then see what happens to one variable when we observe (fix) the other."
   ]
  },
  {
   "cell_type": "code",
   "execution_count": 19,
   "metadata": {
    "hideCode": false,
    "hidePrompt": false,
    "hide_input": true,
    "slideshow": {
     "slide_type": "subslide"
    }
   },
   "outputs": [
    {
     "data": {
      "image/png": "[encoded data removed]",
      "text/plain": [
       "<matplotlib.figure.Figure at 0x1115b2750>"
      ]
     },
     "metadata": {},
     "output_type": "display_data"
    }
   ],
   "source": [
    "def SEKernel(par, x1, x2):\n",
    "    A, Gamma = par\n",
    "    D2 = cdist(x1.reshape(len(x1),1), x2.reshape(len(x2),1), \n",
    "               metric = 'sqeuclidean')\n",
    "    return A * np.exp(-Gamma*D2)\n",
    "A = 1.0\n",
    "Gamma = 0.01\n",
    "x = np.array([-1,1])\n",
    "K = SEKernel([A,Gamma],x,x)\n",
    "m = np.zeros(len(x))\n",
    "sig = np.sqrt(np.diag(K))\n",
    "pl.figure(figsize=(15,7))\n",
    "pl.subplot(121)\n",
    "for i in range(len(x)):\n",
    "    pl.plot([x[i]-0.1,x[i]+0.1],[m[i],m[i]],'k-')\n",
    "    pl.fill_between([x[i]-0.1,x[i]+0.1],\n",
    "                    [m[i]+sig[i],m[i]+sig[i]],\n",
    "                    [m[i]-sig[i],m[i]-sig[i]],color='k',alpha=0.2)\n",
    "pl.xlim(-2,2)\n",
    "pl.ylim(-2,2)\n",
    "pl.xlabel(r'$x$')\n",
    "pl.ylabel(r'$y$');\n",
    "\n",
    "def Pred_GP(CovFunc, CovPar, xobs, yobs, eobs, xtest):\n",
    "    # evaluate the covariance matrix for pairs of observed inputs\n",
    "    K = CovFunc(CovPar, xobs, xobs) \n",
    "    # add white noise\n",
    "    K += np.identity(xobs.shape[0]) * eobs**2\n",
    "    # evaluate the covariance matrix for pairs of test inputs\n",
    "    Kss = CovFunc(CovPar, xtest, xtest)\n",
    "    # evaluate the cross-term\n",
    "    Ks = CovFunc(CovPar, xtest, xobs)\n",
    "    # invert K\n",
    "    Ki = inv(K)\n",
    "    # evaluate the predictive mean\n",
    "    m = np.dot(Ks, np.dot(Ki, yobs))\n",
    "    # evaluate the covariance\n",
    "    cov = Kss - np.dot(Ks, np.dot(Ki, Ks.T))\n",
    "    return m, cov\n",
    "xobs = np.array([-1])\n",
    "yobs = np.array([1.0])\n",
    "eobs = 0.0001\n",
    "pl.subplot(122)\n",
    "pl.errorbar(xobs,yobs,yerr=eobs,capsize=0,fmt='k.')\n",
    "x = np.array([1])\n",
    "m,C=Pred_GP(SEKernel,[A,Gamma],xobs,yobs,eobs,x)\n",
    "sig = np.sqrt(np.diag(C))\n",
    "for i in range(len(x)):\n",
    "    pl.plot([x[i]-0.1,x[i]+0.1],[m[i],m[i]],'k-')\n",
    "    pl.fill_between([x[i]-0.1,x[i]+0.1],\n",
    "                    [m[i]+sig[i],m[i]+sig[i]],\n",
    "                    [m[i]-sig[i],m[i]-sig[i]],color='k',alpha=0.2)\n",
    "pl.xlim(-2,2)\n",
    "pl.ylim(-2,2)\n",
    "pl.xlabel(r'$x$')\n",
    "pl.ylabel(r'$y$');"
   ]
  },
  {
   "cell_type": "markdown",
   "metadata": {
    "hide_input": true,
    "slideshow": {
     "slide_type": "subslide"
    }
   },
   "source": [
    "Now consider $N$ variables drawn from a multivariate Gaussian distribution:\n",
    "\n",
    "$$\n",
    "\\boldsymbol{y} \\sim \\mathcal{N} (\\boldsymbol{m},K)\n",
    "$$\n",
    "\n",
    "where $y = (y_1,y_2,\\ldots,y_N)^T$, $\\boldsymbol{m} = (m_1,m_2,\\ldots,m_N)^T$ is the *mean vector*, and $K$ is an $N \\times N$ positive semi-definite *covariance matrix*, with elements $K_{ij}={\\rm cov}(y_i,y_j)$. "
   ]
  },
  {
   "cell_type": "markdown",
   "metadata": {
    "hideCode": false,
    "hidePrompt": false,
    "slideshow": {
     "slide_type": "fragment"
    }
   },
   "source": [
    "A Gaussian process is an extension of this concept to infinite $N$, giving rise to a probability distribution over functions. "
   ]
  },
  {
   "cell_type": "markdown",
   "metadata": {
    "hideCode": false,
    "hidePrompt": false,
    "slideshow": {
     "slide_type": "fragment"
    }
   },
   "source": [
    "This last generalisation may not be obvious conceptually, but in practice only ever deal with finite samples."
   ]
  },
  {
   "cell_type": "code",
   "execution_count": 20,
   "metadata": {
    "hideCode": false,
    "hidePrompt": false,
    "hide_input": true,
    "slideshow": {
     "slide_type": "subslide"
    }
   },
   "outputs": [
    {
     "data": {
      "image/png": "[encoded data removed]",
      "text/plain": [
       "<matplotlib.figure.Figure at 0x10f404d50>"
      ]
     },
     "metadata": {},
     "output_type": "display_data"
    }
   ],
   "source": [
    "xobs = np.array([-1,1,2])\n",
    "yobs = np.array([1,-1,0])\n",
    "eobs = np.array([0.0001,0.1,0.1])\n",
    "pl.figure(figsize=(15,7))\n",
    "pl.subplot(121)\n",
    "pl.errorbar(xobs,yobs,yerr=eobs,capsize=0,fmt='k.')\n",
    "Gamma = 0.5\n",
    "x = np.array([-2.5,-2,-1.5,-0.5, 0.0, 0.5,1.5,2.5])\n",
    "m,C=Pred_GP(SEKernel,[A,Gamma],xobs,yobs,eobs,x)\n",
    "sig = np.sqrt(np.diag(C))\n",
    "for i in range(len(x)):\n",
    "    pl.plot([x[i]-0.1,x[i]+0.1],[m[i],m[i]],'k-')\n",
    "    pl.fill_between([x[i]-0.1,x[i]+0.1],\n",
    "                    [m[i]+sig[i],m[i]+sig[i]],\n",
    "                    [m[i]-sig[i],m[i]-sig[i]],color='k',alpha=0.2)\n",
    "pl.xlim(-3,3)\n",
    "pl.ylim(-3,3)\n",
    "pl.xlabel(r'$x$')\n",
    "pl.ylabel(r'$y$');\n",
    "\n",
    "pl.subplot(122)\n",
    "pl.errorbar(xobs,yobs,yerr=eobs,capsize=0,fmt='k.')\n",
    "x = np.linspace(-3,3,100)\n",
    "m,C=Pred_GP(SEKernel,[A,Gamma],xobs,yobs,eobs,x)\n",
    "sig = np.sqrt(np.diag(C))\n",
    "pl.plot(x,m,'k-')\n",
    "pl.fill_between(x,m+sig,m-sig,color='k',alpha=0.2)\n",
    "pl.xlim(-3,3)\n",
    "pl.ylim(-3,3)\n",
    "pl.xlabel(r'$x$')\n",
    "pl.ylabel(r'$y$');"
   ]
  },
  {
   "cell_type": "markdown",
   "metadata": {
    "slideshow": {
     "slide_type": "slide"
    }
   },
   "source": [
    "## Textbooks\n",
    "\n",
    "A good, detailed reference is [*Gaussian Processes for Machine Learning*](http://www.gaussianprocess.org/gpml/) by C. E. Rasmussen & C. Williams, MIT Press, 2006.\n",
    "\n",
    "The examples in the book are generated using the `Matlab` package `GPML`."
   ]
  },
  {
   "cell_type": "markdown",
   "metadata": {
    "hideCode": false,
    "hidePrompt": false,
    "slideshow": {
     "slide_type": "slide"
    }
   },
   "source": [
    "## A more formal definition"
   ]
  },
  {
   "cell_type": "markdown",
   "metadata": {
    "hideCode": false,
    "hidePrompt": false,
    "slideshow": {
     "slide_type": "fragment"
    }
   },
   "source": [
    "A Gaussian process is completely specified by its *mean function* and *covariance function*. "
   ]
  },
  {
   "cell_type": "markdown",
   "metadata": {
    "hideCode": false,
    "hidePrompt": false,
    "slideshow": {
     "slide_type": "fragment"
    }
   },
   "source": [
    "We define the mean function $m(x)$ and the covariance function $k(x,x)$ of a real process $y(x)$ as\n",
    "$$\n",
    "\\begin{array}{rcl}\n",
    "m(x) & = & \\mathbb{E}[y(x)], \\\\\n",
    "k(x,x') & = & \\mathrm{cov}(y(x),y(x'))=\\mathbb{E}[(y(x) − m(x))(y(x') − m(x'))].\n",
    "\\end{array}\n",
    "$$"
   ]
  },
  {
   "cell_type": "markdown",
   "metadata": {
    "hideCode": false,
    "hidePrompt": false,
    "slideshow": {
     "slide_type": "fragment"
    }
   },
   "source": [
    "A very common covariance function is the squared exponential, or radial basis function (RBF) kernel\n",
    "$$\n",
    "K_{ij}=k(x_i,x_j)=A \\exp\\left[ - \\Gamma (x_i-x_j)^2 \\right],\n",
    "$$\n",
    "which has 2 parameters: $A$ and $\\Gamma$."
   ]
  },
  {
   "cell_type": "markdown",
   "metadata": {
    "hideCode": false,
    "hidePrompt": false,
    "slideshow": {
     "slide_type": "fragment"
    }
   },
   "source": [
    "We then write the Gaussian process as\n",
    "$$\n",
    "y(x) \\sim \\mathcal{GP}(m(x), k(x,x'))\n",
    "$$"
   ]
  },
  {
   "cell_type": "markdown",
   "metadata": {
    "hideCode": false,
    "hidePrompt": false,
    "slideshow": {
     "slide_type": "fragment"
    }
   },
   "source": [
    "Here we are implicitly assuming the inputs $x$ are one-dimensional, e.g. $x$ might represent time. However, the input space can have more than one dimension. We will see an example of a GP with multi-dimensional inputs later."
   ]
  },
  {
   "cell_type": "markdown",
   "metadata": {
    "hideCode": false,
    "hidePrompt": false,
    "slideshow": {
     "slide_type": "subslide"
    }
   },
   "source": [
    "## The prior\n",
    "\n",
    "Now consider a finite set of inputs $\\boldsymbol{x}$, with corresponding outputs $\\boldsymbol{y}$. "
   ]
  },
  {
   "cell_type": "markdown",
   "metadata": {
    "hideCode": false,
    "hidePrompt": false,
    "slideshow": {
     "slide_type": "fragment"
    }
   },
   "source": [
    "The *joint distribution* of $\\boldsymbol{y}$ given $\\boldsymbol{x}$, $m$ and $k$ is\n",
    "$$\n",
    "\\mathrm{p}(\\boldsymbol{y} \\mid \\boldsymbol{x},m,k) = \\mathcal{N}( \\boldsymbol{m},K),\n",
    "$$"
   ]
  },
  {
   "cell_type": "markdown",
   "metadata": {
    "hideCode": false,
    "hidePrompt": false,
    "slideshow": {
     "slide_type": "fragment"
    }
   },
   "source": [
    "where $\\boldsymbol{m}=m(\\boldsymbol{x})$ is the *mean vector*,"
   ]
  },
  {
   "cell_type": "markdown",
   "metadata": {
    "hideCode": false,
    "hidePrompt": false,
    "slideshow": {
     "slide_type": "fragment"
    }
   },
   "source": [
    "and $K$ is the *covariance matrix*, with elements $K_{ij} = k(x_i,x_j)$."
   ]
  },
  {
   "cell_type": "markdown",
   "metadata": {
    "hideCode": false,
    "hidePrompt": false,
    "slideshow": {
     "slide_type": "subslide"
    }
   },
   "source": [
    "## Test and training sets\n",
    "\n",
    "Suppose we have an (observed) *training set* $(\\boldsymbol{x},\\boldsymbol{y})$. \n",
    "\n",
    "We are interested in some other *test set* of inputs $\\boldsymbol{x}_*$."
   ]
  },
  {
   "cell_type": "markdown",
   "metadata": {
    "hideCode": false,
    "hidePrompt": false,
    "slideshow": {
     "slide_type": "fragment"
    }
   },
   "source": [
    "The joint distribution over the training and test sets is\n",
    "$$\n",
    "\\mathrm{p} \\left( \\left[ \\begin{array}{l} \\boldsymbol{y} \\\\ \\boldsymbol{y}_* \\end{array} \\right] \\right) \n",
    "= \\mathcal{N} \\left( \\left[ \\begin{array}{l} \\boldsymbol{m} \\\\ \\boldsymbol{m}_* \\end{array} \\right], \n",
    "\\left[ \\begin{array}{ll} K & K_* \\\\ K_*^T & K_{**} \\end{array} \\right] \\right),\n",
    "$$"
   ]
  },
  {
   "cell_type": "markdown",
   "metadata": {
    "hideCode": false,
    "hidePrompt": false,
    "slideshow": {
     "slide_type": "fragment"
    }
   },
   "source": [
    "where $\\boldsymbol{m}_* = m(\\boldsymbol{x}_*)$, $K_{**,ij} = k(x_{*,i},x_{*,j})$ and $K_{*,ij} = k(x_i,x_{*,j})$. "
   ]
  },
  {
   "cell_type": "markdown",
   "metadata": {
    "hideCode": false,
    "hidePrompt": false,
    "slideshow": {
     "slide_type": "fragment"
    }
   },
   "source": [
    "For simplicity, assume the mean function is zero everywhere: $\\boldsymbol{m}=\\boldsymbol{0}$. We will consider to non-trivial mean functions later."
   ]
  },
  {
   "cell_type": "markdown",
   "metadata": {
    "hideCode": false,
    "hidePrompt": false,
    "slideshow": {
     "slide_type": "subslide"
    }
   },
   "source": [
    "## The conditional distribution\n",
    "\n",
    "The *conditional distribution* for the test set given the training set is:\n",
    "$$ \n",
    "\\mathrm{p} ( \\boldsymbol{y}_* \\mid \\boldsymbol{y},k) = \\mathcal{N} ( \n",
    "K_*^T K^{-1} \\boldsymbol{y}, K_{**} - K_*^T K^{-1} K_* ).\n",
    "$$"
   ]
  },
  {
   "cell_type": "markdown",
   "metadata": {
    "hideCode": false,
    "hidePrompt": false,
    "slideshow": {
     "slide_type": "fragment"
    }
   },
   "source": [
    "This is also known as the *predictive distribution*, because it can be use to predict future (or past) observations. "
   ]
  },
  {
   "cell_type": "markdown",
   "metadata": {
    "hideCode": false,
    "hidePrompt": false,
    "slideshow": {
     "slide_type": "fragment"
    }
   },
   "source": [
    "More generally, it can be used for *interpolating* the observations to any desired set of inputs. "
   ]
  },
  {
   "cell_type": "markdown",
   "metadata": {
    "hideCode": false,
    "hidePrompt": false,
    "slideshow": {
     "slide_type": "fragment"
    }
   },
   "source": [
    "This is one of the most widespread applications of GPs in some fields (e.g. kriging in geology, economic forecasting, ...)"
   ]
  },
  {
   "cell_type": "markdown",
   "metadata": {
    "hideCode": false,
    "hidePrompt": false,
    "slideshow": {
     "slide_type": "subslide"
    }
   },
   "source": [
    "## Adding white noise\n",
    "\n",
    "Real observations always contain a component of *white noise*, which we need to account for, but don't necessarily want to include in the predictions. "
   ]
  },
  {
   "cell_type": "markdown",
   "metadata": {
    "hideCode": false,
    "hidePrompt": false,
    "slideshow": {
     "slide_type": "fragment"
    }
   },
   "source": [
    "If the white noise variance $\\sigma^2$ is constant, we can write \n",
    "$$\n",
    "\\mathrm{cov}(y_i,y_j)=k(x_i,x_j)+\\delta_{ij} \\sigma^2,\n",
    "$$"
   ]
  },
  {
   "cell_type": "markdown",
   "metadata": {
    "hideCode": false,
    "hidePrompt": false,
    "slideshow": {
     "slide_type": "fragment"
    }
   },
   "source": [
    "and the conditional distribution becomes\n",
    "$$ \n",
    "\\mathrm{p} ( \\boldsymbol{y}_* \\mid \\boldsymbol{y},k) = \\mathcal{N} ( \n",
    "K_*^T (K + \\sigma^2 \\mathbb{I})^{-1} \\boldsymbol{y}, K_{**} - K_*^T (K + \\sigma^2 \\mathbb{I})^{-1} K_* ).\n",
    "$$"
   ]
  },
  {
   "cell_type": "markdown",
   "metadata": {
    "slideshow": {
     "slide_type": "fragment"
    }
   },
   "source": [
    "In real life, we may need to learn $\\sigma$ from the data, alongside the other contribution to the covariance matrix."
   ]
  },
  {
   "cell_type": "markdown",
   "metadata": {
    "slideshow": {
     "slide_type": "fragment"
    }
   },
   "source": [
    "We assumed constant white noise, but it's trivial to allow for different $\\sigma$ for each data point."
   ]
  },
  {
   "cell_type": "markdown",
   "metadata": {
    "hideCode": false,
    "hidePrompt": false,
    "slideshow": {
     "slide_type": "subslide"
    }
   },
   "source": [
    "## Single-point prediction\n",
    "\n",
    "Let us look more closely at the predictive distribution for a single test point $x_*$."
   ]
  },
  {
   "cell_type": "markdown",
   "metadata": {
    "hideCode": false,
    "hidePrompt": false,
    "slideshow": {
     "slide_type": "fragment"
    }
   },
   "source": [
    "It is a Gaussian with mean\n",
    "$$\n",
    "\\overline{y}_* = \\boldsymbol{k}_*^T (K + \\sigma^2 \\mathbb{I})^{-1} \\boldsymbol{y}\n",
    "$$\n",
    "and variance\n",
    "$$\n",
    "\\mathbb{V}[y_*] = k(x_*,x_*) - \\boldsymbol{k}_*^T (K + \\sigma^2 \\mathbb{I})^{-1} \\boldsymbol{k}_*,\n",
    "$$\n",
    "where $\\boldsymbol{k}_*$ is the vector of covariances between the test point and the training points."
   ]
  },
  {
   "cell_type": "markdown",
   "metadata": {
    "hideCode": false,
    "hidePrompt": false,
    "slideshow": {
     "slide_type": "subslide"
    }
   },
   "source": [
    "Notice the mean is a linear combination of the observations: the GP is a *linear predictor*."
   ]
  },
  {
   "cell_type": "markdown",
   "metadata": {
    "hideCode": false,
    "hidePrompt": false,
    "slideshow": {
     "slide_type": "fragment"
    }
   },
   "source": [
    "It is also a linear combination of covariance functions, each centred on a training point:\n",
    "$$\n",
    "\\overline{y}_* = \\sum_{i=1}^N \\alpha_i k(x_i,x_*),\n",
    "$$\n",
    "where $\\alpha_i = (K + \\sigma^2 \\mathbb{I})^{-1} y_i$."
   ]
  },
  {
   "cell_type": "markdown",
   "metadata": {
    "slideshow": {
     "slide_type": "subslide"
    }
   },
   "source": [
    "## The likelihood\n",
    "\n",
    "The *likelihood* of the data under the GP model is simply:\n",
    "$$\n",
    "\\mathrm{p}(\\boldsymbol{y} \\,|\\, \\boldsymbol{x}) = \\mathcal{N}(\\boldsymbol{y} \\, | \\, \\boldsymbol{0},K + \\sigma^2 \\mathbb{I}).\n",
    "$$\n",
    "\n",
    "This is a measure of how well the model explains, or predicts, the training set."
   ]
  },
  {
   "cell_type": "markdown",
   "metadata": {
    "slideshow": {
     "slide_type": "fragment"
    }
   },
   "source": [
    "In some textbooks this is referred to as the *marginal likelihood*. \n",
    "\n",
    "This arises if one considers the observed $\\boldsymbol{y}$ as noisy realisations of a latent (unobserved) Gaussian process $\\boldsymbol{f}$."
   ]
  },
  {
   "cell_type": "markdown",
   "metadata": {
    "slideshow": {
     "slide_type": "subslide"
    }
   },
   "source": [
    "The term *marginal* refers to marginalisation over the function values $\\boldsymbol{f}$:\n",
    "$$\n",
    "\\mathrm{p}(\\boldsymbol{y} \\,|\\, \\boldsymbol{x}) = \\int \\mathrm{p}(\\boldsymbol{y} \\,|\\, \\boldsymbol{f},\\boldsymbol{x}) \\, \\mathrm{p}(\\boldsymbol{f} \\,|\\, \\boldsymbol{x}) \\, \\mathrm{d}\\boldsymbol{f},\n",
    "$$\n",
    "where \n",
    "$$\n",
    "\\mathrm{p}(\\boldsymbol{f} \\,|\\, \\boldsymbol{x}) = \\mathcal{N}(\\boldsymbol{f} \\, | \\, \\boldsymbol{0},K)\n",
    "$$\n",
    "is the *prior*, and \n",
    "$$\n",
    "\\mathrm{p}(\\boldsymbol{y} \\,|\\, \\boldsymbol{f},\\boldsymbol{x}) = \\mathcal{N}(\\boldsymbol{y} \\, | \\, \\boldsymbol{0},\\sigma^2 \\mathbb{I})\n",
    "$$\n",
    "is the *likelihood*."
   ]
  },
  {
   "cell_type": "markdown",
   "metadata": {
    "slideshow": {
     "slide_type": "subslide"
    }
   },
   "source": [
    "## Parameters and hyper-parameters \n",
    "\n",
    "The parameters of the covariance and mean function as known as the *hyper-parameters* of the GP. "
   ]
  },
  {
   "cell_type": "markdown",
   "metadata": {
    "slideshow": {
     "slide_type": "fragment"
    }
   },
   "source": [
    "This is because the actual *parameters* of the model are the function values, $\\boldsymbol{f}$, but we never explicitly deal with them: they are always marginalised over."
   ]
  },
  {
   "cell_type": "markdown",
   "metadata": {
    "slideshow": {
     "slide_type": "slide"
    }
   },
   "source": [
    "## *Conditioning* the GP...\n",
    "\n",
    "...means evaluating the conditional (or predictive) distribution for a given covariance matrix (i.e. covariance function and hyper-parameters), and training set."
   ]
  },
  {
   "cell_type": "markdown",
   "metadata": {
    "slideshow": {
     "slide_type": "fragment"
    }
   },
   "source": [
    "## *Training* the GP...\n",
    "\n",
    "...means maximising the *likelihood* of the model with respect to the hyper-parameters."
   ]
  },
  {
   "cell_type": "markdown",
   "metadata": {
    "slideshow": {
     "slide_type": "slide"
    }
   },
   "source": [
    "## The kernel trick\n",
    "\n",
    "Consider a linear basis model with arbitrarily many *basis functions*, or *features*, $\\Phi(x)$, and a (Gaussian) prior $\\Sigma_{\\mathrm{p}}$ over the basis function weights. "
   ]
  },
  {
   "cell_type": "markdown",
   "metadata": {
    "slideshow": {
     "slide_type": "fragment"
    }
   },
   "source": [
    "One ends up with exactly the same expressions for the predictive distribution and the likelihood so long as:\n",
    "$$\n",
    "k(\\boldsymbol{x},\\boldsymbol{x'}) = \\Phi(\\boldsymbol{x})^{\\mathrm{T}} \\Sigma_{\\mathrm{p}} \\Phi(\\boldsymbol{x'}),\n",
    "$$\n",
    "or, writing $\\Psi(\\boldsymbol{x}) = \\Sigma_{\\mathrm{p}}^{1/2} \\Phi(\\boldsymbol{x})$,\n",
    "$$\n",
    "k(\\boldsymbol{x},\\boldsymbol{x'}) = \\Psi(\\boldsymbol{x}) \\cdot \\Psi(\\boldsymbol{x'}),\n",
    "$$"
   ]
  },
  {
   "cell_type": "markdown",
   "metadata": {
    "hideCode": false,
    "hidePrompt": false,
    "slideshow": {
     "slide_type": "fragment"
    }
   },
   "source": [
    "Thus the covariance function $k$ enables us to go from a (finite) *input space* to a (potentially infinite) *feature space*. This is known as the *kernel trick* and the covariance function is often referred to as the *kernel*."
   ]
  },
  {
   "cell_type": "markdown",
   "metadata": {
    "slideshow": {
     "slide_type": "slide"
    }
   },
   "source": [
    "## Non-zero mean functions\n",
    "\n",
    "In general (and in astronomy applications in particular) we often want to use non-trivial mean functions.\n",
    "\n",
    "To do this simply replace $\\boldsymbol{y}$ by $\\boldsymbol{r}=\\boldsymbol{y}-\\boldsymbol{m}$ in the expressions for predictive distribution and likelihood."
   ]
  },
  {
   "cell_type": "markdown",
   "metadata": {
    "slideshow": {
     "slide_type": "fragment"
    }
   },
   "source": [
    "The mean function represents the *deterministic* component of the model\n",
    "- e.g.: a linear trend, a Keplerian orbit, a planetary transit, ..."
   ]
  },
  {
   "cell_type": "markdown",
   "metadata": {
    "hideCode": false,
    "hidePrompt": false,
    "slideshow": {
     "slide_type": "fragment"
    }
   },
   "source": [
    "The covariance function encodes the *stochastic* component. \n",
    "- e.g.: instrumental noise, stellar variability"
   ]
  },
  {
   "cell_type": "markdown",
   "metadata": {
    "slideshow": {
     "slide_type": "slide"
    }
   },
   "source": [
    "## Covariance functions\n",
    "\n",
    "The only requirement for the covariance function is that it should return a positive semi-definite covariance matrix.\n",
    "\n",
    "The simplest covariance functions have two parameters: one input and one output variance (or scale). The form of the covariance function controls the degree of smoothness."
   ]
  },
  {
   "cell_type": "markdown",
   "metadata": {
    "hideCode": false,
    "hidePrompt": false,
    "slideshow": {
     "slide_type": "subslide"
    }
   },
   "source": [
    "### The squared exponential\n",
    "\n",
    "The simplest, most widely used kernel is the squared exponential:\n",
    "$$\n",
    "k_{\\rm SE}(x,x') = A \\exp \\left[ - \\Gamma (x-x')^2 \\right].\n",
    "$$\n",
    "This gives rise to *smooth* functions with variance $A$ and inverse scale (characteristic length scale) $A$ and output scale (amplitude) $l$."
   ]
  },
  {
   "cell_type": "code",
   "execution_count": 21,
   "metadata": {
    "collapsed": true,
    "hide_input": false,
    "slideshow": {
     "slide_type": "skip"
    }
   },
   "outputs": [],
   "source": [
    "def kernel_SE(X1,X2,par):\n",
    "    p0 = 10.0**par[0]\n",
    "    p1 = 10.0**par[1]\n",
    "    D2 = cdist(X1,X2,'sqeuclidean')\n",
    "    K = p0 * np.exp(- p1 * D2)\n",
    "    return np.matrix(K)\n",
    "def kernel_Mat32(X1,X2,par):\n",
    "    p0 = 10.0**par[0]\n",
    "    p1 = 10.0**par[1]\n",
    "    DD = cdist(X1, X2, 'euclidean')\n",
    "    arg = np.sqrt(3) * abs(DD) / p1\n",
    "    K = p0 * (1 + arg) * np.exp(- arg)\n",
    "    return np.matrix(K)\n",
    "def kernel_RQ(X1,X2,par):\n",
    "    p0 = 10.0**par[0]\n",
    "    p1 = 10.0**par[1]\n",
    "    alpha = par[2]\n",
    "    D2 = cdist(X1, X2, 'sqeuclidean')\n",
    "    K = p0 * (1 + D2 / (2*alpha*p1))**(-alpha)\n",
    "    return np.matrix(K)\n",
    "def kernel_Per(X1,X2,par):\n",
    "    p0 = 10.0**par[0]\n",
    "    p1 = 10.0**par[1]\n",
    "    period = par[2]\n",
    "    DD = cdist(X1, X2, 'euclidean')\n",
    "    K = p0 * np.exp(- p1*(np.sin(np.pi * DD / period))**2) \n",
    "    return np.matrix(K)\n",
    "def kernel_QP(X1,X2,par):\n",
    "    p0 = 10.0**par[0]\n",
    "    p1 = 10.0**par[1]\n",
    "    period = par[2]\n",
    "    p3 = 10.0**par[3]\n",
    "    DD = cdist(X1, X2, 'euclidean')\n",
    "    D2 = cdist(X1, X2, 'sqeuclidean')\n",
    "    K = p0 * np.exp(- p1*(np.sin(np.pi * DD / period))**2 - p3 * D2)\n",
    "    return np.matrix(K)\n",
    "def add_wn(K,lsig):\n",
    "    sigma=10.0**lsig\n",
    "    N = K.shape[0]\n",
    "    return K + sigma**2 * np.identity(N)\n",
    "def get_kernel(name):\n",
    "    if name == 'SE': return kernel_SE\n",
    "    elif name == 'RQ': return kernel_RQ\n",
    "    elif name == 'M32': return kernel_Mat32\n",
    "    elif name == 'Per': return kernel_Per\n",
    "    elif name == 'QP': return kernel_QP\n",
    "    else: \n",
    "        print 'No kernel called %s - using SE' % name\n",
    "        return kernel_SE"
   ]
  },
  {
   "cell_type": "code",
   "execution_count": 22,
   "metadata": {
    "hideCode": false,
    "hidePrompt": false,
    "hide_input": true,
    "slideshow": {
     "slide_type": "subslide"
    }
   },
   "outputs": [
    {
     "data": {
      "application/vnd.jupyter.widget-view+json": {
       "model_id": "1e53c32208184afe80defcf474b92c57",
       "version_major": 2,
       "version_minor": 0
      },
      "text/plain": [
       "A Jupyter Widget"
      ]
     },
     "metadata": {},
     "output_type": "display_data"
    }
   ],
   "source": [
    "def pltsamples1(par0=0.0, par1=0.0, wn = 0.0):\n",
    "    x = np.r_[-5:5:201j]\n",
    "    X = np.matrix([x]).T # scipy.spatial.distance expects matrices\n",
    "    kernel = get_kernel('SE')\n",
    "    K = kernel(X,X,[par0,par1])\n",
    "    K = add_wn(K,wn)\n",
    "    fig=pl.figure(figsize=(10,4))\n",
    "    ax1 = pl.subplot2grid((1,3), (0, 0), aspect='equal')\n",
    "    pl.imshow(np.sqrt(K),interpolation='nearest',vmin=0,vmax=10)\n",
    "    pl.title('Covariance matrix')\n",
    "    ax2 = pl.subplot2grid((1,3), (0,1),colspan=2)\n",
    "    np.random.seed(0)\n",
    "    for i in range(3):\n",
    "        y = np.random.multivariate_normal(np.zeros(len(x)),K)\n",
    "        pl.plot(x,y-i*2)\n",
    "    pl.xlim(-5,5)\n",
    "    pl.ylim(-8,5)\n",
    "    pl.xlabel('x')\n",
    "    pl.ylabel('y')\n",
    "    pl.title('Samples from %s prior' % 'SE')\n",
    "    pl.tight_layout()\n",
    "\n",
    "interact(pltsamples1, \n",
    "         par0=widgets.FloatSlider(min=-1,max=1,step=0.5,description=r'$\\log_{10} A$',value=0),\n",
    "         par1=widgets.FloatSlider(min=-1,max=1,step=0.5,description=r'$\\log_{10} \\Gamma$',value=0),\n",
    "         wn=widgets.FloatSlider(min=-2,max=0,step=1,description=r'$\\log_{10} \\sigma$',value=-2)\n",
    "        );"
   ]
  },
  {
   "cell_type": "markdown",
   "metadata": {
    "hide_input": true,
    "slideshow": {
     "slide_type": "subslide"
    }
   },
   "source": [
    "### The Matern family\n",
    "\n",
    "The Matern 3/2 kernel\n",
    "$$\n",
    "k_{3/2}(x,x')= A \\left( 1 + \\frac{\\sqrt{3}r}{l} \\right) \\exp \\left( - \\frac{\\sqrt{3}r}{l} \\right),\n",
    "$$\n",
    "where $r =|x-x'|$."
   ]
  },
  {
   "cell_type": "markdown",
   "metadata": {
    "slideshow": {
     "slide_type": "fragment"
    }
   },
   "source": [
    "It produces somewhat rougher behaviour, because it is only differentiable once w.r.t. $r$ (whereas the SE kernel is infinitely differentiable). There is a whole family of Matern kernels with varying degrees of roughness."
   ]
  },
  {
   "cell_type": "markdown",
   "metadata": {
    "slideshow": {
     "slide_type": "subslide"
    }
   },
   "source": [
    "## The rational quadratic kernel \n",
    "\n",
    "is equivalent to a squared exponential with a powerlaw distribution of input scales\n",
    "$$\n",
    "k_{\\rm RQ}(x,x') = A^2 \\left(1 + \\frac{r^2}{2 \\alpha l} \\right)^{-\\alpha},\n",
    "$$\n",
    "where $\\alpha$ is the index of the power law. \n",
    "\n",
    "This is useful to model data containing variations on a range of timescales with just one extra parameter."
   ]
  },
  {
   "cell_type": "code",
   "execution_count": 23,
   "metadata": {
    "hideCode": false,
    "hidePrompt": false,
    "hide_input": true,
    "slideshow": {
     "slide_type": "subslide"
    }
   },
   "outputs": [
    {
     "data": {
      "application/vnd.jupyter.widget-view+json": {
       "model_id": "c54c7bd19d4d4d74a32f947fbf479d11",
       "version_major": 2,
       "version_minor": 0
      },
      "text/plain": [
       "A Jupyter Widget"
      ]
     },
     "metadata": {},
     "output_type": "display_data"
    }
   ],
   "source": [
    "# Function to plot samples from kernel\n",
    "def pltsamples2(par2=0.5, kernel_shortname='SE'):\n",
    "    x = np.r_[-5:5:201j]\n",
    "    X = np.matrix([x]).T # scipy.spatial.distance expects matrices\n",
    "    kernel = get_kernel(kernel_shortname)\n",
    "    K = kernel(X,X,[0.0,0.0,par2])\n",
    "    fig=pl.figure(figsize=(10,4))\n",
    "    ax1 = pl.subplot2grid((1,3), (0, 0), aspect='equal')\n",
    "    pl.imshow(np.sqrt(K),interpolation='nearest',vmin=0,vmax=10)\n",
    "    pl.title('Covariance matrix')\n",
    "    ax2 = pl.subplot2grid((1,3), (0,1),colspan=2)\n",
    "    np.random.seed(0)\n",
    "    for i in range(3):\n",
    "        y = np.random.multivariate_normal(np.zeros(len(x)),K)\n",
    "        pl.plot(x,y-i*2)\n",
    "    pl.xlim(-5,5)\n",
    "    pl.ylim(-8,5)\n",
    "    pl.xlabel('x')\n",
    "    pl.ylabel('y')\n",
    "    pl.title('Samples from %s prior' % kernel_shortname)\n",
    "    pl.tight_layout()\n",
    "interact(pltsamples2, \n",
    "         par2=widgets.FloatSlider(min=0.25,max=1,step=0.25,description=r'$\\alpha$',value=0.5),\n",
    "         kernel_shortname=widgets.RadioButtons(options=['SE','M32','RQ'], value='SE',description='kernel')\n",
    "        );"
   ]
  },
  {
   "cell_type": "markdown",
   "metadata": {
    "hide_input": true,
    "slideshow": {
     "slide_type": "subslide"
    }
   },
   "source": [
    "## Periodic kernels...\n",
    "\n",
    "...can be constructed by replacing $r$ in any of the above by a periodic function of $r$. For example, the cosine kernel:\n",
    "$$\n",
    "k_{\\cos}(x,x') = A \\cos\\left(\\frac{2\\pi r}{P}\\right),\n",
    "$$\n",
    "[which follows the dynamics of a simple harmonic oscillator], or..."
   ]
  },
  {
   "cell_type": "markdown",
   "metadata": {
    "hideCode": false,
    "hidePrompt": false,
    "slideshow": {
     "slide_type": "fragment"
    }
   },
   "source": [
    "...the \"exponential sine squared\" kernel, obtained by mapping the 1-D variable $x$ to the 2-D variable $\\mathbf{u}(x)=(\\cos(x),\\sin(x))$, and then applying a squared exponential in $\\boldsymbol{u}$-space:\n",
    "$$\n",
    "k_{\\sin^2 {\\rm SE}}(x,x') = A \\exp \\left[ -\\Gamma \\sin^2\\left(\\frac{\\pi r}{P}\\right) \\right],\n",
    "$$\n",
    "which allows for non-harmonic functions."
   ]
  },
  {
   "cell_type": "code",
   "execution_count": 24,
   "metadata": {
    "hideCode": false,
    "hidePrompt": false,
    "hide_input": true,
    "slideshow": {
     "slide_type": "subslide"
    }
   },
   "outputs": [
    {
     "data": {
      "application/vnd.jupyter.widget-view+json": {
       "model_id": "7415518509f44fb0a090bf6308492e70",
       "version_major": 2,
       "version_minor": 0
      },
      "text/plain": [
       "A Jupyter Widget"
      ]
     },
     "metadata": {},
     "output_type": "display_data"
    }
   ],
   "source": [
    "# Function to plot samples from kernel\n",
    "def pltsamples3(par2=2.0, par3=2.0,kernel_shortname='Per'):\n",
    "    x = np.r_[-5:5:201j]\n",
    "    X = np.matrix([x]).T # scipy.spatial.distance expects matrices\n",
    "    kernel = get_kernel(kernel_shortname)\n",
    "    K = kernel(X,X,[0.0,0.0,par2,par3])\n",
    "    fig=pl.figure(figsize=(10,4))\n",
    "    ax1 = pl.subplot2grid((1,3), (0, 0), aspect='equal')\n",
    "    pl.imshow(np.sqrt(K),interpolation='nearest',vmin=0,vmax=10)\n",
    "    pl.title('Covariance matrix')\n",
    "    ax2 = pl.subplot2grid((1,3), (0,1),colspan=2)\n",
    "    np.random.seed(0)\n",
    "    for i in range(3):\n",
    "        y = np.random.multivariate_normal(np.zeros(len(x)),K)\n",
    "        pl.plot(x,y-i*2)\n",
    "    pl.xlim(-5,5)\n",
    "    pl.ylim(-8,5)\n",
    "    pl.xlabel('x')\n",
    "    pl.ylabel('y')\n",
    "    pl.title('Samples from %s prior' % kernel_shortname)\n",
    "    pl.tight_layout()\n",
    "interact(pltsamples3, \n",
    "         par2=widgets.FloatSlider(min=1,max=3,step=1,description=r'$P$',value=2),\n",
    "         par3=widgets.FloatSlider(min=-2,max=0,step=1,description=r'$\\log\\Gamma_2$',value=-1),\n",
    "         kernel_shortname=widgets.RadioButtons(options=['Per','QP'], value='QP',description='kernel')\n",
    "        );"
   ]
  },
  {
   "cell_type": "markdown",
   "metadata": {
    "slideshow": {
     "slide_type": "subslide"
    }
   },
   "source": [
    "## Combining kernels\n",
    "\n",
    "Any *affine tranform*, sum or product of valid kernels is a valid kernel."
   ]
  },
  {
   "cell_type": "markdown",
   "metadata": {
    "collapsed": true,
    "slideshow": {
     "slide_type": "fragment"
    }
   },
   "source": [
    "For example, a quasi-periodic kernel can be constructed by multiplying a periodic kernel with a non-periodic one. The following is frequently used to model stellar light curves:\n",
    "$$\n",
    "k_{\\mathrm{QP}}(x,x') = A \\exp \\left[  -\\Gamma_1 \\sin^2\\left(\\frac{\\pi r}{P}\\right)   -\\Gamma_2 r^2 \\right].\n",
    "$$"
   ]
  },
  {
   "cell_type": "markdown",
   "metadata": {
    "hideCode": false,
    "hidePrompt": false,
    "slideshow": {
     "slide_type": "subslide"
    }
   },
   "source": [
    "## Example: Mauna Kea CO$_2$ dataset\n",
    "\n",
    "(From Rasmussen & Williams textbook)\n",
    "\n",
    "<img height=\"700\" src=\"images/RW_mauna_kea.png\">"
   ]
  },
  {
   "cell_type": "markdown",
   "metadata": {
    "slideshow": {
     "slide_type": "slide"
    }
   },
   "source": [
    "### 2 or more dimensions\n",
    "\n",
    "So far we assumed the inputs were 1-D but that doesn't have to be the case. For example, the SE kernel can be extended to D dimensions..."
   ]
  },
  {
   "cell_type": "markdown",
   "metadata": {
    "slideshow": {
     "slide_type": "fragment"
    }
   },
   "source": [
    "using a single length scale, giving the *Radial Basis Function* (RBF) kernel:\n",
    "$$\n",
    "k_{\\rm RBF}(\\mathbf{x},\\mathbf{x'}) = A \\exp \\left[ - \\Gamma \\sum_{j=1}^{D}(x_j-x'_j)^2 \\right],\n",
    "$$\n",
    "where $\\mathbf{x}=(x_1,x_2,\\ldots, x_j,\\ldots,x_D)^{\\mathrm{T}}$ represents a single, multi-dimensional input."
   ]
  },
  {
   "cell_type": "markdown",
   "metadata": {
    "hideCode": false,
    "hidePrompt": false,
    "slideshow": {
     "slide_type": "fragment"
    }
   },
   "source": [
    "or using separate length scales for each dimension, giving the *Automatic Relevance Determination* (ARD) kernel:\n",
    "$$\n",
    "k_{\\rm ARD}(\\mathbf{x},\\mathbf{x'}) = A \\exp \\left[ - \\sum_{j=1}^{D} \\Gamma_j (x_j-x'_j)^2 \\right].\n",
    "$$"
   ]
  },
  {
   "cell_type": "code",
   "execution_count": 25,
   "metadata": {
    "collapsed": true,
    "slideshow": {
     "slide_type": "skip"
    }
   },
   "outputs": [],
   "source": [
    "import george\n",
    "x2d, y2d = np.mgrid[-3:3:0.1,-3:3:0.1]\n",
    "x = x2d.ravel()\n",
    "y = y2d.ravel()\n",
    "N = len(x)\n",
    "X = np.zeros((N,2))\n",
    "X[:,0] = x\n",
    "X[:,1] = y"
   ]
  },
  {
   "cell_type": "code",
   "execution_count": 26,
   "metadata": {
    "collapsed": true,
    "slideshow": {
     "slide_type": "skip"
    }
   },
   "outputs": [],
   "source": [
    "k1 = george.kernels.ExpSquaredKernel(1.0,ndim=2)\n",
    "s1 = george.GP(k1).sample(X).reshape(x2d.shape)"
   ]
  },
  {
   "cell_type": "code",
   "execution_count": 27,
   "metadata": {
    "collapsed": true,
    "hide_input": true,
    "slideshow": {
     "slide_type": "subslide"
    }
   },
   "outputs": [],
   "source": [
    "k2 = george.kernels.ExpSquaredKernel(1.0,ndim=2,axes=1) + george.kernels.ExpSquaredKernel(0.2,ndim=2,axes=0)\n",
    "s2 = george.GP(k2).sample(X).reshape(x2d.shape)"
   ]
  },
  {
   "cell_type": "code",
   "execution_count": 28,
   "metadata": {
    "hide_input": true
   },
   "outputs": [
    {
     "data": {
      "image/png": "[encoded data removed]",
      "text/plain": [
       "<matplotlib.figure.Figure at 0x10f2a2610>"
      ]
     },
     "metadata": {},
     "output_type": "display_data"
    }
   ],
   "source": [
    "pl.figure(figsize=(10,5))\n",
    "pl.subplot(121)\n",
    "pl.contourf(x2d,y2d,s1)\n",
    "pl.xlim(x.min(),x.max())\n",
    "pl.ylim(y.min(),y.max())\n",
    "pl.xlabel(r'$x$')\n",
    "pl.ylabel(r'$y$')\n",
    "pl.title('RBF')\n",
    "pl.subplot(122)\n",
    "pl.contourf(x2d,y2d,s2)\n",
    "pl.xlim(x.min(),x.max())\n",
    "pl.ylim(y.min(),y.max())\n",
    "pl.xlabel(r'$x$')\n",
    "pl.title('ARD');"
   ]
  },
  {
   "cell_type": "code",
   "execution_count": 29,
   "metadata": {
    "hideCode": false,
    "hidePrompt": false,
    "hide_input": true,
    "slideshow": {
     "slide_type": "subslide"
    }
   },
   "outputs": [
    {
     "data": {
      "application/vnd.jupyter.widget-view+json": {
       "model_id": "d7f4c2c84d3c43edbbabd6e0717d75f4",
       "version_major": 2,
       "version_minor": 0
      },
      "text/plain": [
       "A Jupyter Widget"
      ]
     },
     "metadata": {},
     "output_type": "display_data"
    }
   ],
   "source": [
    "# Function to plot samples from kernel\n",
    "def pltsamples3(par2=0.5,par3=0.5, kernel_shortname='SE'):\n",
    "    x = np.r_[-5:5:201j]\n",
    "    X = np.matrix([x]).T # scipy.spatial.distance expects matrices\n",
    "    kernel = get_kernel(kernel_shortname)\n",
    "    K = kernel(X,X,[0.0,0.0,par2,par3])\n",
    "    fig=pl.figure(figsize=(10,4))\n",
    "    ax1 = pl.subplot2grid((1,3), (0, 0), aspect='equal')\n",
    "    pl.imshow(np.sqrt(K),interpolation='nearest',vmin=0,vmax=10)\n",
    "    pl.title('Covariance matrix')\n",
    "    ax2 = pl.subplot2grid((1,3), (0,1),colspan=2)\n",
    "    np.random.seed(0)\n",
    "    for i in range(5):\n",
    "        y = np.random.multivariate_normal(np.zeros(len(x)),K)\n",
    "        pl.plot(x,y)\n",
    "    pl.xlim(-5,5)\n",
    "    pl.ylim(-5,5)\n",
    "    pl.xlabel('x')\n",
    "    pl.ylabel('y')\n",
    "    pl.title('Samples from %s prior' % kernel_shortname)\n",
    "    pl.tight_layout()\n",
    "interact(pltsamples3, \n",
    "         par2=widgets.FloatSlider(min=1,max=3,step=1,description=r'$P$',value=2),\n",
    "         par3=widgets.FloatSlider(min=-2,max=0,step=1,description=r'$\\log_{10}\\Gamma_2$',value=-1.),\n",
    "         kernel_shortname=widgets.RadioButtons(options=['Per','QP'], value='Per',description='kernel')\n",
    "        );"
   ]
  }
 ],
 "metadata": {
  "anaconda-cloud": {},
  "celltoolbar": "Slideshow",
  "hide_code_all_hidden": false,
  "kernelspec": {
   "display_name": "Python 3",
   "language": "python",
   "name": "python3"
  },
  "language_info": {
   "codemirror_mode": {
    "name": "ipython",
    "version": 3
   },
   "file_extension": ".py",
   "mimetype": "text/x-python",
   "name": "python",
   "nbconvert_exporter": "python",
   "pygments_lexer": "ipython3",
   "version": "3.6.2"
  },
  "nbpresent": {
   "slides": {},
   "themes": {
    "default": "a86bdae1-f5f8-41c8-8d03-33324866d981",
    "theme": {
     "72cad74a-f4c5-4868-a59f-a1b18bef32b2": {
      "backgrounds": {
       "backgroundColor": {
        "background-color": "backgroundColor",
        "id": "backgroundColor"
       }
      },
      "id": "72cad74a-f4c5-4868-a59f-a1b18bef32b2",
      "palette": {
       "backgroundColor": {
        "id": "backgroundColor",
        "rgb": [
         0,
         43,
         54
        ]
       },
       "headingColor": {
        "id": "headingColor",
        "rgb": [
         238,
         232,
         213
        ]
       },
       "linkColor": {
        "id": "linkColor",
        "rgb": [
         38,
         139,
         210
        ]
       },
       "mainColor": {
        "id": "mainColor",
        "rgb": [
         147,
         161,
         161
        ]
       }
      },
      "rules": {
       "a": {
        "color": "linkColor"
       },
       "h1": {
        "color": "headingColor",
        "font-family": "Oswald",
        "font-size": 7
       },
       "h2": {
        "color": "headingColor",
        "font-family": "Oswald",
        "font-size": 5
       },
       "h3": {
        "color": "headingColor",
        "font-family": "Oswald",
        "font-size": 3.75
       },
       "h4": {
        "color": "headingColor",
        "font-family": "Oswald",
        "font-size": 3
       },
       "h5": {
        "color": "headingColor",
        "font-family": "Oswald"
       },
       "h6": {
        "color": "headingColor",
        "font-family": "Oswald"
       },
       "h7": {
        "color": "headingColor",
        "font-family": "Oswald"
       },
       "li": {
        "color": "mainColor",
        "font-family": "Lato",
        "font-size": 5
       },
       "p": {
        "color": "mainColor",
        "font-family": "Lato",
        "font-size": 5
       }
      },
      "text-base": {
       "color": "mainColor",
       "font-family": "Lato",
       "font-size": 5
      }
     },
     "a86bdae1-f5f8-41c8-8d03-33324866d981": {
      "backgrounds": {
       "backgroundColor": {
        "background-color": "backgroundColor",
        "id": "backgroundColor"
       }
      },
      "id": "a86bdae1-f5f8-41c8-8d03-33324866d981",
      "palette": {
       "backgroundColor": {
        "id": "backgroundColor",
        "rgb": [
         247,
         251,
         252
        ]
       },
       "headingColor": {
        "id": "headingColor",
        "rgb": [
         51,
         51,
         51
        ]
       },
       "linkColor": {
        "id": "linkColor",
        "rgb": [
         59,
         117,
         158
        ]
       },
       "mainColor": {
        "id": "mainColor",
        "rgb": [
         51,
         51,
         51
        ]
       }
      },
      "rules": {
       "a": {
        "color": "linkColor"
       },
       "h1": {
        "color": "headingColor",
        "font-family": "Quicksand",
        "font-size": 7
       },
       "h2": {
        "color": "headingColor",
        "font-family": "Quicksand",
        "font-size": 5
       },
       "h3": {
        "color": "headingColor",
        "font-family": "Quicksand",
        "font-size": 3.75
       },
       "h4": {
        "color": "headingColor",
        "font-family": "Quicksand",
        "font-size": 3
       },
       "h5": {
        "color": "headingColor",
        "font-family": "Quicksand"
       },
       "h6": {
        "color": "headingColor",
        "font-family": "Quicksand"
       },
       "h7": {
        "color": "headingColor",
        "font-family": "Quicksand"
       },
       "li": {
        "color": "mainColor",
        "font-family": "Open Sans",
        "font-size": 5
       },
       "p": {
        "color": "mainColor",
        "font-family": "Open Sans",
        "font-size": 5
       }
      },
      "text-base": {
       "color": "mainColor",
       "font-family": "Open Sans",
       "font-size": 5
      }
     }
    }
   }
  }
 },
 "nbformat": 4,
 "nbformat_minor": 1
}
