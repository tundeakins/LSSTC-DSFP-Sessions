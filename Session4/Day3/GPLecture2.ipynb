{
 "cells": [
  {
   "cell_type": "code",
   "execution_count": 1,
   "metadata": {
    "collapsed": true,
    "hideCode": false,
    "hidePrompt": false,
    "slideshow": {
     "slide_type": "skip"
    }
   },
   "outputs": [],
   "source": [
    "%matplotlib inline\n",
    "import numpy as np\n",
    "import matplotlib.pyplot as pl"
   ]
  },
  {
   "cell_type": "markdown",
   "metadata": {
    "hideCode": false,
    "hidePrompt": false,
    "slideshow": {
     "slide_type": "slide"
    }
   },
   "source": [
    "# Gaussian process regression \n",
    "\n",
    "## Lecture 2 - GPs in action\n",
    "\n",
    "### Suzanne Aigrain, University of Oxford\n",
    "\n",
    "#### LSST DSFP Session 4, Seattle, Sept 2017"
   ]
  },
  {
   "cell_type": "markdown",
   "metadata": {
    "slideshow": {
     "slide_type": "slide"
    }
   },
   "source": [
    "## When should I use a GP?"
   ]
  },
  {
   "cell_type": "markdown",
   "metadata": {
    "slideshow": {
     "slide_type": "fragment"
    }
   },
   "source": [
    "* to model a signal (of known form) in the presence of correlated noise   \n",
    "  * c.f. transit / eclipse example from Lecture 1"
   ]
  },
  {
   "cell_type": "markdown",
   "metadata": {
    "slideshow": {
     "slide_type": "fragment"
    }
   },
   "source": [
    "* to obtain noise-free estimates of (i.e. emulate) a function without knowing its form\n",
    "  * c.f. photo-$z$ example from Lecture 1"
   ]
  },
  {
   "cell_type": "markdown",
   "metadata": {
    "slideshow": {
     "slide_type": "fragment"
    }
   },
   "source": [
    "* to learn some generic properties of function without specifying its detailed form\n",
    "  * e.g. measuring length scale, or period using a periodic GP"
   ]
  },
  {
   "cell_type": "markdown",
   "metadata": {
    "slideshow": {
     "slide_type": "fragment"
    }
   },
   "source": [
    "* to model a stochastic process we know the dynamics of in detail"
   ]
  },
  {
   "cell_type": "markdown",
   "metadata": {
    "slideshow": {
     "slide_type": "fragment"
    }
   },
   "source": [
    "* ..."
   ]
  },
  {
   "cell_type": "markdown",
   "metadata": {
    "slideshow": {
     "slide_type": "subslide"
    }
   },
   "source": [
    "## How should I use a GP?"
   ]
  },
  {
   "cell_type": "markdown",
   "metadata": {
    "slideshow": {
     "slide_type": "fragment"
    }
   },
   "source": [
    "* chose your kernel with care\n",
    "  * even the most sophisticated Bayesian analysis will only answer the question(s) you ask!"
   ]
  },
  {
   "cell_type": "markdown",
   "metadata": {
    "slideshow": {
     "slide_type": "fragment"
    }
   },
   "source": [
    "* check its predictions are sensible\n",
    "   * cross validation, simulations\n",
    "    "
   ]
  },
  {
   "cell_type": "markdown",
   "metadata": {
    "slideshow": {
     "slide_type": "fragment"
    }
   },
   "source": [
    "* marginalise over the hyper-parameters\n",
    "    * HPs can be very correlated; need flavours of MCMC that can cope with that\n",
    "    "
   ]
  },
  {
   "cell_type": "markdown",
   "metadata": {
    "slideshow": {
     "slide_type": "fragment"
    }
   },
   "source": [
    "* use as much information as you can\n",
    "  * multiple input and outputs\n",
    "    "
   ]
  },
  {
   "cell_type": "markdown",
   "metadata": {
    "slideshow": {
     "slide_type": "fragment"
    }
   },
   "source": [
    "* for large datasets, things will grind to a halt\n",
    "  * use clever tricks and optimized packages: sparse GPs (`GPy`), HODLR (`george`), `celerite`"
   ]
  },
  {
   "cell_type": "markdown",
   "metadata": {
    "slideshow": {
     "slide_type": "slide"
    }
   },
   "source": [
    "## Exoplanet transmission spectra\n",
    "\n",
    "<img src=\"images/transitschematic.png\", width=\"1000\">\n",
    "\n",
    "Systematics due to telescope pointing and temperature variations dominate the planet's atmospheric signal. "
   ]
  },
  {
   "cell_type": "markdown",
   "metadata": {
    "hideCode": false,
    "hidePrompt": false,
    "slideshow": {
     "slide_type": "subslide"
    }
   },
   "source": [
    "<img height=\"768\" src=\"images/Gibson_transit_data.png\">"
   ]
  },
  {
   "cell_type": "markdown",
   "metadata": {
    "slideshow": {
     "slide_type": "subslide"
    }
   },
   "source": [
    "We know measured flux depends on telescope pointing, detector temperature, etc..., but we don't know how.\n",
    "\n",
    "Simple linear basis models: over-fitting and/or over-confidence. Much controversy over the years..."
   ]
  },
  {
   "cell_type": "markdown",
   "metadata": {
    "slideshow": {
     "slide_type": "fragment"
    }
   },
   "source": [
    "GPs offer a principled approach to this problem.\n",
    "\n",
    "See series of papers by Neale Gibson et al.: \n",
    "* [2011](http://adsabs.harvard.edu/abs/2011MNRAS.411.2199G): identifying the problem\n",
    "* [2012a](http://adsabs.harvard.edu/abs/2012MNRAS.419.2683G): introducing the GP method\n",
    "* [2012b](http://adsabs.harvard.edu/abs/2012MNRAS.422..753G): application to HST/WFC3\n",
    "* 2013[a](http://adsabs.harvard.edu/abs/2013MNRAS.428.3680G), [b](http://adsabs.harvard.edu/abs/2013MNRAS.436.2974G): application to Gemini/GMOS\n",
    "* [2014](http://adsabs.harvard.edu/abs/2014MNRAS.445.3401G): testing reliability of parametric and GP models"
   ]
  },
  {
   "cell_type": "markdown",
   "metadata": {
    "slideshow": {
     "slide_type": "slide"
    }
   },
   "source": [
    "## Cross-validation\n",
    "\n",
    "Split data into test and training sets.\n",
    "\n",
    "Use test set to assess predictive performance of model."
   ]
  },
  {
   "cell_type": "markdown",
   "metadata": {
    "hideCode": false,
    "hidePrompt": false,
    "slideshow": {
     "slide_type": "subslide"
    }
   },
   "source": [
    "<img height=\"768\" src=\"images/Gibson_transit_pred.png\">"
   ]
  },
  {
   "cell_type": "markdown",
   "metadata": {
    "slideshow": {
     "slide_type": "slide"
    }
   },
   "source": [
    "## Marginalising over hyper-parameters\n",
    "\n",
    "In astrophysical applications, we are rarely interested in interpolation per se. More frequently, we are interested in (some of) the hyper-parameters, and not in others. "
   ]
  },
  {
   "cell_type": "markdown",
   "metadata": {
    "slideshow": {
     "slide_type": "fragment"
    }
   },
   "source": [
    "For example, in transit spectra, we care only about $R_p/R_*$."
   ]
  },
  {
   "cell_type": "markdown",
   "metadata": {
    "slideshow": {
     "slide_type": "fragment"
    }
   },
   "source": [
    "We need to marginalise over the other hyper-parameters to obtain posterior distributions for the parameters of interest."
   ]
  },
  {
   "cell_type": "markdown",
   "metadata": {
    "hideCode": false,
    "hidePrompt": false,
    "hide_input": true,
    "slideshow": {
     "slide_type": "fragment"
    }
   },
   "source": [
    "GPs are readily incorporated into sampling frameworks such as Markov Chain Monte Carlo (MCMC)."
   ]
  },
  {
   "cell_type": "markdown",
   "metadata": {
    "slideshow": {
     "slide_type": "subslide"
    }
   },
   "source": [
    "## Multiple inputs and automatic relevance determination\n",
    "\n",
    "Kernel:\n",
    "$$\n",
    "k_{\\rm ARD}(\\mathbf{x},\\mathbf{x'}) = A \\exp \\left[ - \\sum_{j=1}^{D} \\eta_j (x_j-x'_j)^2 \\right].\n",
    "$$"
   ]
  },
  {
   "cell_type": "markdown",
   "metadata": {
    "hideCode": false,
    "hidePrompt": false,
    "slideshow": {
     "slide_type": "fragment"
    }
   },
   "source": [
    "Shrinkage (hyper-) priors (Gamma distribution with shape parameter of unity):\n",
    "$$\n",
    "\\mathrm{p}(\\eta) = \\frac{1}{l} \\exp\\left(-\\frac{\\eta}{l}\\right)\n",
    "$$\n",
    "with large $l$ so the prior is uninformative."
   ]
  },
  {
   "cell_type": "markdown",
   "metadata": {
    "hideCode": false,
    "hidePrompt": false,
    "slideshow": {
     "slide_type": "subslide"
    }
   },
   "source": [
    "<img height=\"400\" src=\"images/Gibson_MCMC.png\">"
   ]
  },
  {
   "cell_type": "markdown",
   "metadata": {
    "hideCode": false,
    "hidePrompt": false,
    "slideshow": {
     "slide_type": "subslide"
    }
   },
   "source": [
    "<img src=\"images/Gibson_transit_spectrum.png\">"
   ]
  },
  {
   "cell_type": "markdown",
   "metadata": {
    "slideshow": {
     "slide_type": "slide"
    }
   },
   "source": [
    "## The colour of an exoplanet \n",
    "\n",
    "<img src=\"images/transitschematic.png\", width=\"1000\">\n",
    "\n",
    "* Evans et al. (2013): *[The Deep Blue Color of HD 189733b: Albedo Measurements with Hubble Space Telescope/Space Telescope Imaging Spectrograph at Visible Wavelengths](http://adsabs.harvard.edu/abs/2013ApJ...772L..16E)*"
   ]
  },
  {
   "cell_type": "markdown",
   "metadata": {
    "hideCode": false,
    "hidePrompt": false,
    "slideshow": {
     "slide_type": "subslide"
    }
   },
   "source": [
    "<img width=\"1200\" src=\"images/Evans_HST.png\">"
   ]
  },
  {
   "cell_type": "markdown",
   "metadata": {
    "hideCode": false,
    "hidePrompt": false,
    "slideshow": {
     "slide_type": "subslide"
    }
   },
   "source": [
    "<img height=\"768\" src=\"images/Evans_HST_colour.png\">"
   ]
  },
  {
   "cell_type": "markdown",
   "metadata": {
    "slideshow": {
     "slide_type": "slide"
    }
   },
   "source": [
    "## Heteroskedastic white noise\n",
    "\n",
    "* Gibson, Aigrain et al. (2013b) *[The optical transmission spectrum of the hot Jupiter HAT-P-32b: clouds explain the absence of broad spectral features?](http://http://adsabs.harvard.edu/abs/2013MNRAS.436.2974G)*"
   ]
  },
  {
   "cell_type": "markdown",
   "metadata": {
    "hideCode": false,
    "hidePrompt": false,
    "slideshow": {
     "slide_type": "fragment"
    }
   },
   "source": [
    "Varying airmass: $\\sigma = \\sigma_0 + a \\exp\\left[-(t-t_0)/b \\right]$\n",
    "\n",
    "<img width=\"400\" src=\"images/hetske1.png\">"
   ]
  },
  {
   "cell_type": "markdown",
   "metadata": {
    "slideshow": {
     "slide_type": "subslide"
    }
   },
   "source": [
    "## Heteroskedastic white noise\n",
    "\n",
    "* Gibson, Aigrain et al. (2013b) *[The optical transmission spectrum of the hot Jupiter HAT-P-32b: clouds explain the absence of broad spectral features?](http://http://adsabs.harvard.edu/abs/2013MNRAS.436.2974G)*\n",
    "\n",
    "Clouds: step-change in $\\sigma$ at fixed point in time\n",
    "\n",
    "<img width=\"400\" src=\"images/hetske2.png\">"
   ]
  },
  {
   "cell_type": "markdown",
   "metadata": {
    "slideshow": {
     "slide_type": "slide"
    }
   },
   "source": [
    "## Quasi-periodic GP for spotted star light curve\n",
    "\n",
    "$$\n",
    "k_{\\mathrm{QP}}(x,x') = A \\exp \\left[  -\\Gamma_1 \\sin^2\\left(\\frac{\\pi r}{P}\\right)   -\\Gamma_2 r^2 \\right].\n",
    "$$\n",
    "\n",
    "- $k_{\\mathrm{QP}} > 0$ for $r=(n+0.5) P$, allowing non-harmonic behaviour\n",
    "- only 4 parameters."
   ]
  },
  {
   "cell_type": "markdown",
   "metadata": {
    "slideshow": {
     "slide_type": "fragment"
    }
   },
   "source": [
    "C.f. Tutorial 1 challenge problem."
   ]
  },
  {
   "cell_type": "markdown",
   "metadata": {
    "hideCode": false,
    "hidePrompt": false,
    "slideshow": {
     "slide_type": "subslide"
    }
   },
   "source": [
    "Used for:\n",
    "- interpolation ([Sing et al. 2013](http://adsabs.harvard.edu/abs/2011MNRAS.416.1443S), [Knutson et al. 2012](http://adsabs.harvard.edu/abs/2012ApJ...754...22K), [Pont et al. 2013 ](http://adsabs.harvard.edu/abs/2013MNRAS.432.2917P))\n",
    "- smoothing to compute derivatives ([Aigrain et al. 2012](http://adsabs.harvard.edu/abs/2012MNRAS.419.3147A))\n",
    "- estimating $P$ by constructing \"GP periodogram\" ([Angus et al. 2017](https://arxiv.org/pdf/1706.05459.pdf))"
   ]
  },
  {
   "cell_type": "markdown",
   "metadata": {
    "slideshow": {
     "slide_type": "subslide"
    }
   },
   "source": [
    "<img src=\"images/GProt.png\" width=\"600\">"
   ]
  },
  {
   "cell_type": "markdown",
   "metadata": {
    "hideCode": false,
    "hidePrompt": false,
    "slideshow": {
     "slide_type": "subslide"
    }
   },
   "source": [
    "### Interpolating groud-based light curve\n",
    "\n",
    "<img src=\"images/HD189_full.png\">"
   ]
  },
  {
   "cell_type": "markdown",
   "metadata": {
    "hideCode": false,
    "hidePrompt": false,
    "slideshow": {
     "slide_type": "subslide"
    }
   },
   "source": [
    "Helps estimate \"spottiness\" at time of transit observations\n",
    "\n",
    "<img src=\"images/HD189_zoom.png\">"
   ]
  },
  {
   "cell_type": "markdown",
   "metadata": {
    "hideCode": false,
    "hidePrompt": false,
    "slideshow": {
     "slide_type": "subslide"
    }
   },
   "source": [
    "### Cautionary tale 1\n",
    "\n",
    "<img src=\"images/HD189_MOST.png\">"
   ]
  },
  {
   "cell_type": "markdown",
   "metadata": {
    "hideCode": false,
    "hidePrompt": false,
    "slideshow": {
     "slide_type": "subslide"
    }
   },
   "source": [
    "### Cautionary tale 2\n",
    "\n",
    "<img height=\"768\" src=\"images/HD189_MOST_cond.png\">"
   ]
  },
  {
   "cell_type": "markdown",
   "metadata": {
    "slideshow": {
     "slide_type": "slide"
    }
   },
   "source": [
    "## Additive GPs: systematics in K2 data\n",
    "\n",
    "<img src=\"images/K2SC_1.png\" width=\"1000\">"
   ]
  },
  {
   "cell_type": "markdown",
   "metadata": {
    "slideshow": {
     "slide_type": "fragment"
    }
   },
   "source": [
    "Aigrain et al. ([2015](http://adsabs.harvard.edu/abs/2015MNRAS.447.2880A), [2016](http://adsabs.harvard.edu/abs/2016MNRAS.459.2408A))\n",
    "\n",
    "Two-component kernel, to represent intrinsic variability and pointing-related systematics:\n",
    "$$\n",
    "K_{ij} = K{t,ij} + K_{p,ij} = k_t(t_i,t_j) + k_p((x_i,y_i),(x_j,y_j))\n",
    "$$"
   ]
  },
  {
   "cell_type": "markdown",
   "metadata": {
    "slideshow": {
     "slide_type": "fragment"
    }
   },
   "source": [
    "Can separate two components:\n",
    "$$\n",
    "\\begin{array}{rcl}\n",
    "\\overline{f}_{t,*} & = & \\boldsymbol{k}^{\\mathrm{T}}_{t,*} (K + \\sigma^2 \\mathbb{I})^{-1} \\boldsymbol{f} \\\\\n",
    "\\overline{f}_{t,*} & = & \\boldsymbol{k}^{\\mathrm{T}}_{p,*} (K + \\sigma^2 \\mathbb{I})^{-1} \\boldsymbol{f}\n",
    "\\end{array}\n",
    "$$"
   ]
  },
  {
   "cell_type": "markdown",
   "metadata": {
    "hideCode": false,
    "hidePrompt": false,
    "slideshow": {
     "slide_type": "subslide"
    }
   },
   "source": [
    "<img width=\"800\" src=\"images/K2SC_example.png\">"
   ]
  },
  {
   "cell_type": "markdown",
   "metadata": {
    "slideshow": {
     "slide_type": "slide"
    }
   },
   "source": [
    "## Multiple outputs $\\rightarrow$ 2-D inputs\n",
    "\n",
    "Consider two time series $\\boldsymbol{y_1}$ and $\\boldsymbol{y_2}$.\n",
    "\n",
    "We want to model both jointly as realisations of the same process, but with (say) different output scaling and white noise variances."
   ]
  },
  {
   "cell_type": "markdown",
   "metadata": {
    "slideshow": {
     "slide_type": "fragment"
    }
   },
   "source": [
    "Can simply concatenate the two output time-series, and define 2-D input $\\mathbf{x}_i = (t_i,l_i)$, where $t$ is time and $l$ is a label which identifies which subset the observation belongs to.\n",
    "\n",
    "<img src=\"images/multi_output.png\" width=\"400\">"
   ]
  },
  {
   "cell_type": "markdown",
   "metadata": {
    "slideshow": {
     "slide_type": "subslide"
    }
   },
   "source": [
    "### Example: stellar activity in radial velocities\n",
    "\n",
    "Starspots also induce noise in RV searches for planets"
   ]
  },
  {
   "cell_type": "markdown",
   "metadata": {
    "slideshow": {
     "slide_type": "fragment"
    }
   },
   "source": [
    "The RV curve of a spot looks like the time-derivative of its light curve ([Aigrain et al. 2012](http://adsabs.harvard.edu/abs/2012MNRAS.419.3147A))\n",
    "\n",
    "<img src=\"images/FFprime.png\" width=\"500\">"
   ]
  },
  {
   "cell_type": "markdown",
   "metadata": {
    "slideshow": {
     "slide_type": "subslide"
    }
   },
   "source": [
    "[Rajpaul et al. (2015)](http://adsabs.harvard.edu/abs/2015arXiv150607304R): Extend the concept to other (spectral) indicators of activity"
   ]
  },
  {
   "cell_type": "markdown",
   "metadata": {
    "hideCode": false,
    "hidePrompt": false,
    "slideshow": {
     "slide_type": "fragment"
    }
   },
   "source": [
    "<img src=\"images/rajpaul_framework.png\" width=\"600\">"
   ]
  },
  {
   "cell_type": "markdown",
   "metadata": {
    "slideshow": {
     "slide_type": "subslide"
    }
   },
   "source": [
    "### Derivative observations\n",
    "\n",
    "$$\n",
    "\\begin{array}{rcl}\n",
    "y_1(t) & = & A \\, G(t) + B \\, \\dot{G}(t) \\\\\n",
    "y_2(t) & = & C \\, \\dot{G}(t) \\\\\n",
    "y_3(t) & = & D \\, G(t) + E \\, \\dot{G}(t)\n",
    "\\end{array}\n",
    "$$"
   ]
  },
  {
   "cell_type": "markdown",
   "metadata": {
    "slideshow": {
     "slide_type": "fragment"
    }
   },
   "source": [
    "Covariance between observations of $G$ and $\\dot{G}$:\n",
    "$$\n",
    "\\begin{array}{rcl}\n",
    "\\gamma^{(G,dG)}(t_i,t_j) & = & \\frac{\\partial}{\\partial t} \\left. \\gamma^{(G,G)}(t,t_j) \\right|_{(t=t_i)}\\\\\n",
    "\\gamma^{(dG,dG)}(t_i,t_j) & = & \\frac{\\partial}{\\partial t'} \\, \\frac{\\partial}{\\partial t} \\left. \\left. \\gamma^{(G,G)}(t,t') \\right|_{(t=t_i)} \\right|_{(t'=t_j)}\n",
    "\\end{array}\n",
    "$$\n",
    "(Similar expressions exist for integral observations)"
   ]
  },
  {
   "cell_type": "markdown",
   "metadata": {
    "hideCode": false,
    "hidePrompt": false,
    "slideshow": {
     "slide_type": "subslide"
    }
   },
   "source": [
    "<img width=\"600\" src=\"images/rajpaul_SOAP.png\">"
   ]
  },
  {
   "cell_type": "markdown",
   "metadata": {
    "hideCode": false,
    "hidePrompt": false,
    "slideshow": {
     "slide_type": "subslide"
    }
   },
   "source": [
    "<img width=\"600\" src=\"images/rajpaul_aCen.png\">"
   ]
  },
  {
   "cell_type": "markdown",
   "metadata": {
    "slideshow": {
     "slide_type": "slide"
    }
   },
   "source": [
    "## Speeding up GPs\n",
    "\n",
    "GP regression involves inverting the covariance matrix and computing its determinant. \n",
    "\n",
    "This requires $\\mathcal{O}(N^3)$ operations. Impractical for $N \\gtrsim 1000$. \n",
    "\n",
    "For very large $N$, even evaluating $K$ is prohibitive in terms of memory."
   ]
  },
  {
   "cell_type": "markdown",
   "metadata": {
    "slideshow": {
     "slide_type": "fragment"
    }
   },
   "source": [
    "To get around this:\n",
    "* Sub-sample or bin "
   ]
  },
  {
   "cell_type": "markdown",
   "metadata": {
    "slideshow": {
     "slide_type": "fragment"
    }
   },
   "source": [
    "* Ensure covariance matrix is sparse by construction"
   ]
  },
  {
   "cell_type": "markdown",
   "metadata": {
    "slideshow": {
     "slide_type": "fragment"
    }
   },
   "source": [
    "* Make a low-rank approximation (sparse GP)"
   ]
  },
  {
   "cell_type": "markdown",
   "metadata": {
    "slideshow": {
     "slide_type": "fragment"
    }
   },
   "source": [
    "* Factorize the matrix in a clever way"
   ]
  },
  {
   "cell_type": "markdown",
   "metadata": {
    "slideshow": {
     "slide_type": "slide"
    }
   },
   "source": [
    "### Binning: Spitzer data\n",
    "\n",
    "* Evans et al. (2015) *[A uniform analysis of HD 209458b Spitzer/IRAC light curves with Gaussian process models](http://adsabs.harvard.edu/abs/2015MNRAS.451.5199E)*\n",
    "\n",
    "Also illustrates using logarythmic time $\\tau = \\log(t + h)$ as an input."
   ]
  },
  {
   "cell_type": "markdown",
   "metadata": {
    "hideCode": false,
    "hidePrompt": false,
    "slideshow": {
     "slide_type": "subslide"
    }
   },
   "source": [
    "<img src=\"images/Evans_Spitzer_LC.jpg\" width=\"600\">"
   ]
  },
  {
   "cell_type": "markdown",
   "metadata": {
    "slideshow": {
     "slide_type": "subslide"
    }
   },
   "source": [
    "### Toeplitz covariance matrices\n",
    "\n",
    "If inputs are regularly sampled and kernel depends on input distances only, then $K$ is Toeplitz (constant along each diagonal).\n",
    "\n",
    "Toeplitz matrices can be inverted, and their determinant evaluated in $\\mathcal{O}(N \\log N)$ operations.\n",
    "\n",
    "However, real astronomical datasets rarely have strictly regular sampling (missing data)."
   ]
  },
  {
   "cell_type": "markdown",
   "metadata": {
    "slideshow": {
     "slide_type": "fragment"
    }
   },
   "source": [
    "### Compact support\n",
    "\n",
    "Can define kernel so it is zero beyond some input distance, leading to block-diagonal matrix. Challenge is ensuring positive semi-definiteness."
   ]
  },
  {
   "cell_type": "markdown",
   "metadata": {
    "slideshow": {
     "slide_type": "subslide"
    }
   },
   "source": [
    "### Sparse GPs\n",
    "\n",
    "$\\mathcal{O}(N^3) \\rightarrow \\mathcal{O}(NM^2)$, where user defines $M \\le N$.\n",
    "\n",
    "<img src=\"images/sparse_K.png\" width=\"700\">\n",
    "\n",
    "Low-rank approximation of $K$\n",
    "$$\n",
    "K_{NN} \\approx Q_{NN} = K_{NM} K^{-1}_{MM} K_{MN}\n",
    "$$\n",
    "\n",
    "For full description see e.g. [these slides by James Hensman](http://ml.dcs.shef.ac.uk/gpss/gpss14/talks/sparse_GPs.pdf). "
   ]
  },
  {
   "cell_type": "markdown",
   "metadata": {
    "slideshow": {
     "slide_type": "subslide"
    }
   },
   "source": [
    "### Variational sparse GPs\n",
    "\n",
    "The trick is to \"imagine\" we had an extra set of $M$ observations $\\boldsymbol{u}$ at inputs $\\boldsymbol{Z}$:\n",
    "\n",
    "<img src=\"images/sparse_u.png\" width=\"700\">"
   ]
  },
  {
   "cell_type": "markdown",
   "metadata": {
    "slideshow": {
     "slide_type": "subslide"
    }
   },
   "source": [
    "### Variational sparse GPs\n",
    "\n",
    "$$\n",
    "\\mathrm{p}(\\boldsymbol{y}, \\boldsymbol{f},\\boldsymbol{u}) = \\mathrm{p}(\\boldsymbol{y}\\,|\\,\\boldsymbol{f}) \\,\n",
    "\\mathrm{p}(\\boldsymbol{f}\\,|\\,\\boldsymbol{u}) \\, \\mathrm{p}(\\boldsymbol{u})\n",
    "$$"
   ]
  },
  {
   "cell_type": "markdown",
   "metadata": {
    "slideshow": {
     "slide_type": "fragment"
    }
   },
   "source": [
    "where:\n",
    "$$\n",
    "\\mathrm{p}(\\boldsymbol{y}\\,|\\,\\boldsymbol{f}) = \\mathcal{N}(\\boldsymbol{y}\\,|\\,\\boldsymbol{f},\\sigma^2\\mathbb{I}),\n",
    "$$"
   ]
  },
  {
   "cell_type": "markdown",
   "metadata": {
    "slideshow": {
     "slide_type": "fragment"
    }
   },
   "source": [
    "$$\n",
    "\\mathrm{p}(\\boldsymbol{f}\\,|\\,\\boldsymbol{u}) = \\mathcal{N}(\\boldsymbol{f}\\,|\\,K_{NM} \\, K_{MM}^{-1} \\boldsymbol{u}, K_{NN} - K_{NM} \\, K_{MM}^{-1} \\, K_{MN}),\n",
    "$$"
   ]
  },
  {
   "cell_type": "markdown",
   "metadata": {
    "slideshow": {
     "slide_type": "fragment"
    }
   },
   "source": [
    "$$\n",
    "\\mathrm{p}(\\boldsymbol{u}) = \\mathcal{N}(\\boldsymbol{u}\\,|\\,\\boldsymbol{0},K_{MM}).\n",
    "$$"
   ]
  },
  {
   "cell_type": "markdown",
   "metadata": {
    "slideshow": {
     "slide_type": "subslide"
    }
   },
   "source": [
    "### Variational sparse GPs\n",
    "\n",
    "Then use variational approach to approximate $\\mathrm{p}(\\boldsymbol{y} \\,|\\, \\boldsymbol{u})$, and marginalise $\\boldsymbol{u}$, giving approximate likelihood:\n",
    "\n",
    "$\\tilde{\\mathrm{p}}(\\boldsymbol{y}) = \\mathcal{N}(\\boldsymbol{y}\\,|\\,\\boldsymbol{0},K_{NM} \\, K_{MM}^{-1} \\, K_{MN} + \\sigma^2\\mathbb{I}) \\, $ <font color=\"red\"> $\\exp \\sum_{i=1}^{N} \\left\\{ - \\frac{1}{2 \\sigma^2} \\left( \\boldsymbol{k}_{Mi}^\\mathrm{T} \\, K_{MM}^{-1} \\boldsymbol{k}_{Mi}\\right) \\right\\}$</font>.\n"
   ]
  },
  {
   "cell_type": "markdown",
   "metadata": {
    "slideshow": {
     "slide_type": "fragment"
    }
   },
   "source": [
    "Never need to invert $K_{NN}$."
   ]
  },
  {
   "cell_type": "markdown",
   "metadata": {
    "slideshow": {
     "slide_type": "fragment"
    }
   },
   "source": [
    "Depends only on the covariance function parameters $\\boldsymbol{\\theta}$, and the inducing points $Z$: jointly optimize $\\boldsymbol{\\theta}$ and $Z$."
   ]
  },
  {
   "cell_type": "markdown",
   "metadata": {
    "slideshow": {
     "slide_type": "fragment"
    }
   },
   "source": [
    "This form of sparse GP is implemented in the `GPy` package."
   ]
  },
  {
   "cell_type": "markdown",
   "metadata": {
    "slideshow": {
     "slide_type": "subslide"
    }
   },
   "source": [
    "### Hierarchical Off-Diagonal Low-Rank (HODLR) method\n",
    "\n",
    "* Ambikasaran  et al. (2014): [Fast Direct Methods for Gaussian Processes](https://arxiv.org/pdf/1403.6015.pdf)"
   ]
  },
  {
   "cell_type": "markdown",
   "metadata": {
    "slideshow": {
     "slide_type": "fragment"
    }
   },
   "source": [
    "Write $K = K_{k} \\, K_{k-1} \\, K_{k-2} \\, \\ldots \\, K_1 \\, K_0$,\n",
    "where $K_{k} \\in \\mathbb{R}^{N \\times N}$ is a block-diagonal matrix with $2^k$ diagonal blocks, each of size $N/2^k \\times N/2^k$.\n",
    "\n",
    "<img src=\"images/HODLR1.png\" width=\"400\">"
   ]
  },
  {
   "cell_type": "markdown",
   "metadata": {
    "slideshow": {
     "slide_type": "subslide"
    }
   },
   "source": [
    "### Hierarchical Off-Diagonal Low-Rank (HODLR) method\n",
    "\n",
    "Furthermore, each diagonal block is a low-rank update to the identity matrix\n",
    "\n",
    "<img src=\"images/HODLR2.png\" width=\"400\">"
   ]
  },
  {
   "cell_type": "markdown",
   "metadata": {
    "slideshow": {
     "slide_type": "fragment"
    }
   },
   "source": [
    "This allows evaluating $K^{-1}$ and $|K|$ in $\\mathcal{O}(N \\log^2 N)$, regardless of the number of input dimensions."
   ]
  },
  {
   "cell_type": "markdown",
   "metadata": {
    "slideshow": {
     "slide_type": "slide"
    }
   },
   "source": [
    "## Python packages\n",
    "\n",
    "* [GPy](http://sheffieldml.github.io/GPy): general purpose python GP package from Sheffield ML. \n",
    "\n",
    "Includes sparse GPs using variational approx. \n",
    "\n",
    "High-level modelling and plotting tools."
   ]
  },
  {
   "cell_type": "markdown",
   "metadata": {
    "slideshow": {
     "slide_type": "fragment"
    }
   },
   "source": [
    "* [george](http://dan.iel.fm/george): basic (Cholesky) or HODLR solve, from Dan F-M & co.\n",
    "* [celerite](http://celerite.readthedocs.io): GP regression in \\mathcal{O}(N)) for specific family of (1-D) kernels\n",
    "\n",
    "Both comme with a basic modelling framework (less sophisticated than `GPy`'s).\n",
    "\n",
    "Easy to combine with MCMC using [emcee](http://dan.iel.fm/emcee/current/), or nested sampling using [PyMultiNest](http://johannesbuchner.github.io/PyMultiNest/) "
   ]
  }
 ],
 "metadata": {
  "anaconda-cloud": {},
  "celltoolbar": "Slideshow",
  "hide_code_all_hidden": false,
  "kernelspec": {
   "display_name": "Python 3",
   "language": "python",
   "name": "python3"
  },
  "language_info": {
   "codemirror_mode": {
    "name": "ipython",
    "version": 3
   },
   "file_extension": ".py",
   "mimetype": "text/x-python",
   "name": "python",
   "nbconvert_exporter": "python",
   "pygments_lexer": "ipython3",
   "version": "3.6.2"
  },
  "nbpresent": {
   "slides": {},
   "themes": {
    "default": "a86bdae1-f5f8-41c8-8d03-33324866d981",
    "theme": {
     "72cad74a-f4c5-4868-a59f-a1b18bef32b2": {
      "backgrounds": {
       "backgroundColor": {
        "background-color": "backgroundColor",
        "id": "backgroundColor"
       }
      },
      "id": "72cad74a-f4c5-4868-a59f-a1b18bef32b2",
      "palette": {
       "backgroundColor": {
        "id": "backgroundColor",
        "rgb": [
         0,
         43,
         54
        ]
       },
       "headingColor": {
        "id": "headingColor",
        "rgb": [
         238,
         232,
         213
        ]
       },
       "linkColor": {
        "id": "linkColor",
        "rgb": [
         38,
         139,
         210
        ]
       },
       "mainColor": {
        "id": "mainColor",
        "rgb": [
         147,
         161,
         161
        ]
       }
      },
      "rules": {
       "a": {
        "color": "linkColor"
       },
       "h1": {
        "color": "headingColor",
        "font-family": "Oswald",
        "font-size": 7
       },
       "h2": {
        "color": "headingColor",
        "font-family": "Oswald",
        "font-size": 5
       },
       "h3": {
        "color": "headingColor",
        "font-family": "Oswald",
        "font-size": 3.75
       },
       "h4": {
        "color": "headingColor",
        "font-family": "Oswald",
        "font-size": 3
       },
       "h5": {
        "color": "headingColor",
        "font-family": "Oswald"
       },
       "h6": {
        "color": "headingColor",
        "font-family": "Oswald"
       },
       "h7": {
        "color": "headingColor",
        "font-family": "Oswald"
       },
       "li": {
        "color": "mainColor",
        "font-family": "Lato",
        "font-size": 5
       },
       "p": {
        "color": "mainColor",
        "font-family": "Lato",
        "font-size": 5
       }
      },
      "text-base": {
       "color": "mainColor",
       "font-family": "Lato",
       "font-size": 5
      }
     },
     "a86bdae1-f5f8-41c8-8d03-33324866d981": {
      "backgrounds": {
       "backgroundColor": {
        "background-color": "backgroundColor",
        "id": "backgroundColor"
       }
      },
      "id": "a86bdae1-f5f8-41c8-8d03-33324866d981",
      "palette": {
       "backgroundColor": {
        "id": "backgroundColor",
        "rgb": [
         247,
         251,
         252
        ]
       },
       "headingColor": {
        "id": "headingColor",
        "rgb": [
         51,
         51,
         51
        ]
       },
       "linkColor": {
        "id": "linkColor",
        "rgb": [
         59,
         117,
         158
        ]
       },
       "mainColor": {
        "id": "mainColor",
        "rgb": [
         51,
         51,
         51
        ]
       }
      },
      "rules": {
       "a": {
        "color": "linkColor"
       },
       "h1": {
        "color": "headingColor",
        "font-family": "Quicksand",
        "font-size": 7
       },
       "h2": {
        "color": "headingColor",
        "font-family": "Quicksand",
        "font-size": 5
       },
       "h3": {
        "color": "headingColor",
        "font-family": "Quicksand",
        "font-size": 3.75
       },
       "h4": {
        "color": "headingColor",
        "font-family": "Quicksand",
        "font-size": 3
       },
       "h5": {
        "color": "headingColor",
        "font-family": "Quicksand"
       },
       "h6": {
        "color": "headingColor",
        "font-family": "Quicksand"
       },
       "h7": {
        "color": "headingColor",
        "font-family": "Quicksand"
       },
       "li": {
        "color": "mainColor",
        "font-family": "Open Sans",
        "font-size": 5
       },
       "p": {
        "color": "mainColor",
        "font-family": "Open Sans",
        "font-size": 5
       }
      },
      "text-base": {
       "color": "mainColor",
       "font-family": "Open Sans",
       "font-size": 5
      }
     }
    }
   }
  }
 },
 "nbformat": 4,
 "nbformat_minor": 1
}
